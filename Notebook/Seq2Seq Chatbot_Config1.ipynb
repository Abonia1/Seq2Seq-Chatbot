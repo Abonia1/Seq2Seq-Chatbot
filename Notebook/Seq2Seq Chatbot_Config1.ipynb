{
 "cells": [
  {
   "cell_type": "code",
   "execution_count": 0,
   "metadata": {
    "colab": {},
    "colab_type": "code",
    "id": "UBK-yfZdwsN5"
   },
   "outputs": [],
   "source": [
    "import tensorflow as tf\n",
    "import numpy as np\n",
    "import re\n",
    "import math\n",
    "from tqdm import tqdm\n",
    "import matplotlib.pyplot as plt"
   ]
  },
  {
   "cell_type": "code",
   "execution_count": 0,
   "metadata": {
    "colab": {},
    "colab_type": "code",
    "id": "9UNOGC0Mwwlk"
   },
   "outputs": [],
   "source": [
    "#!wget http://www.cs.cornell.edu/~cristian/data/cornell_movie_dialogs_corpus.zip\n",
    "#!unzip cornell_movie_dialogs_corpus.zip"
   ]
  },
  {
   "cell_type": "code",
   "execution_count": 0,
   "metadata": {
    "colab": {},
    "colab_type": "code",
    "id": "HrQk0g1kwsOE"
   },
   "outputs": [],
   "source": [
    "movie_line = \"cornell movie-dialogs corpus/movie_lines.txt\"\n",
    "movie_convo = \"cornell movie-dialogs corpus/movie_conversations.txt\"\n",
    "\n",
    "m_lines = open(movie_line , encoding='utf-8',errors='ignore').read().split('\\n')\n",
    "c_lines = open(movie_convo , encoding='utf-8',errors='ignore').read().split('\\n')\n",
    "\n",
    "convo_line = []\n",
    "for lines in c_lines:\n",
    "    _lines = lines.split(\" +++$+++ \")[-1][1:-1].replace(\"'\",\"\").replace(\" \",\"\")\n",
    "    convo_line.append(_lines.split(\",\"))\n",
    "\n",
    "id_line = {}\n",
    "for lines in m_lines:\n",
    "    _lines = lines.split(\" +++$+++ \")\n",
    "    if len(_lines) == 5:\n",
    "        id_line[_lines[0]] = _lines[4]\n",
    "\n",
    "questions = []\n",
    "answers = []\n",
    "\n",
    "for line in convo_line:\n",
    "    for i in range(len(line) -1):\n",
    "        questions.append(id_line[line[i]])\n",
    "        answers.append(id_line[line[i+1]])\n",
    "\n",
    "def clean_text(text):\n",
    "    text = text.lower()\n",
    "    \n",
    "    text = re.sub(r\"i'm\", \"i am\", text)\n",
    "    text = re.sub(r\"he's\", \"he is\", text)\n",
    "    text = re.sub(r\"she's\", \"she is\", text)\n",
    "    text = re.sub(r\"it's\", \"it is\", text)\n",
    "    text = re.sub(r\"that's\", \"that is\", text)\n",
    "    text = re.sub(r\"what's\", \"that is\", text)\n",
    "    text = re.sub(r\"where's\", \"where is\", text)\n",
    "    text = re.sub(r\"how's\", \"how is\", text)\n",
    "    text = re.sub(r\"\\'ll\", \" will\", text)\n",
    "    text = re.sub(r\"\\'ve\", \" have\", text)\n",
    "    text = re.sub(r\"\\'re\", \" are\", text)\n",
    "    text = re.sub(r\"\\'d\", \" would\", text)\n",
    "    text = re.sub(r\"\\'re\", \" are\", text)\n",
    "    text = re.sub(r\"won't\", \"will not\", text)\n",
    "    text = re.sub(r\"can't\", \"cannot\", text)\n",
    "    text = re.sub(r\"n't\", \" not\", text)\n",
    "    text = re.sub(r\"n'\", \"ng\", text)\n",
    "    text = re.sub(r\"'bout\", \"about\", text)\n",
    "    text = re.sub(r\"'til\", \"until\", text)\n",
    "    text = re.sub(r\"  \",\"\",text)\n",
    "    text = re.sub(r\"[-()\\\"#/@;:<>{}`+=~|.!?,]\", \"\", text)\n",
    "    \n",
    "    return text\n",
    "\n",
    "clean_questions = []\n",
    "clean_answers = []\n",
    "\n",
    "for q in questions:\n",
    "    clean_questions.append(clean_text(q))\n",
    "for a in answers:\n",
    "    clean_answers.append(clean_text(a))\n",
    "\n",
    "max_length = 5\n",
    "min_length = 2\n",
    "\n",
    "codes = ['<PAD>','<EOS>','<UNK>','<GO>']\n",
    "\n",
    "\n",
    "\n",
    "short_questions_temp = []\n",
    "short_answers_temp = []\n",
    "\n",
    "i = 0\n",
    "for question in clean_questions:\n",
    "    if len(question.split()) >= min_length and len(question.split()) <= max_length:\n",
    "        short_questions_temp.append(question)\n",
    "        short_answers_temp.append(clean_answers[i])\n",
    "    i += 1\n",
    "\n",
    "# Filter out the answers that are too short/long\n",
    "shorted_q = []\n",
    "shorted_a = []\n",
    "\n",
    "i = 0\n",
    "for answer in short_answers_temp:\n",
    "    if len(answer.split()) >= min_length and len(answer.split()) <= max_length:\n",
    "        shorted_a.append(answer)\n",
    "        shorted_q.append(short_questions_temp[i])\n",
    "    i += 1\n",
    "   \n",
    "  \n",
    "\n",
    "  \n",
    "vocab = {}\n",
    "\n",
    "for question in shorted_q:\n",
    "    for words in question.split():\n",
    "        if words not in vocab:\n",
    "            vocab[words] = 1\n",
    "        else:\n",
    "            vocab[words] +=1\n",
    "for answer in shorted_a:\n",
    "    for words in answer.split():\n",
    "        if words not in vocab:\n",
    "            vocab[words] = 1\n",
    "        else:\n",
    "            vocab[words] +=1\n",
    "            \n",
    "questions_vocabs = {}\n",
    "for answer in shorted_q:\n",
    "    for words in answer.split():\n",
    "        if words not in questions_vocabs:\n",
    "            questions_vocabs[words] = 1\n",
    "        else:\n",
    "            questions_vocabs[words] +=1\n",
    "            \n",
    "answers_vocabs = {}\n",
    "for answer in shorted_a:\n",
    "    for words in answer.split():\n",
    "        if words not in answers_vocabs:\n",
    "            answers_vocabs[words] = 1\n",
    "        else:\n",
    "            answers_vocabs[words] +=1\n",
    "\n",
    "vocabs_to_index = {}\n",
    "threshold = 2\n",
    "word_num = 0\n",
    "for word, count in vocab.items():\n",
    "    if count >= threshold:\n",
    "        vocabs_to_index[word] = word_num\n",
    "        word_num += 1\n",
    "        \n",
    "\n",
    "for code in codes:\n",
    "    vocabs_to_index[code] = len(vocabs_to_index)+1\n",
    "    \n",
    "for code in codes:\n",
    "    questions_vocabs[code] = len(questions_vocabs)+1\n",
    "\n",
    "for code in codes:\n",
    "    answers_vocabs[code] = len(answers_vocabs)+1\n",
    "\n",
    "    \n",
    "index_to_vocabs = {v_i: v for v, v_i in vocabs_to_index.items()}\n",
    "\n",
    "for i in range(len(shorted_a)):\n",
    "  shorted_a[i] += ' <EOS>'\n",
    "  \n",
    "questions_int = []\n",
    "for question in shorted_q:\n",
    "    ints = []\n",
    "    for word in question.split():\n",
    "        if word not in vocabs_to_index:\n",
    "            ints.append(vocabs_to_index['<UNK>'])\n",
    "        else:\n",
    "            ints.append(vocabs_to_index[word])\n",
    "    questions_int.append(ints)\n",
    "    \n",
    "answers_int = []\n",
    "for answer in shorted_a:\n",
    "    ints = []\n",
    "    for word in answer.split():\n",
    "        if word not in vocabs_to_index:\n",
    "            ints.append(vocabs_to_index['<UNK>'])\n",
    "        else:\n",
    "            ints.append(vocabs_to_index[word])\n",
    "    answers_int.append(ints)\n"
   ]
  },
  {
   "cell_type": "code",
   "execution_count": 4,
   "metadata": {
    "colab": {
     "base_uri": "https://localhost:8080/",
     "height": 85
    },
    "colab_type": "code",
    "id": "X0o_V2ofuDrk",
    "outputId": "6c12c65f-7cdd-4bad-f0de-b2ee693b1b63"
   },
   "outputs": [
    {
     "name": "stdout",
     "output_type": "stream",
     "text": [
      "6283\n",
      "6284\n",
      "6285\n",
      "6286\n"
     ]
    }
   ],
   "source": [
    "for code in codes:\n",
    "  print(vocabs_to_index[code])"
   ]
  },
  {
   "cell_type": "code",
   "execution_count": 0,
   "metadata": {
    "colab": {},
    "colab_type": "code",
    "id": "lHBhX_UMwsOH"
   },
   "outputs": [],
   "source": [
    "target_vocab_size = len(answers_vocabs)\n",
    "source_vocab_size = len(questions_vocabs)\n",
    "vocab_size = len(index_to_vocabs)+1\n",
    "embed_size = 128\n",
    "rnn_size = 128\n",
    "batch_size = 128\n",
    "num_layers = 2 \n",
    "learning_rate = 0.001\n",
    "learning_rate_decay = 0.9\n",
    "min_lr = 0.0001\n",
    "#keep_prob = 0.5\n",
    "epochs=500\n",
    "DISPLAY_STEP=30"
   ]
  },
  {
   "cell_type": "code",
   "execution_count": 0,
   "metadata": {
    "colab": {},
    "colab_type": "code",
    "id": "e2Dg_dItwsOJ"
   },
   "outputs": [],
   "source": [
    "def lstm(rnn_size, keep_prob,reuse=False):\n",
    "    lstm =tf.nn.rnn_cell.LSTMCell(rnn_size,reuse=reuse)\n",
    "    drop =tf.nn.rnn_cell.DropoutWrapper(lstm, output_keep_prob=keep_prob)\n",
    "    return drop"
   ]
  },
  {
   "cell_type": "code",
   "execution_count": 0,
   "metadata": {
    "colab": {},
    "colab_type": "code",
    "id": "zTsNF75pwsOL"
   },
   "outputs": [],
   "source": [
    "def attention(rnn_size,encoder_outputs,target_sequence_length,dec_cell):\n",
    "    attention_mechanism = tf.contrib.seq2seq.BahdanauAttention(rnn_size*2,encoder_outputs,\n",
    "                                                                   memory_sequence_length=target_sequence_length)\n",
    "    attention_cell = tf.contrib.seq2seq.AttentionWrapper(dec_cell, attention_mechanism,\n",
    "                                                             attention_layer_size=rnn_size/2)\n",
    "    return attention_cell"
   ]
  },
  {
   "cell_type": "code",
   "execution_count": 0,
   "metadata": {
    "colab": {},
    "colab_type": "code",
    "id": "BcGIjHaBwsON"
   },
   "outputs": [],
   "source": [
    "input_data = tf.placeholder(tf.int32, [None, None],name='input')\n",
    "target_data = tf.placeholder(tf.int32, [None, None],name='target')\n",
    "input_data_len = tf.placeholder(tf.int32,[None],name='input_len')\n",
    "target_data_len = tf.placeholder(tf.int32,[None],name='target_len')\n",
    "lr_rate = tf.placeholder(tf.float32,name='lr')\n",
    "keep_prob = tf.placeholder(tf.float32,name='keep_prob')"
   ]
  },
  {
   "cell_type": "code",
   "execution_count": 9,
   "metadata": {
    "colab": {
     "base_uri": "https://localhost:8080/",
     "height": 88
    },
    "colab_type": "code",
    "id": "z7TNblfPwsOQ",
    "outputId": "c87b1f0d-00e1-4f90-ce76-75356864c0af"
   },
   "outputs": [
    {
     "name": "stdout",
     "output_type": "stream",
     "text": [
      "WARNING:tensorflow:From /usr/local/lib/python3.6/dist-packages/tensorflow/python/framework/op_def_library.py:263: colocate_with (from tensorflow.python.framework.ops) is deprecated and will be removed in a future version.\n",
      "Instructions for updating:\n",
      "Colocations handled automatically by placer.\n"
     ]
    }
   ],
   "source": [
    "encoder_embeddings = tf.Variable(tf.random_uniform([source_vocab_size, embed_size], -1, 1))\n",
    "encoder_embedded = tf.nn.embedding_lookup(encoder_embeddings, input_data)"
   ]
  },
  {
   "cell_type": "code",
   "execution_count": 10,
   "metadata": {
    "colab": {
     "base_uri": "https://localhost:8080/",
     "height": 88
    },
    "colab_type": "code",
    "id": "Gag764m8wsOa",
    "outputId": "e792c91a-5ee8-432e-c09c-ca76978fb14c"
   },
   "outputs": [
    {
     "name": "stdout",
     "output_type": "stream",
     "text": [
      "WARNING:tensorflow:From <ipython-input-6-477ce5ee2f51>:2: LSTMCell.__init__ (from tensorflow.python.ops.rnn_cell_impl) is deprecated and will be removed in a future version.\n",
      "Instructions for updating:\n",
      "This class is equivalent as tf.keras.layers.LSTMCell, and will be replaced by that in Tensorflow 2.0.\n"
     ]
    }
   ],
   "source": [
    "stacked_cells = lstm(rnn_size, keep_prob)"
   ]
  },
  {
   "cell_type": "code",
   "execution_count": 11,
   "metadata": {
    "colab": {
     "base_uri": "https://localhost:8080/",
     "height": 241
    },
    "colab_type": "code",
    "id": "LVt0hjBzwsOg",
    "outputId": "41ea5d68-dfc4-48c4-c010-4e13ec80e85e"
   },
   "outputs": [
    {
     "name": "stdout",
     "output_type": "stream",
     "text": [
      "WARNING:tensorflow:From <ipython-input-11-575f162a5a91>:6: bidirectional_dynamic_rnn (from tensorflow.python.ops.rnn) is deprecated and will be removed in a future version.\n",
      "Instructions for updating:\n",
      "Please use `keras.layers.Bidirectional(keras.layers.RNN(cell))`, which is equivalent to this API\n",
      "WARNING:tensorflow:From /usr/local/lib/python3.6/dist-packages/tensorflow/python/ops/rnn.py:443: dynamic_rnn (from tensorflow.python.ops.rnn) is deprecated and will be removed in a future version.\n",
      "Instructions for updating:\n",
      "Please use `keras.layers.RNN(cell)`, which is equivalent to this API\n",
      "WARNING:tensorflow:From /usr/local/lib/python3.6/dist-packages/tensorflow/python/ops/rnn.py:626: to_int32 (from tensorflow.python.ops.math_ops) is deprecated and will be removed in a future version.\n",
      "Instructions for updating:\n",
      "Use tf.cast instead.\n",
      "WARNING:tensorflow:From /usr/local/lib/python3.6/dist-packages/tensorflow/python/ops/rnn_cell_impl.py:1259: calling dropout (from tensorflow.python.ops.nn_ops) with keep_prob is deprecated and will be removed in a future version.\n",
      "Instructions for updating:\n",
      "Please use `rate` instead of `keep_prob`. Rate should be set to `rate = 1 - keep_prob`.\n"
     ]
    }
   ],
   "source": [
    "((encoder_fw_outputs,encoder_bw_outputs),\n",
    " (encoder_fw_final_state,encoder_bw_final_state)) = tf.nn.bidirectional_dynamic_rnn(cell_fw=stacked_cells, \n",
    "                                                                 cell_bw=stacked_cells, \n",
    "                                                                 inputs=encoder_embedded, \n",
    "                                                                 sequence_length=input_data_len, \n",
    "                                                                 dtype=tf.float32)"
   ]
  },
  {
   "cell_type": "code",
   "execution_count": 0,
   "metadata": {
    "colab": {},
    "colab_type": "code",
    "id": "QVKq1wurwsOm"
   },
   "outputs": [],
   "source": [
    "encoder_outputs = tf.concat((encoder_fw_outputs,encoder_bw_outputs),2)"
   ]
  },
  {
   "cell_type": "code",
   "execution_count": 13,
   "metadata": {
    "colab": {
     "base_uri": "https://localhost:8080/",
     "height": 34
    },
    "colab_type": "code",
    "id": "XvdjQBE6wsOp",
    "outputId": "faa12e85-2410-461b-c558-252534f50e59"
   },
   "outputs": [
    {
     "data": {
      "text/plain": [
       "<tf.Tensor 'concat:0' shape=(?, ?, 256) dtype=float32>"
      ]
     },
     "execution_count": 13,
     "metadata": {
      "tags": []
     },
     "output_type": "execute_result"
    }
   ],
   "source": [
    "encoder_outputs"
   ]
  },
  {
   "cell_type": "code",
   "execution_count": 0,
   "metadata": {
    "colab": {},
    "colab_type": "code",
    "id": "QsFapqt-wsOt"
   },
   "outputs": [],
   "source": [
    "encoder_state_c = tf.concat((encoder_fw_final_state.c,encoder_bw_final_state.c),1)\n",
    "encoder_state_h = tf.concat((encoder_fw_final_state.h,encoder_bw_final_state.h),1)\n",
    "encoder_states = tf.nn.rnn_cell.LSTMStateTuple(c=encoder_state_c,h=encoder_state_h)"
   ]
  },
  {
   "cell_type": "code",
   "execution_count": 15,
   "metadata": {
    "colab": {
     "base_uri": "https://localhost:8080/",
     "height": 34
    },
    "colab_type": "code",
    "id": "8qEgz1PdwsOv",
    "outputId": "28b5617f-64ef-4781-9df0-0e9077ac606e"
   },
   "outputs": [
    {
     "data": {
      "text/plain": [
       "LSTMStateTuple(c=<tf.Tensor 'concat_1:0' shape=(?, 256) dtype=float32>, h=<tf.Tensor 'concat_2:0' shape=(?, 256) dtype=float32>)"
      ]
     },
     "execution_count": 15,
     "metadata": {
      "tags": []
     },
     "output_type": "execute_result"
    }
   ],
   "source": [
    "encoder_states"
   ]
  },
  {
   "cell_type": "code",
   "execution_count": 0,
   "metadata": {
    "colab": {},
    "colab_type": "code",
    "id": "ecXG9168wsOz"
   },
   "outputs": [],
   "source": [
    "main = tf.strided_slice(target_data, [0, 0], [batch_size, -1], [1, 1])\n",
    "decoder_input = tf.concat([tf.fill([batch_size, 1],vocabs_to_index['<GO>']), main], 1)"
   ]
  },
  {
   "cell_type": "code",
   "execution_count": 0,
   "metadata": {
    "colab": {},
    "colab_type": "code",
    "id": "UAvG9wW1wsO3"
   },
   "outputs": [],
   "source": [
    "decoder_embeddings = tf.Variable(tf.random_uniform([target_vocab_size, embed_size], -1, 1))\n",
    "dec_cell_inputs = tf.nn.embedding_lookup(decoder_embeddings, decoder_input)"
   ]
  },
  {
   "cell_type": "code",
   "execution_count": 0,
   "metadata": {
    "colab": {},
    "colab_type": "code",
    "id": "B3N5JtvZwsO8"
   },
   "outputs": [],
   "source": [
    "dec_cell = lstm(rnn_size*2,keep_prob)"
   ]
  },
  {
   "cell_type": "code",
   "execution_count": 19,
   "metadata": {
    "colab": {
     "base_uri": "https://localhost:8080/",
     "height": 34
    },
    "colab_type": "code",
    "id": "nfmoMirUwsO_",
    "outputId": "13b6928a-1b8b-43a4-ed8e-9331978bc2b8"
   },
   "outputs": [
    {
     "data": {
      "text/plain": [
       "<tensorflow.python.ops.rnn_cell_impl.DropoutWrapper at 0x7f8a168e65f8>"
      ]
     },
     "execution_count": 19,
     "metadata": {
      "tags": []
     },
     "output_type": "execute_result"
    }
   ],
   "source": [
    "dec_cell"
   ]
  },
  {
   "cell_type": "code",
   "execution_count": 0,
   "metadata": {
    "colab": {},
    "colab_type": "code",
    "id": "ZyZQ2NR6wsPC"
   },
   "outputs": [],
   "source": [
    "dense_layer = tf.layers.Dense(target_vocab_size)"
   ]
  },
  {
   "cell_type": "code",
   "execution_count": 21,
   "metadata": {
    "colab": {
     "base_uri": "https://localhost:8080/",
     "height": 136
    },
    "colab_type": "code",
    "id": "TR4iLAuDwsPJ",
    "outputId": "a9baafc5-193e-4cc2-9762-31c4174f76e0"
   },
   "outputs": [
    {
     "name": "stdout",
     "output_type": "stream",
     "text": [
      "\n",
      "WARNING: The TensorFlow contrib module will not be included in TensorFlow 2.0.\n",
      "For more information, please see:\n",
      "  * https://github.com/tensorflow/community/blob/master/rfcs/20180907-contrib-sunset.md\n",
      "  * https://github.com/tensorflow/addons\n",
      "If you depend on functionality not listed there, please file an issue.\n",
      "\n"
     ]
    }
   ],
   "source": [
    "train_helper = tf.contrib.seq2seq.TrainingHelper(dec_cell_inputs, target_data_len)"
   ]
  },
  {
   "cell_type": "code",
   "execution_count": 0,
   "metadata": {
    "colab": {},
    "colab_type": "code",
    "id": "5FJBKKGywsPN"
   },
   "outputs": [],
   "source": [
    "attention_cell = attention(rnn_size,encoder_outputs,target_data_len,dec_cell)\n",
    "state = attention_cell.zero_state(dtype=tf.float32, batch_size=batch_size)\n",
    "state = state.clone(cell_state=encoder_states)"
   ]
  },
  {
   "cell_type": "code",
   "execution_count": 0,
   "metadata": {
    "colab": {},
    "colab_type": "code",
    "id": "BMXJ5P_9wsPP"
   },
   "outputs": [],
   "source": [
    "decoder_train = tf.contrib.seq2seq.BasicDecoder(cell=attention_cell, helper=train_helper, \n",
    "                                                  initial_state=state,\n",
    "                                                  output_layer=dense_layer) "
   ]
  },
  {
   "cell_type": "code",
   "execution_count": 0,
   "metadata": {
    "colab": {},
    "colab_type": "code",
    "id": "8Vcsu2S0wsPR"
   },
   "outputs": [],
   "source": [
    "outputs_train, _, _ = tf.contrib.seq2seq.dynamic_decode(decoder_train, \n",
    "                                                  impute_finished=True, \n",
    "                                                  maximum_iterations=tf.reduce_max(target_data_len))"
   ]
  },
  {
   "cell_type": "code",
   "execution_count": 0,
   "metadata": {
    "colab": {},
    "colab_type": "code",
    "id": "Jf02Hu8ewsPV"
   },
   "outputs": [],
   "source": [
    "infer_helper = tf.contrib.seq2seq.GreedyEmbeddingHelper(decoder_embeddings, \n",
    "                                                          tf.fill([batch_size], vocabs_to_index['<GO>']), \n",
    "                                                          vocabs_to_index['<EOS>'])"
   ]
  },
  {
   "cell_type": "code",
   "execution_count": 0,
   "metadata": {
    "colab": {},
    "colab_type": "code",
    "id": "KUcM6qQOwsPX"
   },
   "outputs": [],
   "source": [
    "decoder_infer = tf.contrib.seq2seq.BasicDecoder(cell=attention_cell, helper=infer_helper, \n",
    "                                                  initial_state=state,\n",
    "                                                  output_layer=dense_layer)"
   ]
  },
  {
   "cell_type": "code",
   "execution_count": 0,
   "metadata": {
    "colab": {},
    "colab_type": "code",
    "id": "pq0kpF-BwsPY"
   },
   "outputs": [],
   "source": [
    "outputs_infer, _, _ = tf.contrib.seq2seq.dynamic_decode(decoder_infer, impute_finished=True,\n",
    "                                                          maximum_iterations=tf.reduce_max(target_data_len))"
   ]
  },
  {
   "cell_type": "code",
   "execution_count": 0,
   "metadata": {
    "colab": {},
    "colab_type": "code",
    "id": "D7e00xllwsPb"
   },
   "outputs": [],
   "source": [
    "training_logits = tf.identity(outputs_train.rnn_output, name='logits')\n",
    "inference_logits = tf.identity(outputs_infer.sample_id, name='predictions')"
   ]
  },
  {
   "cell_type": "code",
   "execution_count": 0,
   "metadata": {
    "colab": {},
    "colab_type": "code",
    "id": "pCczbxr-wsPd"
   },
   "outputs": [],
   "source": [
    "masks = tf.sequence_mask(target_data_len, tf.reduce_max(target_data_len), dtype=tf.float32, name='masks')"
   ]
  },
  {
   "cell_type": "code",
   "execution_count": 0,
   "metadata": {
    "colab": {},
    "colab_type": "code",
    "id": "txKobnLEwsPf"
   },
   "outputs": [],
   "source": [
    "cost = tf.contrib.seq2seq.sequence_loss(training_logits,target_data,masks)"
   ]
  },
  {
   "cell_type": "code",
   "execution_count": 0,
   "metadata": {
    "colab": {},
    "colab_type": "code",
    "id": "wsg4xpVIwsPi"
   },
   "outputs": [],
   "source": [
    "optimizer = tf.train.AdamOptimizer(lr_rate)"
   ]
  },
  {
   "cell_type": "code",
   "execution_count": 0,
   "metadata": {
    "colab": {},
    "colab_type": "code",
    "id": "jcrBNbOFwsPk"
   },
   "outputs": [],
   "source": [
    "gradients = optimizer.compute_gradients(cost)\n",
    "capped_gradients = [(tf.clip_by_value(grad, -1., 1.), var) for grad, var in gradients if grad is not None]\n",
    "train_op = optimizer.apply_gradients(capped_gradients)"
   ]
  },
  {
   "cell_type": "code",
   "execution_count": 0,
   "metadata": {
    "colab": {},
    "colab_type": "code",
    "id": "Hy8u3-bjwsPo"
   },
   "outputs": [],
   "source": [
    "def pad_sentence(sentence_batch, pad_int):\n",
    "    padded_seqs = []\n",
    "    seq_lens = []\n",
    "    max_sentence_len = max([len(sentence) for sentence in sentence_batch])\n",
    "    for sentence in sentence_batch:\n",
    "        padded_seqs.append(sentence + [pad_int] * (max_sentence_len - len(sentence)))\n",
    "        seq_lens.append(len(sentence))\n",
    "    return padded_seqs, seq_lens\n"
   ]
  },
  {
   "cell_type": "code",
   "execution_count": 0,
   "metadata": {
    "colab": {},
    "colab_type": "code",
    "id": "SgVkMCsmwsPq"
   },
   "outputs": [],
   "source": [
    "def get_accuracy(target, logits):\n",
    "    max_seq = max(len(target[1]), logits.shape[1])\n",
    "    if max_seq - len(target[1]):\n",
    "        target = np.pad(\n",
    "            target,\n",
    "            [(0,0),(0,max_seq - len(target[1]))],\n",
    "            'constant')\n",
    "    if max_seq - logits.shape[1]:\n",
    "        logits = np.pad(\n",
    "            logits,\n",
    "            [(0,0),(0,max_seq - logits.shape[1])],\n",
    "            'constant')\n",
    "\n",
    "    return np.mean(np.equal(target, logits))"
   ]
  },
  {
   "cell_type": "code",
   "execution_count": 0,
   "metadata": {
    "colab": {},
    "colab_type": "code",
    "id": "V8oeeDm-wsPr"
   },
   "outputs": [],
   "source": [
    "train_data = questions_int[batch_size:]\n",
    "test_data = answers_int[batch_size:]\n",
    "val_train_data = questions_int[:batch_size]\n",
    "val_test_data = answers_int[:batch_size]"
   ]
  },
  {
   "cell_type": "code",
   "execution_count": 36,
   "metadata": {
    "colab": {
     "base_uri": "https://localhost:8080/",
     "height": 34
    },
    "colab_type": "code",
    "id": "MQ-XF1liwsPu",
    "outputId": "40994dc8-d3b9-4e62-ba9c-3a05e922628a"
   },
   "outputs": [
    {
     "data": {
      "text/plain": [
       "22992"
      ]
     },
     "execution_count": 36,
     "metadata": {
      "tags": []
     },
     "output_type": "execute_result"
    }
   ],
   "source": [
    "len(train_data)"
   ]
  },
  {
   "cell_type": "code",
   "execution_count": 0,
   "metadata": {
    "colab": {},
    "colab_type": "code",
    "id": "tsSesPuRwsPw"
   },
   "outputs": [],
   "source": [
    "pad_int = vocabs_to_index['<PAD>']"
   ]
  },
  {
   "cell_type": "code",
   "execution_count": 0,
   "metadata": {
    "colab": {},
    "colab_type": "code",
    "id": "9-KGHuRrwsPz"
   },
   "outputs": [],
   "source": [
    "val_batch_x,val_batch_len = pad_sentence(val_train_data,pad_int)\n",
    "val_batch_y,val_batch_len_y = pad_sentence(val_test_data,pad_int)\n",
    "val_batch_x = np.array(val_batch_x)\n",
    "val_batch_y = np.array(val_batch_y)"
   ]
  },
  {
   "cell_type": "code",
   "execution_count": 0,
   "metadata": {
    "colab": {},
    "colab_type": "code",
    "id": "CzX0zA7zwsP2"
   },
   "outputs": [],
   "source": [
    "no_of_batches = math.floor(len(train_data)//batch_size)\n",
    "round_no = no_of_batches*batch_size"
   ]
  },
  {
   "cell_type": "code",
   "execution_count": 0,
   "metadata": {
    "colab": {},
    "colab_type": "code",
    "id": "ZRU2wtsAgV2q"
   },
   "outputs": [],
   "source": [
    "def sentence_to_seq(sentence, vocabs_to_index):\n",
    "    results = []\n",
    "    for word in sentence.split(\" \"):\n",
    "        if word in vocabs_to_index:\n",
    "            results.append(vocabs_to_index[word])\n",
    "        else:\n",
    "            results.append(vocabs_to_index['<UNK>'])        \n",
    "    return results"
   ]
  },
  {
   "cell_type": "code",
   "execution_count": 0,
   "metadata": {
    "colab": {},
    "colab_type": "code",
    "id": "N0gSiLvygZVH"
   },
   "outputs": [],
   "source": [
    "question_sentence = 'how are you'\n",
    "question_sentence = sentence_to_seq(question_sentence, vocabs_to_index)\n",
    "print(question_sentence)"
   ]
  },
  {
   "cell_type": "code",
   "execution_count": 42,
   "metadata": {
    "colab": {
     "base_uri": "https://localhost:8080/",
     "height": 51017
    },
    "colab_type": "code",
    "id": "3T3wGVUEwsP5",
    "outputId": "aa9a1f50-72eb-4fa1-b1f5-cddfec4376e0",
    "scrolled": true
   },
   "outputs": [
    {
     "name": "stderr",
     "output_type": "stream",
     "text": [
      "100%|██████████| 179/179 [00:07<00:00, 24.56it/s]\n"
     ]
    },
    {
     "name": "stdout",
     "output_type": "stream",
     "text": [
      "Epoch 1,Average_loss 5.417999, Average Accucracy 0.036022\n",
      "  Inputs Words: ['how', 'are', 'you']\n",
      "  Replied Words: i <UNK> <EOS>\n",
      "\n",
      "\n"
     ]
    },
    {
     "name": "stderr",
     "output_type": "stream",
     "text": [
      "100%|██████████| 179/179 [00:07<00:00, 23.96it/s]\n"
     ]
    },
    {
     "name": "stdout",
     "output_type": "stream",
     "text": [
      "Epoch 2,Average_loss 4.644927, Average Accucracy 0.099322\n",
      "  Inputs Words: ['how', 'are', 'you']\n",
      "  Replied Words: i know <EOS>\n",
      "\n",
      "\n"
     ]
    },
    {
     "name": "stderr",
     "output_type": "stream",
     "text": [
      "100%|██████████| 179/179 [00:07<00:00, 23.91it/s]\n"
     ]
    },
    {
     "name": "stdout",
     "output_type": "stream",
     "text": [
      "Epoch 3,Average_loss 4.380583, Average Accucracy 0.126186\n",
      "  Inputs Words: ['how', 'are', 'you']\n",
      "  Replied Words: i am <EOS>\n",
      "\n",
      "\n"
     ]
    },
    {
     "name": "stderr",
     "output_type": "stream",
     "text": [
      "100%|██████████| 179/179 [00:07<00:00, 23.38it/s]\n"
     ]
    },
    {
     "name": "stdout",
     "output_type": "stream",
     "text": [
      "Epoch 4,Average_loss 4.209874, Average Accucracy 0.137548\n",
      "  Inputs Words: ['how', 'are', 'you']\n",
      "  Replied Words: i am <EOS>\n",
      "\n",
      "\n"
     ]
    },
    {
     "name": "stderr",
     "output_type": "stream",
     "text": [
      "100%|██████████| 179/179 [00:07<00:00, 23.31it/s]\n"
     ]
    },
    {
     "name": "stdout",
     "output_type": "stream",
     "text": [
      "Epoch 5,Average_loss 4.074714, Average Accucracy 0.145993\n",
      "  Inputs Words: ['how', 'are', 'you']\n",
      "  Replied Words: i am <EOS>\n",
      "\n",
      "\n"
     ]
    },
    {
     "name": "stderr",
     "output_type": "stream",
     "text": [
      "100%|██████████| 179/179 [00:07<00:00, 23.26it/s]\n"
     ]
    },
    {
     "name": "stdout",
     "output_type": "stream",
     "text": [
      "Epoch 6,Average_loss 3.972067, Average Accucracy 0.148088\n",
      "  Inputs Words: ['how', 'are', 'you']\n",
      "  Replied Words: <UNK> <UNK> <EOS>\n",
      "\n",
      "\n"
     ]
    },
    {
     "name": "stderr",
     "output_type": "stream",
     "text": [
      "100%|██████████| 179/179 [00:07<00:00, 23.07it/s]\n"
     ]
    },
    {
     "name": "stdout",
     "output_type": "stream",
     "text": [
      "Epoch 7,Average_loss 3.877258, Average Accucracy 0.152787\n",
      "  Inputs Words: ['how', 'are', 'you']\n",
      "  Replied Words: <UNK> <UNK> <EOS>\n",
      "\n",
      "\n"
     ]
    },
    {
     "name": "stderr",
     "output_type": "stream",
     "text": [
      "100%|██████████| 179/179 [00:07<00:00, 22.93it/s]\n"
     ]
    },
    {
     "name": "stdout",
     "output_type": "stream",
     "text": [
      "Epoch 8,Average_loss 3.790556, Average Accucracy 0.156199\n",
      "  Inputs Words: ['how', 'are', 'you']\n",
      "  Replied Words: i am <EOS>\n",
      "\n",
      "\n"
     ]
    },
    {
     "name": "stderr",
     "output_type": "stream",
     "text": [
      "100%|██████████| 179/179 [00:07<00:00, 22.77it/s]\n"
     ]
    },
    {
     "name": "stdout",
     "output_type": "stream",
     "text": [
      "Epoch 9,Average_loss 3.707058, Average Accucracy 0.157603\n",
      "  Inputs Words: ['how', 'are', 'you']\n",
      "  Replied Words: <UNK> <UNK> <EOS>\n",
      "\n",
      "\n"
     ]
    },
    {
     "name": "stderr",
     "output_type": "stream",
     "text": [
      "100%|██████████| 179/179 [00:07<00:00, 22.93it/s]\n"
     ]
    },
    {
     "name": "stdout",
     "output_type": "stream",
     "text": [
      "Epoch 10,Average_loss 3.633577, Average Accucracy 0.158287\n",
      "  Inputs Words: ['how', 'are', 'you']\n",
      "  Replied Words: <UNK> <UNK> <EOS>\n",
      "\n",
      "\n"
     ]
    },
    {
     "name": "stderr",
     "output_type": "stream",
     "text": [
      "100%|██████████| 179/179 [00:07<00:00, 22.96it/s]\n"
     ]
    },
    {
     "name": "stdout",
     "output_type": "stream",
     "text": [
      "Epoch 11,Average_loss 3.553715, Average Accucracy 0.162586\n",
      "  Inputs Words: ['how', 'are', 'you']\n",
      "  Replied Words: <UNK> <UNK> <EOS>\n",
      "\n",
      "\n"
     ]
    },
    {
     "name": "stderr",
     "output_type": "stream",
     "text": [
      "100%|██████████| 179/179 [00:07<00:00, 22.68it/s]\n"
     ]
    },
    {
     "name": "stdout",
     "output_type": "stream",
     "text": [
      "Epoch 12,Average_loss 3.474486, Average Accucracy 0.164644\n",
      "  Inputs Words: ['how', 'are', 'you']\n",
      "  Replied Words: <UNK> <UNK> <EOS>\n",
      "\n",
      "\n"
     ]
    },
    {
     "name": "stderr",
     "output_type": "stream",
     "text": [
      "100%|██████████| 179/179 [00:07<00:00, 22.83it/s]\n"
     ]
    },
    {
     "name": "stdout",
     "output_type": "stream",
     "text": [
      "Epoch 13,Average_loss 3.395919, Average Accucracy 0.166769\n",
      "  Inputs Words: ['how', 'are', 'you']\n",
      "  Replied Words: i am <EOS>\n",
      "\n",
      "\n"
     ]
    },
    {
     "name": "stderr",
     "output_type": "stream",
     "text": [
      "100%|██████████| 179/179 [00:07<00:00, 22.50it/s]\n"
     ]
    },
    {
     "name": "stdout",
     "output_type": "stream",
     "text": [
      "Epoch 14,Average_loss 3.317143, Average Accucracy 0.167780\n",
      "  Inputs Words: ['how', 'are', 'you']\n",
      "  Replied Words: <UNK> <UNK> <EOS>\n",
      "\n",
      "\n"
     ]
    },
    {
     "name": "stderr",
     "output_type": "stream",
     "text": [
      "100%|██████████| 179/179 [00:07<00:00, 23.12it/s]\n"
     ]
    },
    {
     "name": "stdout",
     "output_type": "stream",
     "text": [
      "Epoch 15,Average_loss 3.240579, Average Accucracy 0.169409\n",
      "  Inputs Words: ['how', 'are', 'you']\n",
      "  Replied Words: fine fine <EOS>\n",
      "\n",
      "\n"
     ]
    },
    {
     "name": "stderr",
     "output_type": "stream",
     "text": [
      "100%|██████████| 179/179 [00:07<00:00, 22.84it/s]\n"
     ]
    },
    {
     "name": "stdout",
     "output_type": "stream",
     "text": [
      "Epoch 16,Average_loss 3.165886, Average Accucracy 0.172122\n",
      "  Inputs Words: ['how', 'are', 'you']\n",
      "  Replied Words: fine fine <EOS>\n",
      "\n",
      "\n"
     ]
    },
    {
     "name": "stderr",
     "output_type": "stream",
     "text": [
      "100%|██████████| 179/179 [00:07<00:00, 22.88it/s]\n"
     ]
    },
    {
     "name": "stdout",
     "output_type": "stream",
     "text": [
      "Epoch 17,Average_loss 3.090934, Average Accucracy 0.174537\n",
      "  Inputs Words: ['how', 'are', 'you']\n",
      "  Replied Words: <UNK> <UNK> <EOS>\n",
      "\n",
      "\n"
     ]
    },
    {
     "name": "stderr",
     "output_type": "stream",
     "text": [
      "100%|██████████| 179/179 [00:07<00:00, 22.85it/s]\n"
     ]
    },
    {
     "name": "stdout",
     "output_type": "stream",
     "text": [
      "Epoch 18,Average_loss 3.014524, Average Accucracy 0.178684\n",
      "  Inputs Words: ['how', 'are', 'you']\n",
      "  Replied Words: <UNK> kent <EOS>\n",
      "\n",
      "\n"
     ]
    },
    {
     "name": "stderr",
     "output_type": "stream",
     "text": [
      "100%|██████████| 179/179 [00:07<00:00, 22.70it/s]\n"
     ]
    },
    {
     "name": "stdout",
     "output_type": "stream",
     "text": [
      "Epoch 19,Average_loss 2.937554, Average Accucracy 0.181375\n",
      "  Inputs Words: ['how', 'are', 'you']\n",
      "  Replied Words: fine fine <EOS>\n",
      "\n",
      "\n"
     ]
    },
    {
     "name": "stderr",
     "output_type": "stream",
     "text": [
      "100%|██████████| 179/179 [00:07<00:00, 22.78it/s]\n"
     ]
    },
    {
     "name": "stdout",
     "output_type": "stream",
     "text": [
      "Epoch 20,Average_loss 2.867149, Average Accucracy 0.184859\n",
      "  Inputs Words: ['how', 'are', 'you']\n",
      "  Replied Words: <UNK> <UNK> <EOS>\n",
      "\n",
      "\n"
     ]
    },
    {
     "name": "stderr",
     "output_type": "stream",
     "text": [
      "100%|██████████| 179/179 [00:07<00:00, 22.92it/s]\n"
     ]
    },
    {
     "name": "stdout",
     "output_type": "stream",
     "text": [
      "Epoch 21,Average_loss 2.792479, Average Accucracy 0.189129\n",
      "  Inputs Words: ['how', 'are', 'you']\n",
      "  Replied Words: fine fine <EOS>\n",
      "\n",
      "\n"
     ]
    },
    {
     "name": "stderr",
     "output_type": "stream",
     "text": [
      "100%|██████████| 179/179 [00:07<00:00, 22.73it/s]\n"
     ]
    },
    {
     "name": "stdout",
     "output_type": "stream",
     "text": [
      "Epoch 22,Average_loss 2.724213, Average Accucracy 0.192323\n",
      "  Inputs Words: ['how', 'are', 'you']\n",
      "  Replied Words: i know <EOS>\n",
      "\n",
      "\n"
     ]
    },
    {
     "name": "stderr",
     "output_type": "stream",
     "text": [
      "100%|██████████| 179/179 [00:07<00:00, 22.53it/s]\n"
     ]
    },
    {
     "name": "stdout",
     "output_type": "stream",
     "text": [
      "Epoch 23,Average_loss 2.659673, Average Accucracy 0.194920\n",
      "  Inputs Words: ['how', 'are', 'you']\n",
      "  Replied Words: fine fine <EOS>\n",
      "\n",
      "\n"
     ]
    },
    {
     "name": "stderr",
     "output_type": "stream",
     "text": [
      "100%|██████████| 179/179 [00:07<00:00, 22.47it/s]\n"
     ]
    },
    {
     "name": "stdout",
     "output_type": "stream",
     "text": [
      "Epoch 24,Average_loss 2.597501, Average Accucracy 0.198142\n",
      "  Inputs Words: ['how', 'are', 'you']\n",
      "  Replied Words: fine <UNK> <EOS>\n",
      "\n",
      "\n"
     ]
    },
    {
     "name": "stderr",
     "output_type": "stream",
     "text": [
      "100%|██████████| 179/179 [00:07<00:00, 23.09it/s]\n"
     ]
    },
    {
     "name": "stdout",
     "output_type": "stream",
     "text": [
      "Epoch 25,Average_loss 2.532537, Average Accucracy 0.203416\n",
      "  Inputs Words: ['how', 'are', 'you']\n",
      "  Replied Words: fine <UNK> <EOS>\n",
      "\n",
      "\n"
     ]
    },
    {
     "name": "stderr",
     "output_type": "stream",
     "text": [
      "100%|██████████| 179/179 [00:07<00:00, 22.77it/s]\n"
     ]
    },
    {
     "name": "stdout",
     "output_type": "stream",
     "text": [
      "Epoch 26,Average_loss 2.471577, Average Accucracy 0.207999\n",
      "  Inputs Words: ['how', 'are', 'you']\n",
      "  Replied Words: fine fine <EOS>\n",
      "\n",
      "\n"
     ]
    },
    {
     "name": "stderr",
     "output_type": "stream",
     "text": [
      "100%|██████████| 179/179 [00:07<00:00, 22.27it/s]\n"
     ]
    },
    {
     "name": "stdout",
     "output_type": "stream",
     "text": [
      "Epoch 27,Average_loss 2.409950, Average Accucracy 0.213738\n",
      "  Inputs Words: ['how', 'are', 'you']\n",
      "  Replied Words: fine fine <EOS>\n",
      "\n",
      "\n"
     ]
    },
    {
     "name": "stderr",
     "output_type": "stream",
     "text": [
      "100%|██████████| 179/179 [00:07<00:00, 22.53it/s]\n"
     ]
    },
    {
     "name": "stdout",
     "output_type": "stream",
     "text": [
      "Epoch 28,Average_loss 2.348409, Average Accucracy 0.218524\n",
      "  Inputs Words: ['how', 'are', 'you']\n",
      "  Replied Words: i know <EOS>\n",
      "\n",
      "\n"
     ]
    },
    {
     "name": "stderr",
     "output_type": "stream",
     "text": [
      "100%|██████████| 179/179 [00:08<00:00, 22.11it/s]\n"
     ]
    },
    {
     "name": "stdout",
     "output_type": "stream",
     "text": [
      "Epoch 29,Average_loss 2.293629, Average Accucracy 0.222343\n",
      "  Inputs Words: ['how', 'are', 'you']\n",
      "  Replied Words: pretty much <EOS>\n",
      "\n",
      "\n"
     ]
    },
    {
     "name": "stderr",
     "output_type": "stream",
     "text": [
      "100%|██████████| 179/179 [00:07<00:00, 23.25it/s]\n"
     ]
    },
    {
     "name": "stdout",
     "output_type": "stream",
     "text": [
      "Epoch 30,Average_loss 2.240248, Average Accucracy 0.227595\n",
      "  Inputs Words: ['how', 'are', 'you']\n",
      "  Replied Words: fine fine <EOS>\n",
      "\n",
      "\n"
     ]
    },
    {
     "name": "stderr",
     "output_type": "stream",
     "text": [
      "100%|██████████| 179/179 [00:07<00:00, 22.80it/s]\n"
     ]
    },
    {
     "name": "stdout",
     "output_type": "stream",
     "text": [
      "Epoch 31,Average_loss 2.192018, Average Accucracy 0.229450\n",
      "  Inputs Words: ['how', 'are', 'you']\n",
      "  Replied Words: fine <UNK> <EOS>\n",
      "\n",
      "\n"
     ]
    },
    {
     "name": "stderr",
     "output_type": "stream",
     "text": [
      "100%|██████████| 179/179 [00:07<00:00, 22.78it/s]\n"
     ]
    },
    {
     "name": "stdout",
     "output_type": "stream",
     "text": [
      "Epoch 32,Average_loss 2.141491, Average Accucracy 0.234491\n",
      "  Inputs Words: ['how', 'are', 'you']\n",
      "  Replied Words: doing i <EOS>\n",
      "\n",
      "\n"
     ]
    },
    {
     "name": "stderr",
     "output_type": "stream",
     "text": [
      "100%|██████████| 179/179 [00:07<00:00, 22.42it/s]\n"
     ]
    },
    {
     "name": "stdout",
     "output_type": "stream",
     "text": [
      "Epoch 33,Average_loss 2.099830, Average Accucracy 0.238099\n",
      "  Inputs Words: ['how', 'are', 'you']\n",
      "  Replied Words: fine fine <EOS>\n",
      "\n",
      "\n"
     ]
    },
    {
     "name": "stderr",
     "output_type": "stream",
     "text": [
      "100%|██████████| 179/179 [00:07<00:00, 22.67it/s]\n"
     ]
    },
    {
     "name": "stdout",
     "output_type": "stream",
     "text": [
      "Epoch 34,Average_loss 2.059922, Average Accucracy 0.240325\n",
      "  Inputs Words: ['how', 'are', 'you']\n",
      "  Replied Words: fine fine <EOS>\n",
      "\n",
      "\n"
     ]
    },
    {
     "name": "stderr",
     "output_type": "stream",
     "text": [
      "100%|██████████| 179/179 [00:07<00:00, 22.82it/s]\n"
     ]
    },
    {
     "name": "stdout",
     "output_type": "stream",
     "text": [
      "Epoch 35,Average_loss 2.006697, Average Accucracy 0.245832\n",
      "  Inputs Words: ['how', 'are', 'you']\n",
      "  Replied Words: <UNK> <UNK> <EOS>\n",
      "\n",
      "\n"
     ]
    },
    {
     "name": "stderr",
     "output_type": "stream",
     "text": [
      "100%|██████████| 179/179 [00:07<00:00, 22.81it/s]\n"
     ]
    },
    {
     "name": "stdout",
     "output_type": "stream",
     "text": [
      "Epoch 36,Average_loss 1.955484, Average Accucracy 0.251666\n",
      "  Inputs Words: ['how', 'are', 'you']\n",
      "  Replied Words: fine fine <EOS>\n",
      "\n",
      "\n"
     ]
    },
    {
     "name": "stderr",
     "output_type": "stream",
     "text": [
      "100%|██████████| 179/179 [00:07<00:00, 22.75it/s]\n"
     ]
    },
    {
     "name": "stdout",
     "output_type": "stream",
     "text": [
      "Epoch 37,Average_loss 1.901830, Average Accucracy 0.257616\n",
      "  Inputs Words: ['how', 'are', 'you']\n",
      "  Replied Words: <UNK> fine <EOS>\n",
      "\n",
      "\n"
     ]
    },
    {
     "name": "stderr",
     "output_type": "stream",
     "text": [
      "100%|██████████| 179/179 [00:07<00:00, 22.81it/s]\n"
     ]
    },
    {
     "name": "stdout",
     "output_type": "stream",
     "text": [
      "Epoch 38,Average_loss 1.858117, Average Accucracy 0.263988\n",
      "  Inputs Words: ['how', 'are', 'you']\n",
      "  Replied Words: fine fine <EOS>\n",
      "\n",
      "\n"
     ]
    },
    {
     "name": "stderr",
     "output_type": "stream",
     "text": [
      "100%|██████████| 179/179 [00:07<00:00, 22.85it/s]\n"
     ]
    },
    {
     "name": "stdout",
     "output_type": "stream",
     "text": [
      "Epoch 39,Average_loss 1.816230, Average Accucracy 0.267313\n",
      "  Inputs Words: ['how', 'are', 'you']\n",
      "  Replied Words: fine fine <EOS>\n",
      "\n",
      "\n"
     ]
    },
    {
     "name": "stderr",
     "output_type": "stream",
     "text": [
      "100%|██████████| 179/179 [00:07<00:00, 22.77it/s]\n"
     ]
    },
    {
     "name": "stdout",
     "output_type": "stream",
     "text": [
      "Epoch 40,Average_loss 1.773169, Average Accucracy 0.275023\n",
      "  Inputs Words: ['how', 'are', 'you']\n",
      "  Replied Words: fine fine <EOS>\n",
      "\n",
      "\n"
     ]
    },
    {
     "name": "stderr",
     "output_type": "stream",
     "text": [
      "100%|██████████| 179/179 [00:07<00:00, 22.77it/s]\n"
     ]
    },
    {
     "name": "stdout",
     "output_type": "stream",
     "text": [
      "Epoch 41,Average_loss 1.734888, Average Accucracy 0.279271\n",
      "  Inputs Words: ['how', 'are', 'you']\n",
      "  Replied Words: fine fine <EOS>\n",
      "\n",
      "\n"
     ]
    },
    {
     "name": "stderr",
     "output_type": "stream",
     "text": [
      "100%|██████████| 179/179 [00:07<00:00, 22.50it/s]\n"
     ]
    },
    {
     "name": "stdout",
     "output_type": "stream",
     "text": [
      "Epoch 42,Average_loss 1.695368, Average Accucracy 0.283454\n",
      "  Inputs Words: ['how', 'are', 'you']\n",
      "  Replied Words: fine fine <EOS>\n",
      "\n",
      "\n"
     ]
    },
    {
     "name": "stderr",
     "output_type": "stream",
     "text": [
      "100%|██████████| 179/179 [00:07<00:00, 22.96it/s]\n"
     ]
    },
    {
     "name": "stdout",
     "output_type": "stream",
     "text": [
      "Epoch 43,Average_loss 1.653496, Average Accucracy 0.288873\n",
      "  Inputs Words: ['how', 'are', 'you']\n",
      "  Replied Words: just better <EOS>\n",
      "\n",
      "\n"
     ]
    },
    {
     "name": "stderr",
     "output_type": "stream",
     "text": [
      "100%|██████████| 179/179 [00:07<00:00, 22.83it/s]\n"
     ]
    },
    {
     "name": "stdout",
     "output_type": "stream",
     "text": [
      "Epoch 44,Average_loss 1.620300, Average Accucracy 0.293172\n",
      "  Inputs Words: ['how', 'are', 'you']\n",
      "  Replied Words: goodhow are you\n",
      "\n",
      "\n"
     ]
    },
    {
     "name": "stderr",
     "output_type": "stream",
     "text": [
      "100%|██████████| 179/179 [00:07<00:00, 22.93it/s]\n"
     ]
    },
    {
     "name": "stdout",
     "output_type": "stream",
     "text": [
      "Epoch 45,Average_loss 1.587828, Average Accucracy 0.296977\n",
      "  Inputs Words: ['how', 'are', 'you']\n",
      "  Replied Words: <UNK> fineand <EOS>\n",
      "\n",
      "\n"
     ]
    },
    {
     "name": "stderr",
     "output_type": "stream",
     "text": [
      "100%|██████████| 179/179 [00:07<00:00, 22.85it/s]\n"
     ]
    },
    {
     "name": "stdout",
     "output_type": "stream",
     "text": [
      "Epoch 46,Average_loss 1.555210, Average Accucracy 0.301021\n",
      "  Inputs Words: ['how', 'are', 'you']\n",
      "  Replied Words: goodhow are <EOS>\n",
      "\n",
      "\n"
     ]
    },
    {
     "name": "stderr",
     "output_type": "stream",
     "text": [
      "100%|██████████| 179/179 [00:07<00:00, 22.75it/s]\n"
     ]
    },
    {
     "name": "stdout",
     "output_type": "stream",
     "text": [
      "Epoch 47,Average_loss 1.526349, Average Accucracy 0.305313\n",
      "  Inputs Words: ['how', 'are', 'you']\n",
      "  Replied Words: fine fine <EOS>\n",
      "\n",
      "\n"
     ]
    },
    {
     "name": "stderr",
     "output_type": "stream",
     "text": [
      "100%|██████████| 179/179 [00:07<00:00, 23.07it/s]\n"
     ]
    },
    {
     "name": "stdout",
     "output_type": "stream",
     "text": [
      "Epoch 48,Average_loss 1.491887, Average Accucracy 0.309969\n",
      "  Inputs Words: ['how', 'are', 'you']\n",
      "  Replied Words: <UNK> fine <EOS>\n",
      "\n",
      "\n"
     ]
    },
    {
     "name": "stderr",
     "output_type": "stream",
     "text": [
      "100%|██████████| 179/179 [00:07<00:00, 22.89it/s]\n"
     ]
    },
    {
     "name": "stdout",
     "output_type": "stream",
     "text": [
      "Epoch 49,Average_loss 1.454105, Average Accucracy 0.315897\n",
      "  Inputs Words: ['how', 'are', 'you']\n",
      "  Replied Words: <UNK> fine <EOS>\n",
      "\n",
      "\n"
     ]
    },
    {
     "name": "stderr",
     "output_type": "stream",
     "text": [
      "100%|██████████| 179/179 [00:07<00:00, 22.92it/s]\n"
     ]
    },
    {
     "name": "stdout",
     "output_type": "stream",
     "text": [
      "Epoch 50,Average_loss 1.420071, Average Accucracy 0.321265\n",
      "  Inputs Words: ['how', 'are', 'you']\n",
      "  Replied Words: fine fine <EOS>\n",
      "\n",
      "\n"
     ]
    },
    {
     "name": "stderr",
     "output_type": "stream",
     "text": [
      "100%|██████████| 179/179 [00:07<00:00, 22.80it/s]\n"
     ]
    },
    {
     "name": "stdout",
     "output_type": "stream",
     "text": [
      "Epoch 51,Average_loss 1.381903, Average Accucracy 0.326466\n",
      "  Inputs Words: ['how', 'are', 'you']\n",
      "  Replied Words: <UNK> <UNK> <EOS>\n",
      "\n",
      "\n"
     ]
    },
    {
     "name": "stderr",
     "output_type": "stream",
     "text": [
      "100%|██████████| 179/179 [00:07<00:00, 22.44it/s]\n"
     ]
    },
    {
     "name": "stdout",
     "output_type": "stream",
     "text": [
      "Epoch 52,Average_loss 1.351664, Average Accucracy 0.333108\n",
      "  Inputs Words: ['how', 'are', 'you']\n",
      "  Replied Words: fine thanks <EOS>\n",
      "\n",
      "\n"
     ]
    },
    {
     "name": "stderr",
     "output_type": "stream",
     "text": [
      "100%|██████████| 179/179 [00:07<00:00, 22.86it/s]\n"
     ]
    },
    {
     "name": "stdout",
     "output_type": "stream",
     "text": [
      "Epoch 53,Average_loss 1.321448, Average Accucracy 0.337130\n",
      "  Inputs Words: ['how', 'are', 'you']\n",
      "  Replied Words: <UNK> <UNK> <EOS>\n",
      "\n",
      "\n"
     ]
    },
    {
     "name": "stderr",
     "output_type": "stream",
     "text": [
      "100%|██████████| 179/179 [00:07<00:00, 22.82it/s]\n"
     ]
    },
    {
     "name": "stdout",
     "output_type": "stream",
     "text": [
      "Epoch 54,Average_loss 1.293733, Average Accucracy 0.342048\n",
      "  Inputs Words: ['how', 'are', 'you']\n",
      "  Replied Words: <UNK> frankly <EOS>\n",
      "\n",
      "\n"
     ]
    },
    {
     "name": "stderr",
     "output_type": "stream",
     "text": [
      "100%|██████████| 179/179 [00:07<00:00, 22.70it/s]\n"
     ]
    },
    {
     "name": "stdout",
     "output_type": "stream",
     "text": [
      "Epoch 55,Average_loss 1.264488, Average Accucracy 0.347969\n",
      "  Inputs Words: ['how', 'are', 'you']\n",
      "  Replied Words: royal cousin <EOS>\n",
      "\n",
      "\n"
     ]
    },
    {
     "name": "stderr",
     "output_type": "stream",
     "text": [
      "100%|██████████| 179/179 [00:07<00:00, 22.82it/s]\n"
     ]
    },
    {
     "name": "stdout",
     "output_type": "stream",
     "text": [
      "Epoch 56,Average_loss 1.232849, Average Accucracy 0.350224\n",
      "  Inputs Words: ['how', 'are', 'you']\n",
      "  Replied Words: <UNK> are <EOS>\n",
      "\n",
      "\n"
     ]
    },
    {
     "name": "stderr",
     "output_type": "stream",
     "text": [
      "100%|██████████| 179/179 [00:07<00:00, 22.86it/s]\n"
     ]
    },
    {
     "name": "stdout",
     "output_type": "stream",
     "text": [
      "Epoch 57,Average_loss 1.216189, Average Accucracy 0.354821\n",
      "  Inputs Words: ['how', 'are', 'you']\n",
      "  Replied Words: pretty bad <EOS>\n",
      "\n",
      "\n"
     ]
    },
    {
     "name": "stderr",
     "output_type": "stream",
     "text": [
      "100%|██████████| 179/179 [00:07<00:00, 22.89it/s]\n"
     ]
    },
    {
     "name": "stdout",
     "output_type": "stream",
     "text": [
      "Epoch 58,Average_loss 1.183128, Average Accucracy 0.360873\n",
      "  Inputs Words: ['how', 'are', 'you']\n",
      "  Replied Words: fine fine <EOS>\n",
      "\n",
      "\n"
     ]
    },
    {
     "name": "stderr",
     "output_type": "stream",
     "text": [
      "100%|██████████| 179/179 [00:07<00:00, 22.79it/s]\n"
     ]
    },
    {
     "name": "stdout",
     "output_type": "stream",
     "text": [
      "Epoch 59,Average_loss 1.162272, Average Accucracy 0.363689\n",
      "  Inputs Words: ['how', 'are', 'you']\n",
      "  Replied Words: pretty good <EOS>\n",
      "\n",
      "\n"
     ]
    },
    {
     "name": "stderr",
     "output_type": "stream",
     "text": [
      "100%|██████████| 179/179 [00:07<00:00, 22.76it/s]\n"
     ]
    },
    {
     "name": "stdout",
     "output_type": "stream",
     "text": [
      "Epoch 60,Average_loss 1.143200, Average Accucracy 0.368475\n",
      "  Inputs Words: ['how', 'are', 'you']\n",
      "  Replied Words: next <UNK> <EOS>\n",
      "\n",
      "\n"
     ]
    },
    {
     "name": "stderr",
     "output_type": "stream",
     "text": [
      "100%|██████████| 179/179 [00:08<00:00, 22.34it/s]\n"
     ]
    },
    {
     "name": "stdout",
     "output_type": "stream",
     "text": [
      "Epoch 61,Average_loss 1.122044, Average Accucracy 0.370846\n",
      "  Inputs Words: ['how', 'are', 'you']\n",
      "  Replied Words: <UNK> madison <EOS>\n",
      "\n",
      "\n"
     ]
    },
    {
     "name": "stderr",
     "output_type": "stream",
     "text": [
      "100%|██████████| 179/179 [00:07<00:00, 22.38it/s]\n"
     ]
    },
    {
     "name": "stdout",
     "output_type": "stream",
     "text": [
      "Epoch 62,Average_loss 1.094741, Average Accucracy 0.374389\n",
      "  Inputs Words: ['how', 'are', 'you']\n",
      "  Replied Words: fine fine <EOS>\n",
      "\n",
      "\n"
     ]
    },
    {
     "name": "stderr",
     "output_type": "stream",
     "text": [
      "100%|██████████| 179/179 [00:08<00:00, 22.07it/s]\n"
     ]
    },
    {
     "name": "stdout",
     "output_type": "stream",
     "text": [
      "Epoch 63,Average_loss 1.074253, Average Accucracy 0.377124\n",
      "  Inputs Words: ['how', 'are', 'you']\n",
      "  Replied Words: fine fine <EOS>\n",
      "\n",
      "\n"
     ]
    },
    {
     "name": "stderr",
     "output_type": "stream",
     "text": [
      "100%|██████████| 179/179 [00:07<00:00, 22.63it/s]\n"
     ]
    },
    {
     "name": "stdout",
     "output_type": "stream",
     "text": [
      "Epoch 64,Average_loss 1.054491, Average Accucracy 0.381299\n",
      "  Inputs Words: ['how', 'are', 'you']\n",
      "  Replied Words: fine fine <EOS>\n",
      "\n",
      "\n"
     ]
    },
    {
     "name": "stderr",
     "output_type": "stream",
     "text": [
      "100%|██████████| 179/179 [00:08<00:00, 21.98it/s]\n"
     ]
    },
    {
     "name": "stdout",
     "output_type": "stream",
     "text": [
      "Epoch 65,Average_loss 1.036111, Average Accucracy 0.389527\n",
      "  Inputs Words: ['how', 'are', 'you']\n",
      "  Replied Words: all right <EOS>\n",
      "\n",
      "\n"
     ]
    },
    {
     "name": "stderr",
     "output_type": "stream",
     "text": [
      "100%|██████████| 179/179 [00:07<00:00, 22.76it/s]\n"
     ]
    },
    {
     "name": "stdout",
     "output_type": "stream",
     "text": [
      "Epoch 66,Average_loss 1.020770, Average Accucracy 0.387133\n",
      "  Inputs Words: ['how', 'are', 'you']\n",
      "  Replied Words: fine fine <EOS>\n",
      "\n",
      "\n"
     ]
    },
    {
     "name": "stderr",
     "output_type": "stream",
     "text": [
      "100%|██████████| 179/179 [00:07<00:00, 22.63it/s]\n"
     ]
    },
    {
     "name": "stdout",
     "output_type": "stream",
     "text": [
      "Epoch 67,Average_loss 1.004697, Average Accucracy 0.394124\n",
      "  Inputs Words: ['how', 'are', 'you']\n",
      "  Replied Words: fine fine <EOS>\n",
      "\n",
      "\n"
     ]
    },
    {
     "name": "stderr",
     "output_type": "stream",
     "text": [
      "100%|██████████| 179/179 [00:07<00:00, 22.58it/s]\n"
     ]
    },
    {
     "name": "stdout",
     "output_type": "stream",
     "text": [
      "Epoch 68,Average_loss 0.992434, Average Accucracy 0.394335\n",
      "  Inputs Words: ['how', 'are', 'you']\n",
      "  Replied Words: fine fine <EOS>\n",
      "\n",
      "\n"
     ]
    },
    {
     "name": "stderr",
     "output_type": "stream",
     "text": [
      "100%|██████████| 179/179 [00:07<00:00, 22.55it/s]\n"
     ]
    },
    {
     "name": "stdout",
     "output_type": "stream",
     "text": [
      "Epoch 69,Average_loss 0.971053, Average Accucracy 0.400387\n",
      "  Inputs Words: ['how', 'are', 'you']\n",
      "  Replied Words: not today <EOS>\n",
      "\n",
      "\n"
     ]
    },
    {
     "name": "stderr",
     "output_type": "stream",
     "text": [
      "100%|██████████| 179/179 [00:08<00:00, 22.34it/s]\n"
     ]
    },
    {
     "name": "stdout",
     "output_type": "stream",
     "text": [
      "Epoch 70,Average_loss 0.959937, Average Accucracy 0.404206\n",
      "  Inputs Words: ['how', 'are', 'you']\n",
      "  Replied Words: fine fineand <EOS>\n",
      "\n",
      "\n"
     ]
    },
    {
     "name": "stderr",
     "output_type": "stream",
     "text": [
      "100%|██████████| 179/179 [00:07<00:00, 22.45it/s]\n"
     ]
    },
    {
     "name": "stdout",
     "output_type": "stream",
     "text": [
      "Epoch 71,Average_loss 0.934404, Average Accucracy 0.406330\n",
      "  Inputs Words: ['how', 'are', 'you']\n",
      "  Replied Words: fine fine <EOS>\n",
      "\n",
      "\n"
     ]
    },
    {
     "name": "stderr",
     "output_type": "stream",
     "text": [
      "100%|██████████| 179/179 [00:07<00:00, 22.57it/s]\n"
     ]
    },
    {
     "name": "stdout",
     "output_type": "stream",
     "text": [
      "Epoch 72,Average_loss 0.912538, Average Accucracy 0.410884\n",
      "  Inputs Words: ['how', 'are', 'you']\n",
      "  Replied Words: royal license <EOS>\n",
      "\n",
      "\n"
     ]
    },
    {
     "name": "stderr",
     "output_type": "stream",
     "text": [
      "100%|██████████| 179/179 [00:08<00:00, 22.37it/s]\n"
     ]
    },
    {
     "name": "stdout",
     "output_type": "stream",
     "text": [
      "Epoch 73,Average_loss 0.889602, Average Accucracy 0.414972\n",
      "  Inputs Words: ['how', 'are', 'you']\n",
      "  Replied Words: fine fine <EOS>\n",
      "\n",
      "\n"
     ]
    },
    {
     "name": "stderr",
     "output_type": "stream",
     "text": [
      "100%|██████████| 179/179 [00:07<00:00, 22.60it/s]\n"
     ]
    },
    {
     "name": "stdout",
     "output_type": "stream",
     "text": [
      "Epoch 74,Average_loss 0.869215, Average Accucracy 0.418420\n",
      "  Inputs Words: ['how', 'are', 'you']\n",
      "  Replied Words: fine fine <EOS>\n",
      "\n",
      "\n"
     ]
    },
    {
     "name": "stderr",
     "output_type": "stream",
     "text": [
      "100%|██████████| 179/179 [00:07<00:00, 22.75it/s]\n"
     ]
    },
    {
     "name": "stdout",
     "output_type": "stream",
     "text": [
      "Epoch 75,Average_loss 0.856881, Average Accucracy 0.422231\n",
      "  Inputs Words: ['how', 'are', 'you']\n",
      "  Replied Words: pretty fine <EOS>\n",
      "\n",
      "\n"
     ]
    },
    {
     "name": "stderr",
     "output_type": "stream",
     "text": [
      "100%|██████████| 179/179 [00:07<00:00, 22.63it/s]\n"
     ]
    },
    {
     "name": "stdout",
     "output_type": "stream",
     "text": [
      "Epoch 76,Average_loss 0.838060, Average Accucracy 0.429673\n",
      "  Inputs Words: ['how', 'are', 'you']\n",
      "  Replied Words: fine fine <EOS>\n",
      "\n",
      "\n"
     ]
    },
    {
     "name": "stderr",
     "output_type": "stream",
     "text": [
      "100%|██████████| 179/179 [00:07<00:00, 22.82it/s]\n"
     ]
    },
    {
     "name": "stdout",
     "output_type": "stream",
     "text": [
      "Epoch 77,Average_loss 0.823024, Average Accucracy 0.430553\n",
      "  Inputs Words: ['how', 'are', 'you']\n",
      "  Replied Words: goodhow are <EOS>\n",
      "\n",
      "\n"
     ]
    },
    {
     "name": "stderr",
     "output_type": "stream",
     "text": [
      "100%|██████████| 179/179 [00:07<00:00, 22.64it/s]\n"
     ]
    },
    {
     "name": "stdout",
     "output_type": "stream",
     "text": [
      "Epoch 78,Average_loss 0.807760, Average Accucracy 0.435623\n",
      "  Inputs Words: ['how', 'are', 'you']\n",
      "  Replied Words: <UNK> not <EOS>\n",
      "\n",
      "\n"
     ]
    },
    {
     "name": "stderr",
     "output_type": "stream",
     "text": [
      "100%|██████████| 179/179 [00:07<00:00, 22.41it/s]\n"
     ]
    },
    {
     "name": "stdout",
     "output_type": "stream",
     "text": [
      "Epoch 79,Average_loss 0.795949, Average Accucracy 0.437616\n",
      "  Inputs Words: ['how', 'are', 'you']\n",
      "  Replied Words: <UNK> madison <EOS>\n",
      "\n",
      "\n"
     ]
    },
    {
     "name": "stderr",
     "output_type": "stream",
     "text": [
      "100%|██████████| 179/179 [00:07<00:00, 22.44it/s]\n"
     ]
    },
    {
     "name": "stdout",
     "output_type": "stream",
     "text": [
      "Epoch 80,Average_loss 0.784005, Average Accucracy 0.441748\n",
      "  Inputs Words: ['how', 'are', 'you']\n",
      "  Replied Words: excuse me <EOS>\n",
      "\n",
      "\n"
     ]
    },
    {
     "name": "stderr",
     "output_type": "stream",
     "text": [
      "100%|██████████| 179/179 [00:07<00:00, 22.85it/s]\n"
     ]
    },
    {
     "name": "stdout",
     "output_type": "stream",
     "text": [
      "Epoch 81,Average_loss 0.769360, Average Accucracy 0.446236\n",
      "  Inputs Words: ['how', 'are', 'you']\n",
      "  Replied Words: pretty goodhow <EOS>\n",
      "\n",
      "\n"
     ]
    },
    {
     "name": "stderr",
     "output_type": "stream",
     "text": [
      "100%|██████████| 179/179 [00:07<00:00, 22.72it/s]\n"
     ]
    },
    {
     "name": "stdout",
     "output_type": "stream",
     "text": [
      "Epoch 82,Average_loss 0.757433, Average Accucracy 0.448666\n",
      "  Inputs Words: ['how', 'are', 'you']\n",
      "  Replied Words: not really <EOS>\n",
      "\n",
      "\n"
     ]
    },
    {
     "name": "stderr",
     "output_type": "stream",
     "text": [
      "100%|██████████| 179/179 [00:07<00:00, 22.62it/s]\n"
     ]
    },
    {
     "name": "stdout",
     "output_type": "stream",
     "text": [
      "Epoch 83,Average_loss 0.747791, Average Accucracy 0.452361\n",
      "  Inputs Words: ['how', 'are', 'you']\n",
      "  Replied Words: excuse me <EOS>\n",
      "\n",
      "\n"
     ]
    },
    {
     "name": "stderr",
     "output_type": "stream",
     "text": [
      "100%|██████████| 179/179 [00:07<00:00, 22.81it/s]\n"
     ]
    },
    {
     "name": "stdout",
     "output_type": "stream",
     "text": [
      "Epoch 84,Average_loss 0.734242, Average Accucracy 0.450448\n",
      "  Inputs Words: ['how', 'are', 'you']\n",
      "  Replied Words: pretty fine <EOS>\n",
      "\n",
      "\n"
     ]
    },
    {
     "name": "stderr",
     "output_type": "stream",
     "text": [
      "100%|██████████| 179/179 [00:07<00:00, 22.48it/s]\n"
     ]
    },
    {
     "name": "stdout",
     "output_type": "stream",
     "text": [
      "Epoch 85,Average_loss 0.719691, Average Accucracy 0.455184\n",
      "  Inputs Words: ['how', 'are', 'you']\n",
      "  Replied Words: excuse me <EOS>\n",
      "\n",
      "\n"
     ]
    },
    {
     "name": "stderr",
     "output_type": "stream",
     "text": [
      "100%|██████████| 179/179 [00:07<00:00, 23.04it/s]\n"
     ]
    },
    {
     "name": "stdout",
     "output_type": "stream",
     "text": [
      "Epoch 86,Average_loss 0.716320, Average Accucracy 0.456457\n",
      "  Inputs Words: ['how', 'are', 'you']\n",
      "  Replied Words: fine fine <EOS>\n",
      "\n",
      "\n"
     ]
    },
    {
     "name": "stderr",
     "output_type": "stream",
     "text": [
      "100%|██████████| 179/179 [00:07<00:00, 22.73it/s]\n"
     ]
    },
    {
     "name": "stdout",
     "output_type": "stream",
     "text": [
      "Epoch 87,Average_loss 0.700543, Average Accucracy 0.461345\n",
      "  Inputs Words: ['how', 'are', 'you']\n",
      "  Replied Words: looking <UNK> <EOS>\n",
      "\n",
      "\n"
     ]
    },
    {
     "name": "stderr",
     "output_type": "stream",
     "text": [
      "100%|██████████| 179/179 [00:07<00:00, 22.57it/s]\n"
     ]
    },
    {
     "name": "stdout",
     "output_type": "stream",
     "text": [
      "Epoch 88,Average_loss 0.687083, Average Accucracy 0.462494\n",
      "  Inputs Words: ['how', 'are', 'you']\n",
      "  Replied Words: pretty good <EOS>\n",
      "\n",
      "\n"
     ]
    },
    {
     "name": "stderr",
     "output_type": "stream",
     "text": [
      "100%|██████████| 179/179 [00:07<00:00, 22.44it/s]\n"
     ]
    },
    {
     "name": "stdout",
     "output_type": "stream",
     "text": [
      "Epoch 89,Average_loss 0.681404, Average Accucracy 0.468866\n",
      "  Inputs Words: ['how', 'are', 'you']\n",
      "  Replied Words: fine fine <EOS>\n",
      "\n",
      "\n"
     ]
    },
    {
     "name": "stderr",
     "output_type": "stream",
     "text": [
      "100%|██████████| 179/179 [00:07<00:00, 22.73it/s]\n"
     ]
    },
    {
     "name": "stdout",
     "output_type": "stream",
     "text": [
      "Epoch 90,Average_loss 0.672816, Average Accucracy 0.471660\n",
      "  Inputs Words: ['how', 'are', 'you']\n",
      "  Replied Words: fine fine <EOS>\n",
      "\n",
      "\n"
     ]
    },
    {
     "name": "stderr",
     "output_type": "stream",
     "text": [
      "100%|██████████| 179/179 [00:07<00:00, 22.75it/s]\n"
     ]
    },
    {
     "name": "stdout",
     "output_type": "stream",
     "text": [
      "Epoch 91,Average_loss 0.661876, Average Accucracy 0.471158\n",
      "  Inputs Words: ['how', 'are', 'you']\n",
      "  Replied Words: pretty fine <EOS>\n",
      "\n",
      "\n"
     ]
    },
    {
     "name": "stderr",
     "output_type": "stream",
     "text": [
      "100%|██████████| 179/179 [00:07<00:00, 22.69it/s]\n"
     ]
    },
    {
     "name": "stdout",
     "output_type": "stream",
     "text": [
      "Epoch 92,Average_loss 0.648547, Average Accucracy 0.475908\n",
      "  Inputs Words: ['how', 'are', 'you']\n",
      "  Replied Words: pretty sweet <EOS>\n",
      "\n",
      "\n"
     ]
    },
    {
     "name": "stderr",
     "output_type": "stream",
     "text": [
      "100%|██████████| 179/179 [00:07<00:00, 22.96it/s]\n"
     ]
    },
    {
     "name": "stdout",
     "output_type": "stream",
     "text": [
      "Epoch 93,Average_loss 0.641594, Average Accucracy 0.474860\n",
      "  Inputs Words: ['how', 'are', 'you']\n",
      "  Replied Words: fine fine <EOS>\n",
      "\n",
      "\n"
     ]
    },
    {
     "name": "stderr",
     "output_type": "stream",
     "text": [
      "100%|██████████| 179/179 [00:07<00:00, 22.72it/s]\n"
     ]
    },
    {
     "name": "stdout",
     "output_type": "stream",
     "text": [
      "Epoch 94,Average_loss 0.629304, Average Accucracy 0.477159\n",
      "  Inputs Words: ['how', 'are', 'you']\n",
      "  Replied Words: excuse me <EOS>\n",
      "\n",
      "\n"
     ]
    },
    {
     "name": "stderr",
     "output_type": "stream",
     "text": [
      "100%|██████████| 179/179 [00:07<00:00, 22.83it/s]\n"
     ]
    },
    {
     "name": "stdout",
     "output_type": "stream",
     "text": [
      "Epoch 95,Average_loss 0.622957, Average Accucracy 0.480876\n",
      "  Inputs Words: ['how', 'are', 'you']\n",
      "  Replied Words: okay <UNK> <EOS>\n",
      "\n",
      "\n"
     ]
    },
    {
     "name": "stderr",
     "output_type": "stream",
     "text": [
      "100%|██████████| 179/179 [00:07<00:00, 22.71it/s]\n"
     ]
    },
    {
     "name": "stdout",
     "output_type": "stream",
     "text": [
      "Epoch 96,Average_loss 0.616818, Average Accucracy 0.484382\n",
      "  Inputs Words: ['how', 'are', 'you']\n",
      "  Replied Words: fine fine <EOS>\n",
      "\n",
      "\n"
     ]
    },
    {
     "name": "stderr",
     "output_type": "stream",
     "text": [
      "100%|██████████| 179/179 [00:07<00:00, 22.63it/s]\n"
     ]
    },
    {
     "name": "stdout",
     "output_type": "stream",
     "text": [
      "Epoch 97,Average_loss 0.610683, Average Accucracy 0.483720\n",
      "  Inputs Words: ['how', 'are', 'you']\n",
      "  Replied Words: very well <EOS>\n",
      "\n",
      "\n"
     ]
    },
    {
     "name": "stderr",
     "output_type": "stream",
     "text": [
      "100%|██████████| 179/179 [00:08<00:00, 22.25it/s]\n"
     ]
    },
    {
     "name": "stdout",
     "output_type": "stream",
     "text": [
      "Epoch 98,Average_loss 0.600036, Average Accucracy 0.487852\n",
      "  Inputs Words: ['how', 'are', 'you']\n",
      "  Replied Words: fine fine <EOS>\n",
      "\n",
      "\n"
     ]
    },
    {
     "name": "stderr",
     "output_type": "stream",
     "text": [
      "100%|██████████| 179/179 [00:07<00:00, 22.66it/s]\n"
     ]
    },
    {
     "name": "stdout",
     "output_type": "stream",
     "text": [
      "Epoch 99,Average_loss 0.594593, Average Accucracy 0.488063\n",
      "  Inputs Words: ['how', 'are', 'you']\n",
      "  Replied Words: <UNK> ready <EOS>\n",
      "\n",
      "\n"
     ]
    },
    {
     "name": "stderr",
     "output_type": "stream",
     "text": [
      "100%|██████████| 179/179 [00:08<00:00, 21.95it/s]\n"
     ]
    },
    {
     "name": "stdout",
     "output_type": "stream",
     "text": [
      "Epoch 100,Average_loss 0.583947, Average Accucracy 0.492115\n",
      "  Inputs Words: ['how', 'are', 'you']\n",
      "  Replied Words: pretty quiet <EOS>\n",
      "\n",
      "\n"
     ]
    },
    {
     "name": "stderr",
     "output_type": "stream",
     "text": [
      "100%|██████████| 179/179 [00:07<00:00, 22.44it/s]\n"
     ]
    },
    {
     "name": "stdout",
     "output_type": "stream",
     "text": [
      "Epoch 101,Average_loss 0.583347, Average Accucracy 0.490107\n",
      "  Inputs Words: ['how', 'are', 'you']\n",
      "  Replied Words: excuse me <EOS>\n",
      "\n",
      "\n"
     ]
    },
    {
     "name": "stderr",
     "output_type": "stream",
     "text": [
      "100%|██████████| 179/179 [00:07<00:00, 22.39it/s]\n"
     ]
    },
    {
     "name": "stdout",
     "output_type": "stream",
     "text": [
      "Epoch 102,Average_loss 0.570038, Average Accucracy 0.495512\n",
      "  Inputs Words: ['how', 'are', 'you']\n",
      "  Replied Words: excuse me <EOS>\n",
      "\n",
      "\n"
     ]
    },
    {
     "name": "stderr",
     "output_type": "stream",
     "text": [
      "100%|██████████| 179/179 [00:07<00:00, 22.64it/s]\n"
     ]
    },
    {
     "name": "stdout",
     "output_type": "stream",
     "text": [
      "Epoch 103,Average_loss 0.562438, Average Accucracy 0.499476\n",
      "  Inputs Words: ['how', 'are', 'you']\n",
      "  Replied Words: looking good <EOS>\n",
      "\n",
      "\n"
     ]
    },
    {
     "name": "stderr",
     "output_type": "stream",
     "text": [
      "100%|██████████| 179/179 [00:07<00:00, 22.55it/s]\n"
     ]
    },
    {
     "name": "stdout",
     "output_type": "stream",
     "text": [
      "Epoch 104,Average_loss 0.552766, Average Accucracy 0.501928\n",
      "  Inputs Words: ['how', 'are', 'you']\n",
      "  Replied Words: fine fine <EOS>\n",
      "\n",
      "\n"
     ]
    },
    {
     "name": "stderr",
     "output_type": "stream",
     "text": [
      "100%|██████████| 179/179 [00:07<00:00, 22.59it/s]\n"
     ]
    },
    {
     "name": "stdout",
     "output_type": "stream",
     "text": [
      "Epoch 105,Average_loss 0.544051, Average Accucracy 0.503397\n",
      "  Inputs Words: ['how', 'are', 'you']\n",
      "  Replied Words: fine fine <EOS>\n",
      "\n",
      "\n"
     ]
    },
    {
     "name": "stderr",
     "output_type": "stream",
     "text": [
      "100%|██████████| 179/179 [00:08<00:00, 22.34it/s]\n"
     ]
    },
    {
     "name": "stdout",
     "output_type": "stream",
     "text": [
      "Epoch 106,Average_loss 0.537774, Average Accucracy 0.504961\n",
      "  Inputs Words: ['how', 'are', 'you']\n",
      "  Replied Words: excuse me <EOS>\n",
      "\n",
      "\n"
     ]
    },
    {
     "name": "stderr",
     "output_type": "stream",
     "text": [
      "100%|██████████| 179/179 [00:08<00:00, 22.27it/s]\n"
     ]
    },
    {
     "name": "stdout",
     "output_type": "stream",
     "text": [
      "Epoch 107,Average_loss 0.534052, Average Accucracy 0.508795\n",
      "  Inputs Words: ['how', 'are', 'you']\n",
      "  Replied Words: pretty much <EOS>\n",
      "\n",
      "\n"
     ]
    },
    {
     "name": "stderr",
     "output_type": "stream",
     "text": [
      "100%|██████████| 179/179 [00:07<00:00, 22.77it/s]\n"
     ]
    },
    {
     "name": "stdout",
     "output_type": "stream",
     "text": [
      "Epoch 108,Average_loss 0.525256, Average Accucracy 0.509005\n",
      "  Inputs Words: ['how', 'are', 'you']\n",
      "  Replied Words: pretty quiet <EOS>\n",
      "\n",
      "\n"
     ]
    },
    {
     "name": "stderr",
     "output_type": "stream",
     "text": [
      "100%|██████████| 179/179 [00:07<00:00, 22.61it/s]\n"
     ]
    },
    {
     "name": "stdout",
     "output_type": "stream",
     "text": [
      "Epoch 109,Average_loss 0.514699, Average Accucracy 0.514076\n",
      "  Inputs Words: ['how', 'are', 'you']\n",
      "  Replied Words: excuse me <EOS>\n",
      "\n",
      "\n"
     ]
    },
    {
     "name": "stderr",
     "output_type": "stream",
     "text": [
      "100%|██████████| 179/179 [00:07<00:00, 22.70it/s]\n"
     ]
    },
    {
     "name": "stdout",
     "output_type": "stream",
     "text": [
      "Epoch 110,Average_loss 0.509403, Average Accucracy 0.512010\n",
      "  Inputs Words: ['how', 'are', 'you']\n",
      "  Replied Words: fine fine <EOS>\n",
      "\n",
      "\n"
     ]
    },
    {
     "name": "stderr",
     "output_type": "stream",
     "text": [
      "100%|██████████| 179/179 [00:07<00:00, 22.72it/s]\n"
     ]
    },
    {
     "name": "stdout",
     "output_type": "stream",
     "text": [
      "Epoch 111,Average_loss 0.505582, Average Accucracy 0.517647\n",
      "  Inputs Words: ['how', 'are', 'you']\n",
      "  Replied Words: fine fine <EOS>\n",
      "\n",
      "\n"
     ]
    },
    {
     "name": "stderr",
     "output_type": "stream",
     "text": [
      "100%|██████████| 179/179 [00:07<00:00, 22.50it/s]\n"
     ]
    },
    {
     "name": "stdout",
     "output_type": "stream",
     "text": [
      "Epoch 112,Average_loss 0.502661, Average Accucracy 0.516702\n",
      "  Inputs Words: ['how', 'are', 'you']\n",
      "  Replied Words: fine fine <EOS>\n",
      "\n",
      "\n"
     ]
    },
    {
     "name": "stderr",
     "output_type": "stream",
     "text": [
      "100%|██████████| 179/179 [00:07<00:00, 22.68it/s]\n"
     ]
    },
    {
     "name": "stdout",
     "output_type": "stream",
     "text": [
      "Epoch 113,Average_loss 0.494023, Average Accucracy 0.519291\n",
      "  Inputs Words: ['how', 'are', 'you']\n",
      "  Replied Words: pretty much <EOS>\n",
      "\n",
      "\n"
     ]
    },
    {
     "name": "stderr",
     "output_type": "stream",
     "text": [
      "100%|██████████| 179/179 [00:07<00:00, 22.68it/s]\n"
     ]
    },
    {
     "name": "stdout",
     "output_type": "stream",
     "text": [
      "Epoch 114,Average_loss 0.489845, Average Accucracy 0.521495\n",
      "  Inputs Words: ['how', 'are', 'you']\n",
      "  Replied Words: excuse me <EOS>\n",
      "\n",
      "\n"
     ]
    },
    {
     "name": "stderr",
     "output_type": "stream",
     "text": [
      "100%|██████████| 179/179 [00:07<00:00, 22.52it/s]\n"
     ]
    },
    {
     "name": "stdout",
     "output_type": "stream",
     "text": [
      "Epoch 115,Average_loss 0.483637, Average Accucracy 0.524340\n",
      "  Inputs Words: ['how', 'are', 'you']\n",
      "  Replied Words: fine fine <EOS>\n",
      "\n",
      "\n"
     ]
    },
    {
     "name": "stderr",
     "output_type": "stream",
     "text": [
      "100%|██████████| 179/179 [00:07<00:00, 22.46it/s]\n"
     ]
    },
    {
     "name": "stdout",
     "output_type": "stream",
     "text": [
      "Epoch 116,Average_loss 0.480396, Average Accucracy 0.524689\n",
      "  Inputs Words: ['how', 'are', 'you']\n",
      "  Replied Words: <UNK> fine <EOS>\n",
      "\n",
      "\n"
     ]
    },
    {
     "name": "stderr",
     "output_type": "stream",
     "text": [
      "100%|██████████| 179/179 [00:07<00:00, 22.64it/s]\n"
     ]
    },
    {
     "name": "stdout",
     "output_type": "stream",
     "text": [
      "Epoch 117,Average_loss 0.473591, Average Accucracy 0.525322\n",
      "  Inputs Words: ['how', 'are', 'you']\n",
      "  Replied Words: very good <EOS>\n",
      "\n",
      "\n"
     ]
    },
    {
     "name": "stderr",
     "output_type": "stream",
     "text": [
      "100%|██████████| 179/179 [00:07<00:00, 22.64it/s]\n"
     ]
    },
    {
     "name": "stdout",
     "output_type": "stream",
     "text": [
      "Epoch 118,Average_loss 0.475178, Average Accucracy 0.523554\n",
      "  Inputs Words: ['how', 'are', 'you']\n",
      "  Replied Words: excuse me <EOS>\n",
      "\n",
      "\n"
     ]
    },
    {
     "name": "stderr",
     "output_type": "stream",
     "text": [
      "100%|██████████| 179/179 [00:07<00:00, 22.67it/s]\n"
     ]
    },
    {
     "name": "stdout",
     "output_type": "stream",
     "text": [
      "Epoch 119,Average_loss 0.468771, Average Accucracy 0.525962\n",
      "  Inputs Words: ['how', 'are', 'you']\n",
      "  Replied Words: excuse me <EOS>\n",
      "\n",
      "\n"
     ]
    },
    {
     "name": "stderr",
     "output_type": "stream",
     "text": [
      "100%|██████████| 179/179 [00:07<00:00, 22.78it/s]\n"
     ]
    },
    {
     "name": "stdout",
     "output_type": "stream",
     "text": [
      "Epoch 120,Average_loss 0.458811, Average Accucracy 0.528951\n",
      "  Inputs Words: ['how', 'are', 'you']\n",
      "  Replied Words: excuse me <EOS>\n",
      "\n",
      "\n"
     ]
    },
    {
     "name": "stderr",
     "output_type": "stream",
     "text": [
      "100%|██████████| 179/179 [00:07<00:00, 22.62it/s]\n"
     ]
    },
    {
     "name": "stdout",
     "output_type": "stream",
     "text": [
      "Epoch 121,Average_loss 0.456281, Average Accucracy 0.530392\n",
      "  Inputs Words: ['how', 'are', 'you']\n",
      "  Replied Words: pretty sweet <EOS>\n",
      "\n",
      "\n"
     ]
    },
    {
     "name": "stderr",
     "output_type": "stream",
     "text": [
      "100%|██████████| 179/179 [00:07<00:00, 22.64it/s]\n"
     ]
    },
    {
     "name": "stdout",
     "output_type": "stream",
     "text": [
      "Epoch 122,Average_loss 0.451150, Average Accucracy 0.533134\n",
      "  Inputs Words: ['how', 'are', 'you']\n",
      "  Replied Words: okay <UNK> <EOS>\n",
      "\n",
      "\n"
     ]
    },
    {
     "name": "stderr",
     "output_type": "stream",
     "text": [
      "100%|██████████| 179/179 [00:07<00:00, 22.70it/s]\n"
     ]
    },
    {
     "name": "stdout",
     "output_type": "stream",
     "text": [
      "Epoch 123,Average_loss 0.450666, Average Accucracy 0.532945\n",
      "  Inputs Words: ['how', 'are', 'you']\n",
      "  Replied Words: fine fine <EOS>\n",
      "\n",
      "\n"
     ]
    },
    {
     "name": "stderr",
     "output_type": "stream",
     "text": [
      "100%|██████████| 179/179 [00:07<00:00, 22.18it/s]\n"
     ]
    },
    {
     "name": "stdout",
     "output_type": "stream",
     "text": [
      "Epoch 124,Average_loss 0.453469, Average Accucracy 0.534851\n",
      "  Inputs Words: ['how', 'are', 'you']\n",
      "  Replied Words: hello <UNK> <EOS>\n",
      "\n",
      "\n"
     ]
    },
    {
     "name": "stderr",
     "output_type": "stream",
     "text": [
      "100%|██████████| 179/179 [00:07<00:00, 22.48it/s]\n"
     ]
    },
    {
     "name": "stdout",
     "output_type": "stream",
     "text": [
      "Epoch 125,Average_loss 0.440750, Average Accucracy 0.535687\n",
      "  Inputs Words: ['how', 'are', 'you']\n",
      "  Replied Words: looking at <EOS>\n",
      "\n",
      "\n"
     ]
    },
    {
     "name": "stderr",
     "output_type": "stream",
     "text": [
      "100%|██████████| 179/179 [00:07<00:00, 23.05it/s]\n"
     ]
    },
    {
     "name": "stdout",
     "output_type": "stream",
     "text": [
      "Epoch 126,Average_loss 0.437694, Average Accucracy 0.535687\n",
      "  Inputs Words: ['how', 'are', 'you']\n",
      "  Replied Words: hi fine <EOS>\n",
      "\n",
      "\n"
     ]
    },
    {
     "name": "stderr",
     "output_type": "stream",
     "text": [
      "100%|██████████| 179/179 [00:07<00:00, 22.59it/s]\n"
     ]
    },
    {
     "name": "stdout",
     "output_type": "stream",
     "text": [
      "Epoch 127,Average_loss 0.432619, Average Accucracy 0.538451\n",
      "  Inputs Words: ['how', 'are', 'you']\n",
      "  Replied Words: pretty fine <EOS>\n",
      "\n",
      "\n"
     ]
    },
    {
     "name": "stderr",
     "output_type": "stream",
     "text": [
      "100%|██████████| 179/179 [00:07<00:00, 22.71it/s]\n"
     ]
    },
    {
     "name": "stdout",
     "output_type": "stream",
     "text": [
      "Epoch 128,Average_loss 0.426806, Average Accucracy 0.541863\n",
      "  Inputs Words: ['how', 'are', 'you']\n",
      "  Replied Words: pretty sweet <EOS>\n",
      "\n",
      "\n"
     ]
    },
    {
     "name": "stderr",
     "output_type": "stream",
     "text": [
      "100%|██████████| 179/179 [00:07<00:00, 22.57it/s]\n"
     ]
    },
    {
     "name": "stdout",
     "output_type": "stream",
     "text": [
      "Epoch 129,Average_loss 0.425770, Average Accucracy 0.539644\n",
      "  Inputs Words: ['how', 'are', 'you']\n",
      "  Replied Words: very <UNK> <EOS>\n",
      "\n",
      "\n"
     ]
    },
    {
     "name": "stderr",
     "output_type": "stream",
     "text": [
      "100%|██████████| 179/179 [00:07<00:00, 22.61it/s]\n"
     ]
    },
    {
     "name": "stdout",
     "output_type": "stream",
     "text": [
      "Epoch 130,Average_loss 0.422567, Average Accucracy 0.542169\n",
      "  Inputs Words: ['how', 'are', 'you']\n",
      "  Replied Words: fine fine <EOS>\n",
      "\n",
      "\n"
     ]
    },
    {
     "name": "stderr",
     "output_type": "stream",
     "text": [
      "100%|██████████| 179/179 [00:08<00:00, 22.19it/s]\n"
     ]
    },
    {
     "name": "stdout",
     "output_type": "stream",
     "text": [
      "Epoch 131,Average_loss 0.415481, Average Accucracy 0.544773\n",
      "  Inputs Words: ['how', 'are', 'you']\n",
      "  Replied Words: excuse me <EOS>\n",
      "\n",
      "\n"
     ]
    },
    {
     "name": "stderr",
     "output_type": "stream",
     "text": [
      "100%|██████████| 179/179 [00:07<00:00, 22.65it/s]\n"
     ]
    },
    {
     "name": "stdout",
     "output_type": "stream",
     "text": [
      "Epoch 132,Average_loss 0.416683, Average Accucracy 0.543478\n",
      "  Inputs Words: ['how', 'are', 'you']\n",
      "  Replied Words: pretty good <EOS>\n",
      "\n",
      "\n"
     ]
    },
    {
     "name": "stderr",
     "output_type": "stream",
     "text": [
      "100%|██████████| 179/179 [00:07<00:00, 22.38it/s]\n"
     ]
    },
    {
     "name": "stdout",
     "output_type": "stream",
     "text": [
      "Epoch 133,Average_loss 0.416852, Average Accucracy 0.543805\n",
      "  Inputs Words: ['how', 'are', 'you']\n",
      "  Replied Words: excuse me <EOS>\n",
      "\n",
      "\n"
     ]
    },
    {
     "name": "stderr",
     "output_type": "stream",
     "text": [
      "100%|██████████| 179/179 [00:08<00:00, 21.90it/s]\n"
     ]
    },
    {
     "name": "stdout",
     "output_type": "stream",
     "text": [
      "Epoch 134,Average_loss 0.409767, Average Accucracy 0.546759\n",
      "  Inputs Words: ['how', 'are', 'you']\n",
      "  Replied Words: pretty leaving <EOS>\n",
      "\n",
      "\n"
     ]
    },
    {
     "name": "stderr",
     "output_type": "stream",
     "text": [
      "100%|██████████| 179/179 [00:08<00:00, 22.33it/s]\n"
     ]
    },
    {
     "name": "stdout",
     "output_type": "stream",
     "text": [
      "Epoch 135,Average_loss 0.406874, Average Accucracy 0.548708\n",
      "  Inputs Words: ['how', 'are', 'you']\n",
      "  Replied Words: pretty fine <EOS>\n",
      "\n",
      "\n"
     ]
    },
    {
     "name": "stderr",
     "output_type": "stream",
     "text": [
      "100%|██████████| 179/179 [00:07<00:00, 22.54it/s]\n"
     ]
    },
    {
     "name": "stdout",
     "output_type": "stream",
     "text": [
      "Epoch 136,Average_loss 0.405665, Average Accucracy 0.548774\n",
      "  Inputs Words: ['how', 'are', 'you']\n",
      "  Replied Words: looking good <EOS>\n",
      "\n",
      "\n"
     ]
    },
    {
     "name": "stderr",
     "output_type": "stream",
     "text": [
      "100%|██████████| 179/179 [00:07<00:00, 22.67it/s]\n"
     ]
    },
    {
     "name": "stdout",
     "output_type": "stream",
     "text": [
      "Epoch 137,Average_loss 0.403575, Average Accucracy 0.546359\n",
      "  Inputs Words: ['how', 'are', 'you']\n",
      "  Replied Words: fine fine <EOS>\n",
      "\n",
      "\n"
     ]
    },
    {
     "name": "stderr",
     "output_type": "stream",
     "text": [
      "100%|██████████| 179/179 [00:07<00:00, 22.69it/s]\n"
     ]
    },
    {
     "name": "stdout",
     "output_type": "stream",
     "text": [
      "Epoch 138,Average_loss 0.399383, Average Accucracy 0.549130\n",
      "  Inputs Words: ['how', 'are', 'you']\n",
      "  Replied Words: not coming <EOS>\n",
      "\n",
      "\n"
     ]
    },
    {
     "name": "stderr",
     "output_type": "stream",
     "text": [
      "100%|██████████| 179/179 [00:07<00:00, 22.66it/s]\n"
     ]
    },
    {
     "name": "stdout",
     "output_type": "stream",
     "text": [
      "Epoch 139,Average_loss 0.394666, Average Accucracy 0.554011\n",
      "  Inputs Words: ['how', 'are', 'you']\n",
      "  Replied Words: fine leaving <EOS>\n",
      "\n",
      "\n"
     ]
    },
    {
     "name": "stderr",
     "output_type": "stream",
     "text": [
      "100%|██████████| 179/179 [00:07<00:00, 22.80it/s]\n"
     ]
    },
    {
     "name": "stdout",
     "output_type": "stream",
     "text": [
      "Epoch 140,Average_loss 0.390870, Average Accucracy 0.554928\n",
      "  Inputs Words: ['how', 'are', 'you']\n",
      "  Replied Words: pretty fine <EOS>\n",
      "\n",
      "\n"
     ]
    },
    {
     "name": "stderr",
     "output_type": "stream",
     "text": [
      "100%|██████████| 179/179 [00:07<00:00, 22.23it/s]\n"
     ]
    },
    {
     "name": "stdout",
     "output_type": "stream",
     "text": [
      "Epoch 141,Average_loss 0.388049, Average Accucracy 0.554898\n",
      "  Inputs Words: ['how', 'are', 'you']\n",
      "  Replied Words: excuse me <EOS>\n",
      "\n",
      "\n"
     ]
    },
    {
     "name": "stderr",
     "output_type": "stream",
     "text": [
      "100%|██████████| 179/179 [00:08<00:00, 22.57it/s]\n"
     ]
    },
    {
     "name": "stdout",
     "output_type": "stream",
     "text": [
      "Epoch 142,Average_loss 0.385906, Average Accucracy 0.553451\n",
      "  Inputs Words: ['how', 'are', 'you']\n",
      "  Replied Words: excuse me <EOS>\n",
      "\n",
      "\n"
     ]
    },
    {
     "name": "stderr",
     "output_type": "stream",
     "text": [
      "100%|██████████| 179/179 [00:07<00:00, 22.63it/s]\n"
     ]
    },
    {
     "name": "stdout",
     "output_type": "stream",
     "text": [
      "Epoch 143,Average_loss 0.386349, Average Accucracy 0.553705\n",
      "  Inputs Words: ['how', 'are', 'you']\n",
      "  Replied Words: excuse me <EOS>\n",
      "\n",
      "\n"
     ]
    },
    {
     "name": "stderr",
     "output_type": "stream",
     "text": [
      "100%|██████████| 179/179 [00:07<00:00, 22.55it/s]\n"
     ]
    },
    {
     "name": "stdout",
     "output_type": "stream",
     "text": [
      "Epoch 144,Average_loss 0.376319, Average Accucracy 0.557328\n",
      "  Inputs Words: ['how', 'are', 'you']\n",
      "  Replied Words: pretty quiet <EOS>\n",
      "\n",
      "\n"
     ]
    },
    {
     "name": "stderr",
     "output_type": "stream",
     "text": [
      "100%|██████████| 179/179 [00:07<00:00, 22.60it/s]\n"
     ]
    },
    {
     "name": "stdout",
     "output_type": "stream",
     "text": [
      "Epoch 145,Average_loss 0.381216, Average Accucracy 0.556622\n",
      "  Inputs Words: ['how', 'are', 'you']\n",
      "  Replied Words: pretty good <EOS>\n",
      "\n",
      "\n"
     ]
    },
    {
     "name": "stderr",
     "output_type": "stream",
     "text": [
      "100%|██████████| 179/179 [00:07<00:00, 22.82it/s]\n"
     ]
    },
    {
     "name": "stdout",
     "output_type": "stream",
     "text": [
      "Epoch 146,Average_loss 0.383495, Average Accucracy 0.555640\n",
      "  Inputs Words: ['how', 'are', 'you']\n",
      "  Replied Words: excuse me <EOS>\n",
      "\n",
      "\n"
     ]
    },
    {
     "name": "stderr",
     "output_type": "stream",
     "text": [
      "100%|██████████| 179/179 [00:07<00:00, 22.75it/s]\n"
     ]
    },
    {
     "name": "stdout",
     "output_type": "stream",
     "text": [
      "Epoch 147,Average_loss 0.377450, Average Accucracy 0.561125\n",
      "  Inputs Words: ['how', 'are', 'you']\n",
      "  Replied Words: pretty good <EOS>\n",
      "\n",
      "\n"
     ]
    },
    {
     "name": "stderr",
     "output_type": "stream",
     "text": [
      "100%|██████████| 179/179 [00:07<00:00, 22.70it/s]\n"
     ]
    },
    {
     "name": "stdout",
     "output_type": "stream",
     "text": [
      "Epoch 148,Average_loss 0.375227, Average Accucracy 0.557386\n",
      "  Inputs Words: ['how', 'are', 'you']\n",
      "  Replied Words: pretty good <EOS>\n",
      "\n",
      "\n"
     ]
    },
    {
     "name": "stderr",
     "output_type": "stream",
     "text": [
      "100%|██████████| 179/179 [00:07<00:00, 22.79it/s]\n"
     ]
    },
    {
     "name": "stdout",
     "output_type": "stream",
     "text": [
      "Epoch 149,Average_loss 0.369727, Average Accucracy 0.558441\n",
      "  Inputs Words: ['how', 'are', 'you']\n",
      "  Replied Words: pretty ready <EOS>\n",
      "\n",
      "\n"
     ]
    },
    {
     "name": "stderr",
     "output_type": "stream",
     "text": [
      "100%|██████████| 179/179 [00:07<00:00, 22.59it/s]\n"
     ]
    },
    {
     "name": "stdout",
     "output_type": "stream",
     "text": [
      "Epoch 150,Average_loss 0.369208, Average Accucracy 0.560631\n",
      "  Inputs Words: ['how', 'are', 'you']\n",
      "  Replied Words: pretty fine <EOS>\n",
      "\n",
      "\n"
     ]
    },
    {
     "name": "stderr",
     "output_type": "stream",
     "text": [
      "100%|██████████| 179/179 [00:07<00:00, 22.23it/s]\n"
     ]
    },
    {
     "name": "stdout",
     "output_type": "stream",
     "text": [
      "Epoch 151,Average_loss 0.365154, Average Accucracy 0.560667\n",
      "  Inputs Words: ['how', 'are', 'you']\n",
      "  Replied Words: okay complain <EOS>\n",
      "\n",
      "\n"
     ]
    },
    {
     "name": "stderr",
     "output_type": "stream",
     "text": [
      "100%|██████████| 179/179 [00:07<00:00, 22.67it/s]\n"
     ]
    },
    {
     "name": "stdout",
     "output_type": "stream",
     "text": [
      "Epoch 152,Average_loss 0.362174, Average Accucracy 0.564348\n",
      "  Inputs Words: ['how', 'are', 'you']\n",
      "  Replied Words: pretty fine <EOS>\n",
      "\n",
      "\n"
     ]
    },
    {
     "name": "stderr",
     "output_type": "stream",
     "text": [
      "100%|██████████| 179/179 [00:07<00:00, 22.70it/s]\n"
     ]
    },
    {
     "name": "stdout",
     "output_type": "stream",
     "text": [
      "Epoch 153,Average_loss 0.360648, Average Accucracy 0.565599\n",
      "  Inputs Words: ['how', 'are', 'you']\n",
      "  Replied Words: very much <EOS>\n",
      "\n",
      "\n"
     ]
    },
    {
     "name": "stderr",
     "output_type": "stream",
     "text": [
      "100%|██████████| 179/179 [00:07<00:00, 22.97it/s]\n"
     ]
    },
    {
     "name": "stdout",
     "output_type": "stream",
     "text": [
      "Epoch 154,Average_loss 0.365723, Average Accucracy 0.563446\n",
      "  Inputs Words: ['how', 'are', 'you']\n",
      "  Replied Words: very well <EOS>\n",
      "\n",
      "\n"
     ]
    },
    {
     "name": "stderr",
     "output_type": "stream",
     "text": [
      "100%|██████████| 179/179 [00:07<00:00, 22.61it/s]\n"
     ]
    },
    {
     "name": "stdout",
     "output_type": "stream",
     "text": [
      "Epoch 155,Average_loss 0.362015, Average Accucracy 0.563344\n",
      "  Inputs Words: ['how', 'are', 'you']\n",
      "  Replied Words: <UNK> ready <EOS>\n",
      "\n",
      "\n"
     ]
    },
    {
     "name": "stderr",
     "output_type": "stream",
     "text": [
      "100%|██████████| 179/179 [00:07<00:00, 22.65it/s]\n"
     ]
    },
    {
     "name": "stdout",
     "output_type": "stream",
     "text": [
      "Epoch 156,Average_loss 0.353986, Average Accucracy 0.563482\n",
      "  Inputs Words: ['how', 'are', 'you']\n",
      "  Replied Words: fine fine <EOS>\n",
      "\n",
      "\n"
     ]
    },
    {
     "name": "stderr",
     "output_type": "stream",
     "text": [
      "100%|██████████| 179/179 [00:07<00:00, 22.61it/s]\n"
     ]
    },
    {
     "name": "stdout",
     "output_type": "stream",
     "text": [
      "Epoch 157,Average_loss 0.356535, Average Accucracy 0.562544\n",
      "  Inputs Words: ['how', 'are', 'you']\n",
      "  Replied Words: pretty ready <EOS>\n",
      "\n",
      "\n"
     ]
    },
    {
     "name": "stderr",
     "output_type": "stream",
     "text": [
      "100%|██████████| 179/179 [00:07<00:00, 22.51it/s]\n"
     ]
    },
    {
     "name": "stdout",
     "output_type": "stream",
     "text": [
      "Epoch 158,Average_loss 0.350348, Average Accucracy 0.565708\n",
      "  Inputs Words: ['how', 'are', 'you']\n",
      "  Replied Words: hello <UNK> <EOS>\n",
      "\n",
      "\n"
     ]
    },
    {
     "name": "stderr",
     "output_type": "stream",
     "text": [
      "100%|██████████| 179/179 [00:08<00:00, 22.31it/s]\n"
     ]
    },
    {
     "name": "stdout",
     "output_type": "stream",
     "text": [
      "Epoch 159,Average_loss 0.347304, Average Accucracy 0.569541\n",
      "  Inputs Words: ['how', 'are', 'you']\n",
      "  Replied Words: hello <UNK> <EOS>\n",
      "\n",
      "\n"
     ]
    },
    {
     "name": "stderr",
     "output_type": "stream",
     "text": [
      "100%|██████████| 179/179 [00:07<00:00, 22.50it/s]\n"
     ]
    },
    {
     "name": "stdout",
     "output_type": "stream",
     "text": [
      "Epoch 160,Average_loss 0.352336, Average Accucracy 0.564617\n",
      "  Inputs Words: ['how', 'are', 'you']\n",
      "  Replied Words: fine fine <EOS>\n",
      "\n",
      "\n"
     ]
    },
    {
     "name": "stderr",
     "output_type": "stream",
     "text": [
      "100%|██████████| 179/179 [00:07<00:00, 22.76it/s]\n"
     ]
    },
    {
     "name": "stdout",
     "output_type": "stream",
     "text": [
      "Epoch 161,Average_loss 0.345926, Average Accucracy 0.567767\n",
      "  Inputs Words: ['how', 'are', 'you']\n",
      "  Replied Words: okay complain <EOS>\n",
      "\n",
      "\n"
     ]
    },
    {
     "name": "stderr",
     "output_type": "stream",
     "text": [
      "100%|██████████| 179/179 [00:07<00:00, 22.49it/s]\n"
     ]
    },
    {
     "name": "stdout",
     "output_type": "stream",
     "text": [
      "Epoch 162,Average_loss 0.344447, Average Accucracy 0.567825\n",
      "  Inputs Words: ['how', 'are', 'you']\n",
      "  Replied Words: very well <EOS>\n",
      "\n",
      "\n"
     ]
    },
    {
     "name": "stderr",
     "output_type": "stream",
     "text": [
      "100%|██████████| 179/179 [00:07<00:00, 22.87it/s]\n"
     ]
    },
    {
     "name": "stdout",
     "output_type": "stream",
     "text": [
      "Epoch 163,Average_loss 0.344408, Average Accucracy 0.570254\n",
      "  Inputs Words: ['how', 'are', 'you']\n",
      "  Replied Words: fine fine <EOS>\n",
      "\n",
      "\n"
     ]
    },
    {
     "name": "stderr",
     "output_type": "stream",
     "text": [
      "100%|██████████| 179/179 [00:08<00:00, 22.19it/s]\n"
     ]
    },
    {
     "name": "stdout",
     "output_type": "stream",
     "text": [
      "Epoch 164,Average_loss 0.343046, Average Accucracy 0.569723\n",
      "  Inputs Words: ['how', 'are', 'you']\n",
      "  Replied Words: hi fine <EOS>\n",
      "\n",
      "\n"
     ]
    },
    {
     "name": "stderr",
     "output_type": "stream",
     "text": [
      "100%|██████████| 179/179 [00:07<00:00, 22.73it/s]\n"
     ]
    },
    {
     "name": "stdout",
     "output_type": "stream",
     "text": [
      "Epoch 165,Average_loss 0.341382, Average Accucracy 0.569512\n",
      "  Inputs Words: ['how', 'are', 'you']\n",
      "  Replied Words: very well <EOS>\n",
      "\n",
      "\n"
     ]
    },
    {
     "name": "stderr",
     "output_type": "stream",
     "text": [
      "100%|██████████| 179/179 [00:07<00:00, 22.70it/s]\n"
     ]
    },
    {
     "name": "stdout",
     "output_type": "stream",
     "text": [
      "Epoch 166,Average_loss 0.339692, Average Accucracy 0.571404\n",
      "  Inputs Words: ['how', 'are', 'you']\n",
      "  Replied Words: pretty good <EOS>\n",
      "\n",
      "\n"
     ]
    },
    {
     "name": "stderr",
     "output_type": "stream",
     "text": [
      "100%|██████████| 179/179 [00:08<00:00, 22.29it/s]\n"
     ]
    },
    {
     "name": "stdout",
     "output_type": "stream",
     "text": [
      "Epoch 167,Average_loss 0.337038, Average Accucracy 0.571956\n",
      "  Inputs Words: ['how', 'are', 'you']\n",
      "  Replied Words: fine fine <EOS>\n",
      "\n",
      "\n"
     ]
    },
    {
     "name": "stderr",
     "output_type": "stream",
     "text": [
      "100%|██████████| 179/179 [00:08<00:00, 22.73it/s]\n"
     ]
    },
    {
     "name": "stdout",
     "output_type": "stream",
     "text": [
      "Epoch 168,Average_loss 0.334453, Average Accucracy 0.575143\n",
      "  Inputs Words: ['how', 'are', 'you']\n",
      "  Replied Words: hello heart <EOS>\n",
      "\n",
      "\n"
     ]
    },
    {
     "name": "stderr",
     "output_type": "stream",
     "text": [
      "100%|██████████| 179/179 [00:07<00:00, 22.65it/s]\n"
     ]
    },
    {
     "name": "stdout",
     "output_type": "stream",
     "text": [
      "Epoch 169,Average_loss 0.331801, Average Accucracy 0.574139\n",
      "  Inputs Words: ['how', 'are', 'you']\n",
      "  Replied Words: very ready <EOS>\n",
      "\n",
      "\n"
     ]
    },
    {
     "name": "stderr",
     "output_type": "stream",
     "text": [
      "100%|██████████| 179/179 [00:07<00:00, 22.77it/s]\n"
     ]
    },
    {
     "name": "stdout",
     "output_type": "stream",
     "text": [
      "Epoch 170,Average_loss 0.336399, Average Accucracy 0.573993\n",
      "  Inputs Words: ['how', 'are', 'you']\n",
      "  Replied Words: fine fine <EOS>\n",
      "\n",
      "\n"
     ]
    },
    {
     "name": "stderr",
     "output_type": "stream",
     "text": [
      "100%|██████████| 179/179 [00:07<00:00, 22.76it/s]\n"
     ]
    },
    {
     "name": "stdout",
     "output_type": "stream",
     "text": [
      "Epoch 171,Average_loss 0.333254, Average Accucracy 0.573760\n",
      "  Inputs Words: ['how', 'are', 'you']\n",
      "  Replied Words: pretty good <EOS>\n",
      "\n",
      "\n"
     ]
    },
    {
     "name": "stderr",
     "output_type": "stream",
     "text": [
      "100%|██████████| 179/179 [00:07<00:00, 22.81it/s]\n"
     ]
    },
    {
     "name": "stdout",
     "output_type": "stream",
     "text": [
      "Epoch 172,Average_loss 0.330342, Average Accucracy 0.575375\n",
      "  Inputs Words: ['how', 'are', 'you']\n",
      "  Replied Words: nineteen here <EOS>\n",
      "\n",
      "\n"
     ]
    },
    {
     "name": "stderr",
     "output_type": "stream",
     "text": [
      "100%|██████████| 179/179 [00:07<00:00, 22.39it/s]\n"
     ]
    },
    {
     "name": "stdout",
     "output_type": "stream",
     "text": [
      "Epoch 173,Average_loss 0.327985, Average Accucracy 0.575106\n",
      "  Inputs Words: ['how', 'are', 'you']\n",
      "  Replied Words: looking at <EOS>\n",
      "\n",
      "\n"
     ]
    },
    {
     "name": "stderr",
     "output_type": "stream",
     "text": [
      "100%|██████████| 179/179 [00:07<00:00, 22.71it/s]\n"
     ]
    },
    {
     "name": "stdout",
     "output_type": "stream",
     "text": [
      "Epoch 174,Average_loss 0.325191, Average Accucracy 0.576023\n",
      "  Inputs Words: ['how', 'are', 'you']\n",
      "  Replied Words: pretty coming <EOS>\n",
      "\n",
      "\n"
     ]
    },
    {
     "name": "stderr",
     "output_type": "stream",
     "text": [
      "100%|██████████| 179/179 [00:07<00:00, 23.01it/s]\n"
     ]
    },
    {
     "name": "stdout",
     "output_type": "stream",
     "text": [
      "Epoch 175,Average_loss 0.322220, Average Accucracy 0.574888\n",
      "  Inputs Words: ['how', 'are', 'you']\n",
      "  Replied Words: nineteen asleep <EOS>\n",
      "\n",
      "\n"
     ]
    },
    {
     "name": "stderr",
     "output_type": "stream",
     "text": [
      "100%|██████████| 179/179 [00:07<00:00, 22.53it/s]\n"
     ]
    },
    {
     "name": "stdout",
     "output_type": "stream",
     "text": [
      "Epoch 176,Average_loss 0.320835, Average Accucracy 0.576474\n",
      "  Inputs Words: ['how', 'are', 'you']\n",
      "  Replied Words: ah fine <EOS>\n",
      "\n",
      "\n"
     ]
    },
    {
     "name": "stderr",
     "output_type": "stream",
     "text": [
      "100%|██████████| 179/179 [00:08<00:00, 22.72it/s]\n"
     ]
    },
    {
     "name": "stdout",
     "output_type": "stream",
     "text": [
      "Epoch 177,Average_loss 0.321135, Average Accucracy 0.579463\n",
      "  Inputs Words: ['how', 'are', 'you']\n",
      "  Replied Words: nineteen fine <EOS>\n",
      "\n",
      "\n"
     ]
    },
    {
     "name": "stderr",
     "output_type": "stream",
     "text": [
      "100%|██████████| 179/179 [00:07<00:00, 22.40it/s]\n"
     ]
    },
    {
     "name": "stdout",
     "output_type": "stream",
     "text": [
      "Epoch 178,Average_loss 0.320893, Average Accucracy 0.577114\n",
      "  Inputs Words: ['how', 'are', 'you']\n",
      "  Replied Words: fine fine <EOS>\n",
      "\n",
      "\n"
     ]
    },
    {
     "name": "stderr",
     "output_type": "stream",
     "text": [
      "100%|██████████| 179/179 [00:07<00:00, 22.72it/s]\n"
     ]
    },
    {
     "name": "stdout",
     "output_type": "stream",
     "text": [
      "Epoch 179,Average_loss 0.319364, Average Accucracy 0.578110\n",
      "  Inputs Words: ['how', 'are', 'you']\n",
      "  Replied Words: okay nothing <EOS>\n",
      "\n",
      "\n"
     ]
    },
    {
     "name": "stderr",
     "output_type": "stream",
     "text": [
      "100%|██████████| 179/179 [00:07<00:00, 22.62it/s]\n"
     ]
    },
    {
     "name": "stdout",
     "output_type": "stream",
     "text": [
      "Epoch 180,Average_loss 0.318794, Average Accucracy 0.577994\n",
      "  Inputs Words: ['how', 'are', 'you']\n",
      "  Replied Words: ah okay <EOS>\n",
      "\n",
      "\n"
     ]
    },
    {
     "name": "stderr",
     "output_type": "stream",
     "text": [
      "100%|██████████| 179/179 [00:07<00:00, 22.43it/s]\n"
     ]
    },
    {
     "name": "stdout",
     "output_type": "stream",
     "text": [
      "Epoch 181,Average_loss 0.318984, Average Accucracy 0.578663\n",
      "  Inputs Words: ['how', 'are', 'you']\n",
      "  Replied Words: looking at <EOS>\n",
      "\n",
      "\n"
     ]
    },
    {
     "name": "stderr",
     "output_type": "stream",
     "text": [
      "100%|██████████| 179/179 [00:07<00:00, 22.55it/s]\n"
     ]
    },
    {
     "name": "stdout",
     "output_type": "stream",
     "text": [
      "Epoch 182,Average_loss 0.316693, Average Accucracy 0.578525\n",
      "  Inputs Words: ['how', 'are', 'you']\n",
      "  Replied Words: nineteen off <EOS>\n",
      "\n",
      "\n"
     ]
    },
    {
     "name": "stderr",
     "output_type": "stream",
     "text": [
      "100%|██████████| 179/179 [00:07<00:00, 22.47it/s]\n"
     ]
    },
    {
     "name": "stdout",
     "output_type": "stream",
     "text": [
      "Epoch 183,Average_loss 0.314154, Average Accucracy 0.581027\n",
      "  Inputs Words: ['how', 'are', 'you']\n",
      "  Replied Words: another while <EOS>\n",
      "\n",
      "\n"
     ]
    },
    {
     "name": "stderr",
     "output_type": "stream",
     "text": [
      "100%|██████████| 179/179 [00:07<00:00, 22.27it/s]\n"
     ]
    },
    {
     "name": "stdout",
     "output_type": "stream",
     "text": [
      "Epoch 184,Average_loss 0.311223, Average Accucracy 0.582344\n",
      "  Inputs Words: ['how', 'are', 'you']\n",
      "  Replied Words: happy ride <EOS>\n",
      "\n",
      "\n"
     ]
    },
    {
     "name": "stderr",
     "output_type": "stream",
     "text": [
      "100%|██████████| 179/179 [00:08<00:00, 22.64it/s]\n"
     ]
    },
    {
     "name": "stdout",
     "output_type": "stream",
     "text": [
      "Epoch 185,Average_loss 0.307417, Average Accucracy 0.583079\n",
      "  Inputs Words: ['how', 'are', 'you']\n",
      "  Replied Words: another fine <EOS>\n",
      "\n",
      "\n"
     ]
    },
    {
     "name": "stderr",
     "output_type": "stream",
     "text": [
      "100%|██████████| 179/179 [00:07<00:00, 22.93it/s]\n"
     ]
    },
    {
     "name": "stdout",
     "output_type": "stream",
     "text": [
      "Epoch 186,Average_loss 0.309645, Average Accucracy 0.581609\n",
      "  Inputs Words: ['how', 'are', 'you']\n",
      "  Replied Words: fine fine <EOS>\n",
      "\n",
      "\n"
     ]
    },
    {
     "name": "stderr",
     "output_type": "stream",
     "text": [
      "100%|██████████| 179/179 [00:07<00:00, 22.53it/s]\n"
     ]
    },
    {
     "name": "stdout",
     "output_type": "stream",
     "text": [
      "Epoch 187,Average_loss 0.309327, Average Accucracy 0.582555\n",
      "  Inputs Words: ['how', 'are', 'you']\n",
      "  Replied Words: frankly hi <EOS>\n",
      "\n",
      "\n"
     ]
    },
    {
     "name": "stderr",
     "output_type": "stream",
     "text": [
      "100%|██████████| 179/179 [00:08<00:00, 22.21it/s]\n"
     ]
    },
    {
     "name": "stdout",
     "output_type": "stream",
     "text": [
      "Epoch 188,Average_loss 0.315198, Average Accucracy 0.582839\n",
      "  Inputs Words: ['how', 'are', 'you']\n",
      "  Replied Words: pretty good <EOS>\n",
      "\n",
      "\n"
     ]
    },
    {
     "name": "stderr",
     "output_type": "stream",
     "text": [
      "100%|██████████| 179/179 [00:08<00:00, 22.26it/s]\n"
     ]
    },
    {
     "name": "stdout",
     "output_type": "stream",
     "text": [
      "Epoch 189,Average_loss 0.309217, Average Accucracy 0.582497\n",
      "  Inputs Words: ['how', 'are', 'you']\n",
      "  Replied Words: nineteen asleep <EOS>\n",
      "\n",
      "\n"
     ]
    },
    {
     "name": "stderr",
     "output_type": "stream",
     "text": [
      "100%|██████████| 179/179 [00:07<00:00, 22.29it/s]\n"
     ]
    },
    {
     "name": "stdout",
     "output_type": "stream",
     "text": [
      "Epoch 190,Average_loss 0.306059, Average Accucracy 0.584366\n",
      "  Inputs Words: ['how', 'are', 'you']\n",
      "  Replied Words: excuse me <EOS>\n",
      "\n",
      "\n"
     ]
    },
    {
     "name": "stderr",
     "output_type": "stream",
     "text": [
      "100%|██████████| 179/179 [00:08<00:00, 22.33it/s]\n"
     ]
    },
    {
     "name": "stdout",
     "output_type": "stream",
     "text": [
      "Epoch 191,Average_loss 0.305624, Average Accucracy 0.583159\n",
      "  Inputs Words: ['how', 'are', 'you']\n",
      "  Replied Words: pretty ready <EOS>\n",
      "\n",
      "\n"
     ]
    },
    {
     "name": "stderr",
     "output_type": "stream",
     "text": [
      "100%|██████████| 179/179 [00:08<00:00, 22.13it/s]\n"
     ]
    },
    {
     "name": "stdout",
     "output_type": "stream",
     "text": [
      "Epoch 192,Average_loss 0.303180, Average Accucracy 0.583442\n",
      "  Inputs Words: ['how', 'are', 'you']\n",
      "  Replied Words: fine fine <EOS>\n",
      "\n",
      "\n"
     ]
    },
    {
     "name": "stderr",
     "output_type": "stream",
     "text": [
      "100%|██████████| 179/179 [00:08<00:00, 21.70it/s]\n"
     ]
    },
    {
     "name": "stdout",
     "output_type": "stream",
     "text": [
      "Epoch 193,Average_loss 0.297490, Average Accucracy 0.586061\n",
      "  Inputs Words: ['how', 'are', 'you']\n",
      "  Replied Words: excuse me <EOS>\n",
      "\n",
      "\n"
     ]
    },
    {
     "name": "stderr",
     "output_type": "stream",
     "text": [
      "100%|██████████| 179/179 [00:08<00:00, 22.15it/s]\n"
     ]
    },
    {
     "name": "stdout",
     "output_type": "stream",
     "text": [
      "Epoch 194,Average_loss 0.299362, Average Accucracy 0.585217\n",
      "  Inputs Words: ['how', 'are', 'you']\n",
      "  Replied Words: <UNK> <UNK> <EOS>\n",
      "\n",
      "\n"
     ]
    },
    {
     "name": "stderr",
     "output_type": "stream",
     "text": [
      "100%|██████████| 179/179 [00:07<00:00, 22.39it/s]\n"
     ]
    },
    {
     "name": "stdout",
     "output_type": "stream",
     "text": [
      "Epoch 195,Average_loss 0.297402, Average Accucracy 0.588156\n",
      "  Inputs Words: ['how', 'are', 'you']\n",
      "  Replied Words: excuse me <EOS>\n",
      "\n",
      "\n"
     ]
    },
    {
     "name": "stderr",
     "output_type": "stream",
     "text": [
      "100%|██████████| 179/179 [00:08<00:00, 21.72it/s]\n"
     ]
    },
    {
     "name": "stdout",
     "output_type": "stream",
     "text": [
      "Epoch 196,Average_loss 0.297291, Average Accucracy 0.585865\n",
      "  Inputs Words: ['how', 'are', 'you']\n",
      "  Replied Words: pretty good <EOS>\n",
      "\n",
      "\n"
     ]
    },
    {
     "name": "stderr",
     "output_type": "stream",
     "text": [
      "100%|██████████| 179/179 [00:08<00:00, 22.19it/s]\n"
     ]
    },
    {
     "name": "stdout",
     "output_type": "stream",
     "text": [
      "Epoch 197,Average_loss 0.294932, Average Accucracy 0.589938\n",
      "  Inputs Words: ['how', 'are', 'you']\n",
      "  Replied Words: ah ugh <EOS>\n",
      "\n",
      "\n"
     ]
    },
    {
     "name": "stderr",
     "output_type": "stream",
     "text": [
      "100%|██████████| 179/179 [00:08<00:00, 22.07it/s]\n"
     ]
    },
    {
     "name": "stdout",
     "output_type": "stream",
     "text": [
      "Epoch 198,Average_loss 0.294853, Average Accucracy 0.587298\n",
      "  Inputs Words: ['how', 'are', 'you']\n",
      "  Replied Words: excuse me <EOS>\n",
      "\n",
      "\n"
     ]
    },
    {
     "name": "stderr",
     "output_type": "stream",
     "text": [
      "100%|██████████| 179/179 [00:08<00:00, 21.33it/s]\n"
     ]
    },
    {
     "name": "stdout",
     "output_type": "stream",
     "text": [
      "Epoch 199,Average_loss 0.288218, Average Accucracy 0.588207\n",
      "  Inputs Words: ['how', 'are', 'you']\n",
      "  Replied Words: my highness <EOS>\n",
      "\n",
      "\n"
     ]
    },
    {
     "name": "stderr",
     "output_type": "stream",
     "text": [
      "100%|██████████| 179/179 [00:08<00:00, 21.68it/s]\n"
     ]
    },
    {
     "name": "stdout",
     "output_type": "stream",
     "text": [
      "Epoch 200,Average_loss 0.294961, Average Accucracy 0.587152\n",
      "  Inputs Words: ['how', 'are', 'you']\n",
      "  Replied Words: my highness <EOS>\n",
      "\n",
      "\n"
     ]
    },
    {
     "name": "stderr",
     "output_type": "stream",
     "text": [
      "100%|██████████| 179/179 [00:08<00:00, 21.92it/s]\n"
     ]
    },
    {
     "name": "stdout",
     "output_type": "stream",
     "text": [
      "Epoch 201,Average_loss 0.294740, Average Accucracy 0.588040\n",
      "  Inputs Words: ['how', 'are', 'you']\n",
      "  Replied Words: excuse me <EOS>\n",
      "\n",
      "\n"
     ]
    },
    {
     "name": "stderr",
     "output_type": "stream",
     "text": [
      "100%|██████████| 179/179 [00:08<00:00, 22.55it/s]\n"
     ]
    },
    {
     "name": "stdout",
     "output_type": "stream",
     "text": [
      "Epoch 202,Average_loss 0.297138, Average Accucracy 0.586258\n",
      "  Inputs Words: ['how', 'are', 'you']\n",
      "  Replied Words: very well <EOS>\n",
      "\n",
      "\n"
     ]
    },
    {
     "name": "stderr",
     "output_type": "stream",
     "text": [
      "100%|██████████| 179/179 [00:08<00:00, 22.16it/s]\n"
     ]
    },
    {
     "name": "stdout",
     "output_type": "stream",
     "text": [
      "Epoch 203,Average_loss 0.289427, Average Accucracy 0.589596\n",
      "  Inputs Words: ['how', 'are', 'you']\n",
      "  Replied Words: excuse me <EOS>\n",
      "\n",
      "\n"
     ]
    },
    {
     "name": "stderr",
     "output_type": "stream",
     "text": [
      "100%|██████████| 179/179 [00:08<00:00, 22.36it/s]\n"
     ]
    },
    {
     "name": "stdout",
     "output_type": "stream",
     "text": [
      "Epoch 204,Average_loss 0.290265, Average Accucracy 0.590608\n",
      "  Inputs Words: ['how', 'are', 'you']\n",
      "  Replied Words: fine fine <EOS>\n",
      "\n",
      "\n"
     ]
    },
    {
     "name": "stderr",
     "output_type": "stream",
     "text": [
      "100%|██████████| 179/179 [00:07<00:00, 22.41it/s]\n"
     ]
    },
    {
     "name": "stdout",
     "output_type": "stream",
     "text": [
      "Epoch 205,Average_loss 0.290232, Average Accucracy 0.588702\n",
      "  Inputs Words: ['how', 'are', 'you']\n",
      "  Replied Words: excuse me <EOS>\n",
      "\n",
      "\n"
     ]
    },
    {
     "name": "stderr",
     "output_type": "stream",
     "text": [
      "100%|██████████| 179/179 [00:08<00:00, 22.24it/s]\n"
     ]
    },
    {
     "name": "stdout",
     "output_type": "stream",
     "text": [
      "Epoch 206,Average_loss 0.285120, Average Accucracy 0.587298\n",
      "  Inputs Words: ['how', 'are', 'you']\n",
      "  Replied Words: fine fine <EOS>\n",
      "\n",
      "\n"
     ]
    },
    {
     "name": "stderr",
     "output_type": "stream",
     "text": [
      "100%|██████████| 179/179 [00:08<00:00, 22.31it/s]\n"
     ]
    },
    {
     "name": "stdout",
     "output_type": "stream",
     "text": [
      "Epoch 207,Average_loss 0.286269, Average Accucracy 0.590935\n",
      "  Inputs Words: ['how', 'are', 'you']\n",
      "  Replied Words: oh fine <EOS>\n",
      "\n",
      "\n"
     ]
    },
    {
     "name": "stderr",
     "output_type": "stream",
     "text": [
      "100%|██████████| 179/179 [00:08<00:00, 22.21it/s]\n"
     ]
    },
    {
     "name": "stdout",
     "output_type": "stream",
     "text": [
      "Epoch 208,Average_loss 0.290227, Average Accucracy 0.589560\n",
      "  Inputs Words: ['how', 'are', 'you']\n",
      "  Replied Words: another fine <EOS>\n",
      "\n",
      "\n"
     ]
    },
    {
     "name": "stderr",
     "output_type": "stream",
     "text": [
      "100%|██████████| 179/179 [00:08<00:00, 21.91it/s]\n"
     ]
    },
    {
     "name": "stdout",
     "output_type": "stream",
     "text": [
      "Epoch 209,Average_loss 0.289287, Average Accucracy 0.591546\n",
      "  Inputs Words: ['how', 'are', 'you']\n",
      "  Replied Words: fine fine <EOS>\n",
      "\n",
      "\n"
     ]
    },
    {
     "name": "stderr",
     "output_type": "stream",
     "text": [
      "100%|██████████| 179/179 [00:08<00:00, 22.08it/s]\n"
     ]
    },
    {
     "name": "stdout",
     "output_type": "stream",
     "text": [
      "Epoch 210,Average_loss 0.287168, Average Accucracy 0.592950\n",
      "  Inputs Words: ['how', 'are', 'you']\n",
      "  Replied Words: nineteen fine <EOS>\n",
      "\n",
      "\n"
     ]
    },
    {
     "name": "stderr",
     "output_type": "stream",
     "text": [
      "100%|██████████| 179/179 [00:08<00:00, 22.33it/s]\n"
     ]
    },
    {
     "name": "stdout",
     "output_type": "stream",
     "text": [
      "Epoch 211,Average_loss 0.282523, Average Accucracy 0.591299\n",
      "  Inputs Words: ['how', 'are', 'you']\n",
      "  Replied Words: fine fine <EOS>\n",
      "\n",
      "\n"
     ]
    },
    {
     "name": "stderr",
     "output_type": "stream",
     "text": [
      "100%|██████████| 179/179 [00:08<00:00, 22.31it/s]\n"
     ]
    },
    {
     "name": "stdout",
     "output_type": "stream",
     "text": [
      "Epoch 212,Average_loss 0.286966, Average Accucracy 0.589866\n",
      "  Inputs Words: ['how', 'are', 'you']\n",
      "  Replied Words: pretty high <EOS>\n",
      "\n",
      "\n"
     ]
    },
    {
     "name": "stderr",
     "output_type": "stream",
     "text": [
      "100%|██████████| 179/179 [00:07<00:00, 22.40it/s]\n"
     ]
    },
    {
     "name": "stdout",
     "output_type": "stream",
     "text": [
      "Epoch 213,Average_loss 0.283822, Average Accucracy 0.591640\n",
      "  Inputs Words: ['how', 'are', 'you']\n",
      "  Replied Words: excuse me <EOS>\n",
      "\n",
      "\n"
     ]
    },
    {
     "name": "stderr",
     "output_type": "stream",
     "text": [
      "100%|██████████| 179/179 [00:08<00:00, 22.26it/s]\n"
     ]
    },
    {
     "name": "stdout",
     "output_type": "stream",
     "text": [
      "Epoch 214,Average_loss 0.282718, Average Accucracy 0.591044\n",
      "  Inputs Words: ['how', 'are', 'you']\n",
      "  Replied Words: another young <EOS>\n",
      "\n",
      "\n"
     ]
    },
    {
     "name": "stderr",
     "output_type": "stream",
     "text": [
      "100%|██████████| 179/179 [00:08<00:00, 22.35it/s]\n"
     ]
    },
    {
     "name": "stdout",
     "output_type": "stream",
     "text": [
      "Epoch 215,Average_loss 0.280733, Average Accucracy 0.593459\n",
      "  Inputs Words: ['how', 'are', 'you']\n",
      "  Replied Words: nineteen here <EOS>\n",
      "\n",
      "\n"
     ]
    },
    {
     "name": "stderr",
     "output_type": "stream",
     "text": [
      "100%|██████████| 179/179 [00:08<00:00, 22.26it/s]\n"
     ]
    },
    {
     "name": "stdout",
     "output_type": "stream",
     "text": [
      "Epoch 216,Average_loss 0.276418, Average Accucracy 0.594514\n",
      "  Inputs Words: ['how', 'are', 'you']\n",
      "  Replied Words: pretty good <EOS>\n",
      "\n",
      "\n"
     ]
    },
    {
     "name": "stderr",
     "output_type": "stream",
     "text": [
      "100%|██████████| 179/179 [00:08<00:00, 21.77it/s]\n"
     ]
    },
    {
     "name": "stdout",
     "output_type": "stream",
     "text": [
      "Epoch 217,Average_loss 0.278479, Average Accucracy 0.593750\n",
      "  Inputs Words: ['how', 'are', 'you']\n",
      "  Replied Words: penelope in <EOS>\n",
      "\n",
      "\n"
     ]
    },
    {
     "name": "stderr",
     "output_type": "stream",
     "text": [
      "100%|██████████| 179/179 [00:08<00:00, 21.94it/s]\n"
     ]
    },
    {
     "name": "stdout",
     "output_type": "stream",
     "text": [
      "Epoch 218,Average_loss 0.276038, Average Accucracy 0.594441\n",
      "  Inputs Words: ['how', 'are', 'you']\n",
      "  Replied Words: hello colonel <EOS>\n",
      "\n",
      "\n"
     ]
    },
    {
     "name": "stderr",
     "output_type": "stream",
     "text": [
      "100%|██████████| 179/179 [00:08<00:00, 22.16it/s]\n"
     ]
    },
    {
     "name": "stdout",
     "output_type": "stream",
     "text": [
      "Epoch 219,Average_loss 0.274077, Average Accucracy 0.596245\n",
      "  Inputs Words: ['how', 'are', 'you']\n",
      "  Replied Words: nineteen more <EOS>\n",
      "\n",
      "\n"
     ]
    },
    {
     "name": "stderr",
     "output_type": "stream",
     "text": [
      "100%|██████████| 179/179 [00:08<00:00, 22.14it/s]\n"
     ]
    },
    {
     "name": "stdout",
     "output_type": "stream",
     "text": [
      "Epoch 220,Average_loss 0.278530, Average Accucracy 0.594856\n",
      "  Inputs Words: ['how', 'are', 'you']\n",
      "  Replied Words: fine fine <EOS>\n",
      "\n",
      "\n"
     ]
    },
    {
     "name": "stderr",
     "output_type": "stream",
     "text": [
      "100%|██████████| 179/179 [00:08<00:00, 22.33it/s]\n"
     ]
    },
    {
     "name": "stdout",
     "output_type": "stream",
     "text": [
      "Epoch 221,Average_loss 0.278198, Average Accucracy 0.593059\n",
      "  Inputs Words: ['how', 'are', 'you']\n",
      "  Replied Words: excuse me <EOS>\n",
      "\n",
      "\n"
     ]
    },
    {
     "name": "stderr",
     "output_type": "stream",
     "text": [
      "100%|██████████| 179/179 [00:08<00:00, 22.10it/s]\n"
     ]
    },
    {
     "name": "stdout",
     "output_type": "stream",
     "text": [
      "Epoch 222,Average_loss 0.277100, Average Accucracy 0.595794\n",
      "  Inputs Words: ['how', 'are', 'you']\n",
      "  Replied Words: excuse me <EOS>\n",
      "\n",
      "\n"
     ]
    },
    {
     "name": "stderr",
     "output_type": "stream",
     "text": [
      "100%|██████████| 179/179 [00:08<00:00, 21.92it/s]\n"
     ]
    },
    {
     "name": "stdout",
     "output_type": "stream",
     "text": [
      "Epoch 223,Average_loss 0.273539, Average Accucracy 0.594346\n",
      "  Inputs Words: ['how', 'are', 'you']\n",
      "  Replied Words: fine fine <EOS>\n",
      "\n",
      "\n"
     ]
    },
    {
     "name": "stderr",
     "output_type": "stream",
     "text": [
      "100%|██████████| 179/179 [00:08<00:00, 21.83it/s]\n"
     ]
    },
    {
     "name": "stdout",
     "output_type": "stream",
     "text": [
      "Epoch 224,Average_loss 0.271678, Average Accucracy 0.594579\n",
      "  Inputs Words: ['how', 'are', 'you']\n",
      "  Replied Words: excuse me <EOS>\n",
      "\n",
      "\n"
     ]
    },
    {
     "name": "stderr",
     "output_type": "stream",
     "text": [
      "100%|██████████| 179/179 [00:08<00:00, 21.37it/s]\n"
     ]
    },
    {
     "name": "stdout",
     "output_type": "stream",
     "text": [
      "Epoch 225,Average_loss 0.275782, Average Accucracy 0.592950\n",
      "  Inputs Words: ['how', 'are', 'you']\n",
      "  Replied Words: okay <UNK> <EOS>\n",
      "\n",
      "\n"
     ]
    },
    {
     "name": "stderr",
     "output_type": "stream",
     "text": [
      "100%|██████████| 179/179 [00:08<00:00, 21.47it/s]\n"
     ]
    },
    {
     "name": "stdout",
     "output_type": "stream",
     "text": [
      "Epoch 226,Average_loss 0.273144, Average Accucracy 0.595903\n",
      "  Inputs Words: ['how', 'are', 'you']\n",
      "  Replied Words: i know <EOS>\n",
      "\n",
      "\n"
     ]
    },
    {
     "name": "stderr",
     "output_type": "stream",
     "text": [
      "100%|██████████| 179/179 [00:08<00:00, 21.90it/s]\n"
     ]
    },
    {
     "name": "stdout",
     "output_type": "stream",
     "text": [
      "Epoch 227,Average_loss 0.271525, Average Accucracy 0.595714\n",
      "  Inputs Words: ['how', 'are', 'you']\n",
      "  Replied Words: excuse me <EOS>\n",
      "\n",
      "\n"
     ]
    },
    {
     "name": "stderr",
     "output_type": "stream",
     "text": [
      "100%|██████████| 179/179 [00:08<00:00, 22.05it/s]\n"
     ]
    },
    {
     "name": "stdout",
     "output_type": "stream",
     "text": [
      "Epoch 228,Average_loss 0.270932, Average Accucracy 0.599562\n",
      "  Inputs Words: ['how', 'are', 'you']\n",
      "  Replied Words: ah tape <EOS>\n",
      "\n",
      "\n"
     ]
    },
    {
     "name": "stderr",
     "output_type": "stream",
     "text": [
      "100%|██████████| 179/179 [00:08<00:00, 21.82it/s]\n"
     ]
    },
    {
     "name": "stdout",
     "output_type": "stream",
     "text": [
      "Epoch 229,Average_loss 0.270484, Average Accucracy 0.595670\n",
      "  Inputs Words: ['how', 'are', 'you']\n",
      "  Replied Words: pretty fine <EOS>\n",
      "\n",
      "\n"
     ]
    },
    {
     "name": "stderr",
     "output_type": "stream",
     "text": [
      "100%|██████████| 179/179 [00:08<00:00, 21.95it/s]\n"
     ]
    },
    {
     "name": "stdout",
     "output_type": "stream",
     "text": [
      "Epoch 230,Average_loss 0.269918, Average Accucracy 0.596412\n",
      "  Inputs Words: ['how', 'are', 'you']\n",
      "  Replied Words: frankly <UNK> <EOS>\n",
      "\n",
      "\n"
     ]
    },
    {
     "name": "stderr",
     "output_type": "stream",
     "text": [
      "100%|██████████| 179/179 [00:08<00:00, 21.97it/s]\n"
     ]
    },
    {
     "name": "stdout",
     "output_type": "stream",
     "text": [
      "Epoch 231,Average_loss 0.268316, Average Accucracy 0.596587\n",
      "  Inputs Words: ['how', 'are', 'you']\n",
      "  Replied Words: fine fine <EOS>\n",
      "\n",
      "\n"
     ]
    },
    {
     "name": "stderr",
     "output_type": "stream",
     "text": [
      "100%|██████████| 179/179 [00:08<00:00, 22.06it/s]\n"
     ]
    },
    {
     "name": "stdout",
     "output_type": "stream",
     "text": [
      "Epoch 232,Average_loss 0.267926, Average Accucracy 0.598173\n",
      "  Inputs Words: ['how', 'are', 'you']\n",
      "  Replied Words: another fine <EOS>\n",
      "\n",
      "\n"
     ]
    },
    {
     "name": "stderr",
     "output_type": "stream",
     "text": [
      "100%|██████████| 179/179 [00:08<00:00, 21.71it/s]\n"
     ]
    },
    {
     "name": "stdout",
     "output_type": "stream",
     "text": [
      "Epoch 233,Average_loss 0.268051, Average Accucracy 0.597700\n",
      "  Inputs Words: ['how', 'are', 'you']\n",
      "  Replied Words: excuse me <EOS>\n",
      "\n",
      "\n"
     ]
    },
    {
     "name": "stderr",
     "output_type": "stream",
     "text": [
      "100%|██████████| 179/179 [00:08<00:00, 22.59it/s]\n"
     ]
    },
    {
     "name": "stdout",
     "output_type": "stream",
     "text": [
      "Epoch 234,Average_loss 0.263822, Average Accucracy 0.600209\n",
      "  Inputs Words: ['how', 'are', 'you']\n",
      "  Replied Words: very good <EOS>\n",
      "\n",
      "\n"
     ]
    },
    {
     "name": "stderr",
     "output_type": "stream",
     "text": [
      "100%|██████████| 179/179 [00:08<00:00, 21.93it/s]\n"
     ]
    },
    {
     "name": "stdout",
     "output_type": "stream",
     "text": [
      "Epoch 235,Average_loss 0.267062, Average Accucracy 0.598580\n",
      "  Inputs Words: ['how', 'are', 'you']\n",
      "  Replied Words: looking good <EOS>\n",
      "\n",
      "\n"
     ]
    },
    {
     "name": "stderr",
     "output_type": "stream",
     "text": [
      "100%|██████████| 179/179 [00:08<00:00, 21.95it/s]\n"
     ]
    },
    {
     "name": "stdout",
     "output_type": "stream",
     "text": [
      "Epoch 236,Average_loss 0.264535, Average Accucracy 0.601337\n",
      "  Inputs Words: ['how', 'are', 'you']\n",
      "  Replied Words: nineteen more <EOS>\n",
      "\n",
      "\n"
     ]
    },
    {
     "name": "stderr",
     "output_type": "stream",
     "text": [
      "100%|██████████| 179/179 [00:08<00:00, 21.95it/s]\n"
     ]
    },
    {
     "name": "stdout",
     "output_type": "stream",
     "text": [
      "Epoch 237,Average_loss 0.263000, Average Accucracy 0.600326\n",
      "  Inputs Words: ['how', 'are', 'you']\n",
      "  Replied Words: <UNK> asleep <EOS>\n",
      "\n",
      "\n"
     ]
    },
    {
     "name": "stderr",
     "output_type": "stream",
     "text": [
      "100%|██████████| 179/179 [00:08<00:00, 22.19it/s]\n"
     ]
    },
    {
     "name": "stdout",
     "output_type": "stream",
     "text": [
      "Epoch 238,Average_loss 0.261478, Average Accucracy 0.600486\n",
      "  Inputs Words: ['how', 'are', 'you']\n",
      "  Replied Words: another kids <EOS>\n",
      "\n",
      "\n"
     ]
    },
    {
     "name": "stderr",
     "output_type": "stream",
     "text": [
      "100%|██████████| 179/179 [00:08<00:00, 22.08it/s]\n"
     ]
    },
    {
     "name": "stdout",
     "output_type": "stream",
     "text": [
      "Epoch 239,Average_loss 0.264207, Average Accucracy 0.599613\n",
      "  Inputs Words: ['how', 'are', 'you']\n",
      "  Replied Words: very well <EOS>\n",
      "\n",
      "\n"
     ]
    },
    {
     "name": "stderr",
     "output_type": "stream",
     "text": [
      "100%|██████████| 179/179 [00:08<00:00, 22.12it/s]\n"
     ]
    },
    {
     "name": "stdout",
     "output_type": "stream",
     "text": [
      "Epoch 240,Average_loss 0.263085, Average Accucracy 0.596703\n",
      "  Inputs Words: ['how', 'are', 'you']\n",
      "  Replied Words: another young <EOS>\n",
      "\n",
      "\n"
     ]
    },
    {
     "name": "stderr",
     "output_type": "stream",
     "text": [
      "100%|██████████| 179/179 [00:08<00:00, 21.56it/s]\n"
     ]
    },
    {
     "name": "stdout",
     "output_type": "stream",
     "text": [
      "Epoch 241,Average_loss 0.260315, Average Accucracy 0.599671\n",
      "  Inputs Words: ['how', 'are', 'you']\n",
      "  Replied Words: pretty strange <EOS>\n",
      "\n",
      "\n"
     ]
    },
    {
     "name": "stderr",
     "output_type": "stream",
     "text": [
      "100%|██████████| 179/179 [00:08<00:00, 21.90it/s]\n"
     ]
    },
    {
     "name": "stdout",
     "output_type": "stream",
     "text": [
      "Epoch 242,Average_loss 0.261313, Average Accucracy 0.599889\n",
      "  Inputs Words: ['how', 'are', 'you']\n",
      "  Replied Words: pretty good <EOS>\n",
      "\n",
      "\n"
     ]
    },
    {
     "name": "stderr",
     "output_type": "stream",
     "text": [
      "100%|██████████| 179/179 [00:08<00:00, 21.98it/s]\n"
     ]
    },
    {
     "name": "stdout",
     "output_type": "stream",
     "text": [
      "Epoch 243,Average_loss 0.262953, Average Accucracy 0.598216\n",
      "  Inputs Words: ['how', 'are', 'you']\n",
      "  Replied Words: fine fine <EOS>\n",
      "\n",
      "\n"
     ]
    },
    {
     "name": "stderr",
     "output_type": "stream",
     "text": [
      "100%|██████████| 179/179 [00:08<00:00, 22.12it/s]\n"
     ]
    },
    {
     "name": "stdout",
     "output_type": "stream",
     "text": [
      "Epoch 244,Average_loss 0.262226, Average Accucracy 0.599097\n",
      "  Inputs Words: ['how', 'are', 'you']\n",
      "  Replied Words: okay promise <EOS>\n",
      "\n",
      "\n"
     ]
    },
    {
     "name": "stderr",
     "output_type": "stream",
     "text": [
      "100%|██████████| 179/179 [00:08<00:00, 22.35it/s]\n"
     ]
    },
    {
     "name": "stdout",
     "output_type": "stream",
     "text": [
      "Epoch 245,Average_loss 0.259002, Average Accucracy 0.600704\n",
      "  Inputs Words: ['how', 'are', 'you']\n",
      "  Replied Words: pretty really <EOS>\n",
      "\n",
      "\n"
     ]
    },
    {
     "name": "stderr",
     "output_type": "stream",
     "text": [
      "100%|██████████| 179/179 [00:08<00:00, 22.65it/s]\n"
     ]
    },
    {
     "name": "stdout",
     "output_type": "stream",
     "text": [
      "Epoch 246,Average_loss 0.263411, Average Accucracy 0.599075\n",
      "  Inputs Words: ['how', 'are', 'you']\n",
      "  Replied Words: another <UNK> <EOS>\n",
      "\n",
      "\n"
     ]
    },
    {
     "name": "stderr",
     "output_type": "stream",
     "text": [
      "100%|██████████| 179/179 [00:08<00:00, 22.13it/s]\n"
     ]
    },
    {
     "name": "stdout",
     "output_type": "stream",
     "text": [
      "Epoch 247,Average_loss 0.258656, Average Accucracy 0.602275\n",
      "  Inputs Words: ['how', 'are', 'you']\n",
      "  Replied Words: excuse me <EOS>\n",
      "\n",
      "\n"
     ]
    },
    {
     "name": "stderr",
     "output_type": "stream",
     "text": [
      "100%|██████████| 179/179 [00:07<00:00, 22.52it/s]\n"
     ]
    },
    {
     "name": "stdout",
     "output_type": "stream",
     "text": [
      "Epoch 248,Average_loss 0.254941, Average Accucracy 0.602261\n",
      "  Inputs Words: ['how', 'are', 'you']\n",
      "  Replied Words: ah tape <EOS>\n",
      "\n",
      "\n"
     ]
    },
    {
     "name": "stderr",
     "output_type": "stream",
     "text": [
      "100%|██████████| 179/179 [00:08<00:00, 22.46it/s]\n"
     ]
    },
    {
     "name": "stdout",
     "output_type": "stream",
     "text": [
      "Epoch 249,Average_loss 0.258751, Average Accucracy 0.601708\n",
      "  Inputs Words: ['how', 'are', 'you']\n",
      "  Replied Words: hi mom <EOS>\n",
      "\n",
      "\n"
     ]
    },
    {
     "name": "stderr",
     "output_type": "stream",
     "text": [
      "100%|██████████| 179/179 [00:07<00:00, 22.65it/s]\n"
     ]
    },
    {
     "name": "stdout",
     "output_type": "stream",
     "text": [
      "Epoch 250,Average_loss 0.259819, Average Accucracy 0.600937\n",
      "  Inputs Words: ['how', 'are', 'you']\n",
      "  Replied Words: ah fine <EOS>\n",
      "\n",
      "\n"
     ]
    },
    {
     "name": "stderr",
     "output_type": "stream",
     "text": [
      "100%|██████████| 179/179 [00:07<00:00, 22.58it/s]\n"
     ]
    },
    {
     "name": "stdout",
     "output_type": "stream",
     "text": [
      "Epoch 251,Average_loss 0.256238, Average Accucracy 0.603447\n",
      "  Inputs Words: ['how', 'are', 'you']\n",
      "  Replied Words: another young <EOS>\n",
      "\n",
      "\n"
     ]
    },
    {
     "name": "stderr",
     "output_type": "stream",
     "text": [
      "100%|██████████| 179/179 [00:07<00:00, 22.41it/s]\n"
     ]
    },
    {
     "name": "stdout",
     "output_type": "stream",
     "text": [
      "Epoch 252,Average_loss 0.255362, Average Accucracy 0.600122\n",
      "  Inputs Words: ['how', 'are', 'you']\n",
      "  Replied Words: pretty sweet <EOS>\n",
      "\n",
      "\n"
     ]
    },
    {
     "name": "stderr",
     "output_type": "stream",
     "text": [
      "100%|██████████| 179/179 [00:08<00:00, 22.33it/s]\n"
     ]
    },
    {
     "name": "stdout",
     "output_type": "stream",
     "text": [
      "Epoch 253,Average_loss 0.256731, Average Accucracy 0.601402\n",
      "  Inputs Words: ['how', 'are', 'you']\n",
      "  Replied Words: another fine <EOS>\n",
      "\n",
      "\n"
     ]
    },
    {
     "name": "stderr",
     "output_type": "stream",
     "text": [
      "100%|██████████| 179/179 [00:08<00:00, 22.28it/s]\n"
     ]
    },
    {
     "name": "stdout",
     "output_type": "stream",
     "text": [
      "Epoch 254,Average_loss 0.252497, Average Accucracy 0.604552\n",
      "  Inputs Words: ['how', 'are', 'you']\n",
      "  Replied Words: excuse me <EOS>\n",
      "\n",
      "\n"
     ]
    },
    {
     "name": "stderr",
     "output_type": "stream",
     "text": [
      "100%|██████████| 179/179 [00:07<00:00, 22.40it/s]\n"
     ]
    },
    {
     "name": "stdout",
     "output_type": "stream",
     "text": [
      "Epoch 255,Average_loss 0.253033, Average Accucracy 0.600195\n",
      "  Inputs Words: ['how', 'are', 'you']\n",
      "  Replied Words: excuse me <EOS>\n",
      "\n",
      "\n"
     ]
    },
    {
     "name": "stderr",
     "output_type": "stream",
     "text": [
      "100%|██████████| 179/179 [00:08<00:00, 21.87it/s]\n"
     ]
    },
    {
     "name": "stdout",
     "output_type": "stream",
     "text": [
      "Epoch 256,Average_loss 0.250576, Average Accucracy 0.603730\n",
      "  Inputs Words: ['how', 'are', 'you']\n",
      "  Replied Words: another fine <EOS>\n",
      "\n",
      "\n"
     ]
    },
    {
     "name": "stderr",
     "output_type": "stream",
     "text": [
      "100%|██████████| 179/179 [00:08<00:00, 21.84it/s]\n"
     ]
    },
    {
     "name": "stdout",
     "output_type": "stream",
     "text": [
      "Epoch 257,Average_loss 0.252380, Average Accucracy 0.603119\n",
      "  Inputs Words: ['how', 'are', 'you']\n",
      "  Replied Words: another fine <EOS>\n",
      "\n",
      "\n"
     ]
    },
    {
     "name": "stderr",
     "output_type": "stream",
     "text": [
      "100%|██████████| 179/179 [00:08<00:00, 22.35it/s]\n"
     ]
    },
    {
     "name": "stdout",
     "output_type": "stream",
     "text": [
      "Epoch 258,Average_loss 0.252588, Average Accucracy 0.602646\n",
      "  Inputs Words: ['how', 'are', 'you']\n",
      "  Replied Words: another fine <EOS>\n",
      "\n",
      "\n"
     ]
    },
    {
     "name": "stderr",
     "output_type": "stream",
     "text": [
      "100%|██████████| 179/179 [00:08<00:00, 22.76it/s]\n"
     ]
    },
    {
     "name": "stdout",
     "output_type": "stream",
     "text": [
      "Epoch 259,Average_loss 0.255158, Average Accucracy 0.600580\n",
      "  Inputs Words: ['how', 'are', 'you']\n",
      "  Replied Words: excuse me <EOS>\n",
      "\n",
      "\n"
     ]
    },
    {
     "name": "stderr",
     "output_type": "stream",
     "text": [
      "100%|██████████| 179/179 [00:08<00:00, 22.88it/s]\n"
     ]
    },
    {
     "name": "stdout",
     "output_type": "stream",
     "text": [
      "Epoch 260,Average_loss 0.253100, Average Accucracy 0.603898\n",
      "  Inputs Words: ['how', 'are', 'you']\n",
      "  Replied Words: excuse me <EOS>\n",
      "\n",
      "\n"
     ]
    },
    {
     "name": "stderr",
     "output_type": "stream",
     "text": [
      "100%|██████████| 179/179 [00:08<00:00, 21.80it/s]\n"
     ]
    },
    {
     "name": "stdout",
     "output_type": "stream",
     "text": [
      "Epoch 261,Average_loss 0.252047, Average Accucracy 0.605360\n",
      "  Inputs Words: ['how', 'are', 'you']\n",
      "  Replied Words: pretty ready <EOS>\n",
      "\n",
      "\n"
     ]
    },
    {
     "name": "stderr",
     "output_type": "stream",
     "text": [
      "100%|██████████| 179/179 [00:08<00:00, 22.53it/s]\n"
     ]
    },
    {
     "name": "stdout",
     "output_type": "stream",
     "text": [
      "Epoch 262,Average_loss 0.248386, Average Accucracy 0.602806\n",
      "  Inputs Words: ['how', 'are', 'you']\n",
      "  Replied Words: fine fine <EOS>\n",
      "\n",
      "\n"
     ]
    },
    {
     "name": "stderr",
     "output_type": "stream",
     "text": [
      "100%|██████████| 179/179 [00:08<00:00, 21.99it/s]\n"
     ]
    },
    {
     "name": "stdout",
     "output_type": "stream",
     "text": [
      "Epoch 263,Average_loss 0.247067, Average Accucracy 0.605003\n",
      "  Inputs Words: ['how', 'are', 'you']\n",
      "  Replied Words: excuse me <EOS>\n",
      "\n",
      "\n"
     ]
    },
    {
     "name": "stderr",
     "output_type": "stream",
     "text": [
      "100%|██████████| 179/179 [00:08<00:00, 22.10it/s]\n"
     ]
    },
    {
     "name": "stdout",
     "output_type": "stream",
     "text": [
      "Epoch 264,Average_loss 0.251319, Average Accucracy 0.605229\n",
      "  Inputs Words: ['how', 'are', 'you']\n",
      "  Replied Words: excuse me <EOS>\n",
      "\n",
      "\n"
     ]
    },
    {
     "name": "stderr",
     "output_type": "stream",
     "text": [
      "100%|██████████| 179/179 [00:08<00:00, 21.82it/s]\n"
     ]
    },
    {
     "name": "stdout",
     "output_type": "stream",
     "text": [
      "Epoch 265,Average_loss 0.249270, Average Accucracy 0.606945\n",
      "  Inputs Words: ['how', 'are', 'you']\n",
      "  Replied Words: at what <EOS>\n",
      "\n",
      "\n"
     ]
    },
    {
     "name": "stderr",
     "output_type": "stream",
     "text": [
      "100%|██████████| 179/179 [00:08<00:00, 22.26it/s]\n"
     ]
    },
    {
     "name": "stdout",
     "output_type": "stream",
     "text": [
      "Epoch 266,Average_loss 0.249322, Average Accucracy 0.605251\n",
      "  Inputs Words: ['how', 'are', 'you']\n",
      "  Replied Words: hi fine <EOS>\n",
      "\n",
      "\n"
     ]
    },
    {
     "name": "stderr",
     "output_type": "stream",
     "text": [
      "100%|██████████| 179/179 [00:08<00:00, 22.23it/s]\n"
     ]
    },
    {
     "name": "stdout",
     "output_type": "stream",
     "text": [
      "Epoch 267,Average_loss 0.246033, Average Accucracy 0.605520\n",
      "  Inputs Words: ['how', 'are', 'you']\n",
      "  Replied Words: fine fine <EOS>\n",
      "\n",
      "\n"
     ]
    },
    {
     "name": "stderr",
     "output_type": "stream",
     "text": [
      "100%|██████████| 179/179 [00:08<00:00, 22.32it/s]\n"
     ]
    },
    {
     "name": "stdout",
     "output_type": "stream",
     "text": [
      "Epoch 268,Average_loss 0.246603, Average Accucracy 0.605905\n",
      "  Inputs Words: ['how', 'are', 'you']\n",
      "  Replied Words: took 'em <EOS>\n",
      "\n",
      "\n"
     ]
    },
    {
     "name": "stderr",
     "output_type": "stream",
     "text": [
      "100%|██████████| 179/179 [00:08<00:00, 22.53it/s]\n"
     ]
    },
    {
     "name": "stdout",
     "output_type": "stream",
     "text": [
      "Epoch 269,Average_loss 0.246872, Average Accucracy 0.604909\n",
      "  Inputs Words: ['how', 'are', 'you']\n",
      "  Replied Words: fine fine <EOS>\n",
      "\n",
      "\n"
     ]
    },
    {
     "name": "stderr",
     "output_type": "stream",
     "text": [
      "100%|██████████| 179/179 [00:08<00:00, 22.28it/s]\n"
     ]
    },
    {
     "name": "stdout",
     "output_type": "stream",
     "text": [
      "Epoch 270,Average_loss 0.245390, Average Accucracy 0.605272\n",
      "  Inputs Words: ['how', 'are', 'you']\n",
      "  Replied Words: fine fine <EOS>\n",
      "\n",
      "\n"
     ]
    },
    {
     "name": "stderr",
     "output_type": "stream",
     "text": [
      "100%|██████████| 179/179 [00:08<00:00, 22.78it/s]\n"
     ]
    },
    {
     "name": "stdout",
     "output_type": "stream",
     "text": [
      "Epoch 271,Average_loss 0.241629, Average Accucracy 0.604829\n",
      "  Inputs Words: ['how', 'are', 'you']\n",
      "  Replied Words: another friends <EOS>\n",
      "\n",
      "\n"
     ]
    },
    {
     "name": "stderr",
     "output_type": "stream",
     "text": [
      "100%|██████████| 179/179 [00:08<00:00, 21.97it/s]\n"
     ]
    },
    {
     "name": "stdout",
     "output_type": "stream",
     "text": [
      "Epoch 272,Average_loss 0.246240, Average Accucracy 0.604989\n",
      "  Inputs Words: ['how', 'are', 'you']\n",
      "  Replied Words: excuse me <EOS>\n",
      "\n",
      "\n"
     ]
    },
    {
     "name": "stderr",
     "output_type": "stream",
     "text": [
      "100%|██████████| 179/179 [00:08<00:00, 22.07it/s]\n"
     ]
    },
    {
     "name": "stdout",
     "output_type": "stream",
     "text": [
      "Epoch 273,Average_loss 0.246032, Average Accucracy 0.605178\n",
      "  Inputs Words: ['how', 'are', 'you']\n",
      "  Replied Words: at all <EOS>\n",
      "\n",
      "\n"
     ]
    },
    {
     "name": "stderr",
     "output_type": "stream",
     "text": [
      "100%|██████████| 179/179 [00:08<00:00, 22.07it/s]\n"
     ]
    },
    {
     "name": "stdout",
     "output_type": "stream",
     "text": [
      "Epoch 274,Average_loss 0.242113, Average Accucracy 0.605949\n",
      "  Inputs Words: ['how', 'are', 'you']\n",
      "  Replied Words: another fine <EOS>\n",
      "\n",
      "\n"
     ]
    },
    {
     "name": "stderr",
     "output_type": "stream",
     "text": [
      "100%|██████████| 179/179 [00:08<00:00, 22.18it/s]\n"
     ]
    },
    {
     "name": "stdout",
     "output_type": "stream",
     "text": [
      "Epoch 275,Average_loss 0.243867, Average Accucracy 0.603512\n",
      "  Inputs Words: ['how', 'are', 'you']\n",
      "  Replied Words: ah frankly <EOS>\n",
      "\n",
      "\n"
     ]
    },
    {
     "name": "stderr",
     "output_type": "stream",
     "text": [
      "100%|██████████| 179/179 [00:08<00:00, 22.15it/s]\n"
     ]
    },
    {
     "name": "stdout",
     "output_type": "stream",
     "text": [
      "Epoch 276,Average_loss 0.240540, Average Accucracy 0.607389\n",
      "  Inputs Words: ['how', 'are', 'you']\n",
      "  Replied Words: ah just <EOS>\n",
      "\n",
      "\n"
     ]
    },
    {
     "name": "stderr",
     "output_type": "stream",
     "text": [
      "100%|██████████| 179/179 [00:08<00:00, 21.91it/s]\n"
     ]
    },
    {
     "name": "stdout",
     "output_type": "stream",
     "text": [
      "Epoch 277,Average_loss 0.244363, Average Accucracy 0.606669\n",
      "  Inputs Words: ['how', 'are', 'you']\n",
      "  Replied Words: another young <EOS>\n",
      "\n",
      "\n"
     ]
    },
    {
     "name": "stderr",
     "output_type": "stream",
     "text": [
      "100%|██████████| 179/179 [00:08<00:00, 22.10it/s]\n"
     ]
    },
    {
     "name": "stdout",
     "output_type": "stream",
     "text": [
      "Epoch 278,Average_loss 0.240084, Average Accucracy 0.606953\n",
      "  Inputs Words: ['how', 'are', 'you']\n",
      "  Replied Words: excuse me <EOS>\n",
      "\n",
      "\n"
     ]
    },
    {
     "name": "stderr",
     "output_type": "stream",
     "text": [
      "100%|██████████| 179/179 [00:08<00:00, 22.18it/s]\n"
     ]
    },
    {
     "name": "stdout",
     "output_type": "stream",
     "text": [
      "Epoch 279,Average_loss 0.243767, Average Accucracy 0.606131\n",
      "  Inputs Words: ['how', 'are', 'you']\n",
      "  Replied Words: nineteen pounds <EOS>\n",
      "\n",
      "\n"
     ]
    },
    {
     "name": "stderr",
     "output_type": "stream",
     "text": [
      "100%|██████████| 179/179 [00:08<00:00, 21.73it/s]\n"
     ]
    },
    {
     "name": "stdout",
     "output_type": "stream",
     "text": [
      "Epoch 280,Average_loss 0.239390, Average Accucracy 0.604705\n",
      "  Inputs Words: ['how', 'are', 'you']\n",
      "  Replied Words: pretty quiet <EOS>\n",
      "\n",
      "\n"
     ]
    },
    {
     "name": "stderr",
     "output_type": "stream",
     "text": [
      "100%|██████████| 179/179 [00:08<00:00, 22.07it/s]\n"
     ]
    },
    {
     "name": "stdout",
     "output_type": "stream",
     "text": [
      "Epoch 281,Average_loss 0.243634, Average Accucracy 0.607957\n",
      "  Inputs Words: ['how', 'are', 'you']\n",
      "  Replied Words: oh no <EOS>\n",
      "\n",
      "\n"
     ]
    },
    {
     "name": "stderr",
     "output_type": "stream",
     "text": [
      "100%|██████████| 179/179 [00:08<00:00, 22.42it/s]\n"
     ]
    },
    {
     "name": "stdout",
     "output_type": "stream",
     "text": [
      "Epoch 282,Average_loss 0.242778, Average Accucracy 0.607680\n",
      "  Inputs Words: ['how', 'are', 'you']\n",
      "  Replied Words: excuse me <EOS>\n",
      "\n",
      "\n"
     ]
    },
    {
     "name": "stderr",
     "output_type": "stream",
     "text": [
      "100%|██████████| 179/179 [00:08<00:00, 22.52it/s]\n"
     ]
    },
    {
     "name": "stdout",
     "output_type": "stream",
     "text": [
      "Epoch 283,Average_loss 0.240155, Average Accucracy 0.605992\n",
      "  Inputs Words: ['how', 'are', 'you']\n",
      "  Replied Words: frankly hi <EOS>\n",
      "\n",
      "\n"
     ]
    },
    {
     "name": "stderr",
     "output_type": "stream",
     "text": [
      "100%|██████████| 179/179 [00:08<00:00, 22.30it/s]\n"
     ]
    },
    {
     "name": "stdout",
     "output_type": "stream",
     "text": [
      "Epoch 284,Average_loss 0.238034, Average Accucracy 0.607367\n",
      "  Inputs Words: ['how', 'are', 'you']\n",
      "  Replied Words: frankly hi <EOS>\n",
      "\n",
      "\n"
     ]
    },
    {
     "name": "stderr",
     "output_type": "stream",
     "text": [
      "100%|██████████| 179/179 [00:08<00:00, 22.22it/s]\n"
     ]
    },
    {
     "name": "stdout",
     "output_type": "stream",
     "text": [
      "Epoch 285,Average_loss 0.239588, Average Accucracy 0.609055\n",
      "  Inputs Words: ['how', 'are', 'you']\n",
      "  Replied Words: i am <EOS>\n",
      "\n",
      "\n"
     ]
    },
    {
     "name": "stderr",
     "output_type": "stream",
     "text": [
      "100%|██████████| 179/179 [00:08<00:00, 21.68it/s]\n"
     ]
    },
    {
     "name": "stdout",
     "output_type": "stream",
     "text": [
      "Epoch 286,Average_loss 0.237747, Average Accucracy 0.608422\n",
      "  Inputs Words: ['how', 'are', 'you']\n",
      "  Replied Words: fine fine <EOS>\n",
      "\n",
      "\n"
     ]
    },
    {
     "name": "stderr",
     "output_type": "stream",
     "text": [
      "100%|██████████| 179/179 [00:08<00:00, 22.30it/s]\n"
     ]
    },
    {
     "name": "stdout",
     "output_type": "stream",
     "text": [
      "Epoch 287,Average_loss 0.237915, Average Accucracy 0.610590\n",
      "  Inputs Words: ['how', 'are', 'you']\n",
      "  Replied Words: fine fine <EOS>\n",
      "\n",
      "\n"
     ]
    },
    {
     "name": "stderr",
     "output_type": "stream",
     "text": [
      "100%|██████████| 179/179 [00:08<00:00, 21.91it/s]\n"
     ]
    },
    {
     "name": "stdout",
     "output_type": "stream",
     "text": [
      "Epoch 288,Average_loss 0.234194, Average Accucracy 0.609288\n",
      "  Inputs Words: ['how', 'are', 'you']\n",
      "  Replied Words: fine fine <EOS>\n",
      "\n",
      "\n"
     ]
    },
    {
     "name": "stderr",
     "output_type": "stream",
     "text": [
      "100%|██████████| 179/179 [00:08<00:00, 22.16it/s]\n"
     ]
    },
    {
     "name": "stdout",
     "output_type": "stream",
     "text": [
      "Epoch 289,Average_loss 0.237860, Average Accucracy 0.609011\n",
      "  Inputs Words: ['how', 'are', 'you']\n",
      "  Replied Words: fine fine <EOS>\n",
      "\n",
      "\n"
     ]
    },
    {
     "name": "stderr",
     "output_type": "stream",
     "text": [
      "100%|██████████| 179/179 [00:08<00:00, 22.31it/s]\n"
     ]
    },
    {
     "name": "stdout",
     "output_type": "stream",
     "text": [
      "Epoch 290,Average_loss 0.238192, Average Accucracy 0.609179\n",
      "  Inputs Words: ['how', 'are', 'you']\n",
      "  Replied Words: fine fine <EOS>\n",
      "\n",
      "\n"
     ]
    },
    {
     "name": "stderr",
     "output_type": "stream",
     "text": [
      "100%|██████████| 179/179 [00:08<00:00, 21.71it/s]\n"
     ]
    },
    {
     "name": "stdout",
     "output_type": "stream",
     "text": [
      "Epoch 291,Average_loss 0.237324, Average Accucracy 0.607455\n",
      "  Inputs Words: ['how', 'are', 'you']\n",
      "  Replied Words: more madison <EOS>\n",
      "\n",
      "\n"
     ]
    },
    {
     "name": "stderr",
     "output_type": "stream",
     "text": [
      "100%|██████████| 179/179 [00:07<00:00, 22.54it/s]\n"
     ]
    },
    {
     "name": "stdout",
     "output_type": "stream",
     "text": [
      "Epoch 292,Average_loss 0.235641, Average Accucracy 0.610262\n",
      "  Inputs Words: ['how', 'are', 'you']\n",
      "  Replied Words: fine fine <EOS>\n",
      "\n",
      "\n"
     ]
    },
    {
     "name": "stderr",
     "output_type": "stream",
     "text": [
      "100%|██████████| 179/179 [00:07<00:00, 22.73it/s]\n"
     ]
    },
    {
     "name": "stdout",
     "output_type": "stream",
     "text": [
      "Epoch 293,Average_loss 0.234554, Average Accucracy 0.610022\n",
      "  Inputs Words: ['how', 'are', 'you']\n",
      "  Replied Words: nineteen on <EOS>\n",
      "\n",
      "\n"
     ]
    },
    {
     "name": "stderr",
     "output_type": "stream",
     "text": [
      "100%|██████████| 179/179 [00:08<00:00, 22.35it/s]\n"
     ]
    },
    {
     "name": "stdout",
     "output_type": "stream",
     "text": [
      "Epoch 294,Average_loss 0.239869, Average Accucracy 0.608604\n",
      "  Inputs Words: ['how', 'are', 'you']\n",
      "  Replied Words: fine fine <EOS>\n",
      "\n",
      "\n"
     ]
    },
    {
     "name": "stderr",
     "output_type": "stream",
     "text": [
      "100%|██████████| 179/179 [00:08<00:00, 22.07it/s]\n"
     ]
    },
    {
     "name": "stdout",
     "output_type": "stream",
     "text": [
      "Epoch 295,Average_loss 0.235658, Average Accucracy 0.608786\n",
      "  Inputs Words: ['how', 'are', 'you']\n",
      "  Replied Words: fine fine <EOS>\n",
      "\n",
      "\n"
     ]
    },
    {
     "name": "stderr",
     "output_type": "stream",
     "text": [
      "100%|██████████| 179/179 [00:08<00:00, 22.20it/s]\n"
     ]
    },
    {
     "name": "stdout",
     "output_type": "stream",
     "text": [
      "Epoch 296,Average_loss 0.235880, Average Accucracy 0.609019\n",
      "  Inputs Words: ['how', 'are', 'you']\n",
      "  Replied Words: another fine <EOS>\n",
      "\n",
      "\n"
     ]
    },
    {
     "name": "stderr",
     "output_type": "stream",
     "text": [
      "100%|██████████| 179/179 [00:07<00:00, 22.40it/s]\n"
     ]
    },
    {
     "name": "stdout",
     "output_type": "stream",
     "text": [
      "Epoch 297,Average_loss 0.232698, Average Accucracy 0.610873\n",
      "  Inputs Words: ['how', 'are', 'you']\n",
      "  Replied Words: fine fine <EOS>\n",
      "\n",
      "\n"
     ]
    },
    {
     "name": "stderr",
     "output_type": "stream",
     "text": [
      "100%|██████████| 179/179 [00:07<00:00, 22.67it/s]\n"
     ]
    },
    {
     "name": "stdout",
     "output_type": "stream",
     "text": [
      "Epoch 298,Average_loss 0.234913, Average Accucracy 0.608989\n",
      "  Inputs Words: ['how', 'are', 'you']\n",
      "  Replied Words: fine fine <EOS>\n",
      "\n",
      "\n"
     ]
    },
    {
     "name": "stderr",
     "output_type": "stream",
     "text": [
      "100%|██████████| 179/179 [00:07<00:00, 22.52it/s]\n"
     ]
    },
    {
     "name": "stdout",
     "output_type": "stream",
     "text": [
      "Epoch 299,Average_loss 0.237656, Average Accucracy 0.607658\n",
      "  Inputs Words: ['how', 'are', 'you']\n",
      "  Replied Words: goodhow are <EOS>\n",
      "\n",
      "\n"
     ]
    },
    {
     "name": "stderr",
     "output_type": "stream",
     "text": [
      "100%|██████████| 179/179 [00:07<00:00, 22.52it/s]\n"
     ]
    },
    {
     "name": "stdout",
     "output_type": "stream",
     "text": [
      "Epoch 300,Average_loss 0.236129, Average Accucracy 0.609019\n",
      "  Inputs Words: ['how', 'are', 'you']\n",
      "  Replied Words: fine fine <EOS>\n",
      "\n",
      "\n"
     ]
    },
    {
     "name": "stderr",
     "output_type": "stream",
     "text": [
      "100%|██████████| 179/179 [00:07<00:00, 22.41it/s]\n"
     ]
    },
    {
     "name": "stdout",
     "output_type": "stream",
     "text": [
      "Epoch 301,Average_loss 0.232721, Average Accucracy 0.611077\n",
      "  Inputs Words: ['how', 'are', 'you']\n",
      "  Replied Words: penelope in <EOS>\n",
      "\n",
      "\n"
     ]
    },
    {
     "name": "stderr",
     "output_type": "stream",
     "text": [
      "100%|██████████| 179/179 [00:07<00:00, 22.46it/s]\n"
     ]
    },
    {
     "name": "stdout",
     "output_type": "stream",
     "text": [
      "Epoch 302,Average_loss 0.232526, Average Accucracy 0.611295\n",
      "  Inputs Words: ['how', 'are', 'you']\n",
      "  Replied Words: <UNK> fineand <EOS>\n",
      "\n",
      "\n"
     ]
    },
    {
     "name": "stderr",
     "output_type": "stream",
     "text": [
      "100%|██████████| 179/179 [00:08<00:00, 22.02it/s]\n"
     ]
    },
    {
     "name": "stdout",
     "output_type": "stream",
     "text": [
      "Epoch 303,Average_loss 0.231619, Average Accucracy 0.612401\n",
      "  Inputs Words: ['how', 'are', 'you']\n",
      "  Replied Words: fine fine <EOS>\n",
      "\n",
      "\n"
     ]
    },
    {
     "name": "stderr",
     "output_type": "stream",
     "text": [
      "100%|██████████| 179/179 [00:07<00:00, 22.67it/s]\n"
     ]
    },
    {
     "name": "stdout",
     "output_type": "stream",
     "text": [
      "Epoch 304,Average_loss 0.232161, Average Accucracy 0.610146\n",
      "  Inputs Words: ['how', 'are', 'you']\n",
      "  Replied Words: fine fine <EOS>\n",
      "\n",
      "\n"
     ]
    },
    {
     "name": "stderr",
     "output_type": "stream",
     "text": [
      "100%|██████████| 179/179 [00:08<00:00, 22.72it/s]\n"
     ]
    },
    {
     "name": "stdout",
     "output_type": "stream",
     "text": [
      "Epoch 305,Average_loss 0.229397, Average Accucracy 0.612336\n",
      "  Inputs Words: ['how', 'are', 'you']\n",
      "  Replied Words: fine fine <EOS>\n",
      "\n",
      "\n"
     ]
    },
    {
     "name": "stderr",
     "output_type": "stream",
     "text": [
      "100%|██████████| 179/179 [00:08<00:00, 22.32it/s]\n"
     ]
    },
    {
     "name": "stdout",
     "output_type": "stream",
     "text": [
      "Epoch 306,Average_loss 0.232103, Average Accucracy 0.610255\n",
      "  Inputs Words: ['how', 'are', 'you']\n",
      "  Replied Words: fine fine <EOS>\n",
      "\n",
      "\n"
     ]
    },
    {
     "name": "stderr",
     "output_type": "stream",
     "text": [
      "100%|██████████| 179/179 [00:07<00:00, 22.57it/s]\n"
     ]
    },
    {
     "name": "stdout",
     "output_type": "stream",
     "text": [
      "Epoch 307,Average_loss 0.231386, Average Accucracy 0.610903\n",
      "  Inputs Words: ['how', 'are', 'you']\n",
      "  Replied Words: fine fine <EOS>\n",
      "\n",
      "\n"
     ]
    },
    {
     "name": "stderr",
     "output_type": "stream",
     "text": [
      "100%|██████████| 179/179 [00:07<00:00, 22.52it/s]\n"
     ]
    },
    {
     "name": "stdout",
     "output_type": "stream",
     "text": [
      "Epoch 308,Average_loss 0.228753, Average Accucracy 0.611950\n",
      "  Inputs Words: ['how', 'are', 'you']\n",
      "  Replied Words: fine fine <EOS>\n",
      "\n",
      "\n"
     ]
    },
    {
     "name": "stderr",
     "output_type": "stream",
     "text": [
      "100%|██████████| 179/179 [00:08<00:00, 22.23it/s]\n"
     ]
    },
    {
     "name": "stdout",
     "output_type": "stream",
     "text": [
      "Epoch 309,Average_loss 0.226412, Average Accucracy 0.610081\n",
      "  Inputs Words: ['how', 'are', 'you']\n",
      "  Replied Words: fine fine <EOS>\n",
      "\n",
      "\n"
     ]
    },
    {
     "name": "stderr",
     "output_type": "stream",
     "text": [
      "100%|██████████| 179/179 [00:08<00:00, 21.53it/s]\n"
     ]
    },
    {
     "name": "stdout",
     "output_type": "stream",
     "text": [
      "Epoch 310,Average_loss 0.226629, Average Accucracy 0.612677\n",
      "  Inputs Words: ['how', 'are', 'you']\n",
      "  Replied Words: excuse me <EOS>\n",
      "\n",
      "\n"
     ]
    },
    {
     "name": "stderr",
     "output_type": "stream",
     "text": [
      "100%|██████████| 179/179 [00:08<00:00, 20.71it/s]\n"
     ]
    },
    {
     "name": "stdout",
     "output_type": "stream",
     "text": [
      "Epoch 311,Average_loss 0.227165, Average Accucracy 0.609899\n",
      "  Inputs Words: ['how', 'are', 'you']\n",
      "  Replied Words: fine fine <EOS>\n",
      "\n",
      "\n"
     ]
    },
    {
     "name": "stderr",
     "output_type": "stream",
     "text": [
      "100%|██████████| 179/179 [00:08<00:00, 22.40it/s]\n"
     ]
    },
    {
     "name": "stdout",
     "output_type": "stream",
     "text": [
      "Epoch 312,Average_loss 0.225613, Average Accucracy 0.611870\n",
      "  Inputs Words: ['how', 'are', 'you']\n",
      "  Replied Words: fine fine <EOS>\n",
      "\n",
      "\n"
     ]
    },
    {
     "name": "stderr",
     "output_type": "stream",
     "text": [
      "100%|██████████| 179/179 [00:08<00:00, 21.89it/s]\n"
     ]
    },
    {
     "name": "stdout",
     "output_type": "stream",
     "text": [
      "Epoch 313,Average_loss 0.225903, Average Accucracy 0.612285\n",
      "  Inputs Words: ['how', 'are', 'you']\n",
      "  Replied Words: fine fine <EOS>\n",
      "\n",
      "\n"
     ]
    },
    {
     "name": "stderr",
     "output_type": "stream",
     "text": [
      "100%|██████████| 179/179 [00:08<00:00, 21.79it/s]\n"
     ]
    },
    {
     "name": "stdout",
     "output_type": "stream",
     "text": [
      "Epoch 314,Average_loss 0.227160, Average Accucracy 0.613296\n",
      "  Inputs Words: ['how', 'are', 'you']\n",
      "  Replied Words: goodhow are <EOS>\n",
      "\n",
      "\n"
     ]
    },
    {
     "name": "stderr",
     "output_type": "stream",
     "text": [
      "100%|██████████| 179/179 [00:08<00:00, 21.42it/s]\n"
     ]
    },
    {
     "name": "stdout",
     "output_type": "stream",
     "text": [
      "Epoch 315,Average_loss 0.231853, Average Accucracy 0.613419\n",
      "  Inputs Words: ['how', 'are', 'you']\n",
      "  Replied Words: goodhow are <EOS>\n",
      "\n",
      "\n"
     ]
    },
    {
     "name": "stderr",
     "output_type": "stream",
     "text": [
      "100%|██████████| 179/179 [00:08<00:00, 21.62it/s]\n"
     ]
    },
    {
     "name": "stdout",
     "output_type": "stream",
     "text": [
      "Epoch 316,Average_loss 0.229632, Average Accucracy 0.611295\n",
      "  Inputs Words: ['how', 'are', 'you']\n",
      "  Replied Words: fine fine <EOS>\n",
      "\n",
      "\n"
     ]
    },
    {
     "name": "stderr",
     "output_type": "stream",
     "text": [
      "100%|██████████| 179/179 [00:08<00:00, 21.78it/s]\n"
     ]
    },
    {
     "name": "stdout",
     "output_type": "stream",
     "text": [
      "Epoch 317,Average_loss 0.225621, Average Accucracy 0.614394\n",
      "  Inputs Words: ['how', 'are', 'you']\n",
      "  Replied Words: fine fine <EOS>\n",
      "\n",
      "\n"
     ]
    },
    {
     "name": "stderr",
     "output_type": "stream",
     "text": [
      "100%|██████████| 179/179 [00:08<00:00, 21.26it/s]\n"
     ]
    },
    {
     "name": "stdout",
     "output_type": "stream",
     "text": [
      "Epoch 318,Average_loss 0.223911, Average Accucracy 0.610844\n",
      "  Inputs Words: ['how', 'are', 'you']\n",
      "  Replied Words: fine fine <EOS>\n",
      "\n",
      "\n"
     ]
    },
    {
     "name": "stderr",
     "output_type": "stream",
     "text": [
      "100%|██████████| 179/179 [00:08<00:00, 22.40it/s]\n"
     ]
    },
    {
     "name": "stdout",
     "output_type": "stream",
     "text": [
      "Epoch 319,Average_loss 0.223525, Average Accucracy 0.613230\n",
      "  Inputs Words: ['how', 'are', 'you']\n",
      "  Replied Words: fine fine <EOS>\n",
      "\n",
      "\n"
     ]
    },
    {
     "name": "stderr",
     "output_type": "stream",
     "text": [
      "100%|██████████| 179/179 [00:08<00:00, 21.41it/s]\n"
     ]
    },
    {
     "name": "stdout",
     "output_type": "stream",
     "text": [
      "Epoch 320,Average_loss 0.225926, Average Accucracy 0.613478\n",
      "  Inputs Words: ['how', 'are', 'you']\n",
      "  Replied Words: fine fine <EOS>\n",
      "\n",
      "\n"
     ]
    },
    {
     "name": "stderr",
     "output_type": "stream",
     "text": [
      "100%|██████████| 179/179 [00:08<00:00, 22.05it/s]\n"
     ]
    },
    {
     "name": "stdout",
     "output_type": "stream",
     "text": [
      "Epoch 321,Average_loss 0.223599, Average Accucracy 0.614780\n",
      "  Inputs Words: ['how', 'are', 'you']\n",
      "  Replied Words: fine fine <EOS>\n",
      "\n",
      "\n"
     ]
    },
    {
     "name": "stderr",
     "output_type": "stream",
     "text": [
      "100%|██████████| 179/179 [00:08<00:00, 22.11it/s]\n"
     ]
    },
    {
     "name": "stdout",
     "output_type": "stream",
     "text": [
      "Epoch 322,Average_loss 0.225787, Average Accucracy 0.613216\n",
      "  Inputs Words: ['how', 'are', 'you']\n",
      "  Replied Words: fine fine <EOS>\n",
      "\n",
      "\n"
     ]
    },
    {
     "name": "stderr",
     "output_type": "stream",
     "text": [
      "100%|██████████| 179/179 [00:08<00:00, 21.84it/s]\n"
     ]
    },
    {
     "name": "stdout",
     "output_type": "stream",
     "text": [
      "Epoch 323,Average_loss 0.224811, Average Accucracy 0.612874\n",
      "  Inputs Words: ['how', 'are', 'you']\n",
      "  Replied Words: fine fine <EOS>\n",
      "\n",
      "\n"
     ]
    },
    {
     "name": "stderr",
     "output_type": "stream",
     "text": [
      "100%|██████████| 179/179 [00:08<00:00, 21.65it/s]\n"
     ]
    },
    {
     "name": "stdout",
     "output_type": "stream",
     "text": [
      "Epoch 324,Average_loss 0.224201, Average Accucracy 0.614714\n",
      "  Inputs Words: ['how', 'are', 'you']\n",
      "  Replied Words: fine fine <EOS>\n",
      "\n",
      "\n"
     ]
    },
    {
     "name": "stderr",
     "output_type": "stream",
     "text": [
      "100%|██████████| 179/179 [00:08<00:00, 21.70it/s]\n"
     ]
    },
    {
     "name": "stdout",
     "output_type": "stream",
     "text": [
      "Epoch 325,Average_loss 0.225428, Average Accucracy 0.612961\n",
      "  Inputs Words: ['how', 'are', 'you']\n",
      "  Replied Words: fine fine <EOS>\n",
      "\n",
      "\n"
     ]
    },
    {
     "name": "stderr",
     "output_type": "stream",
     "text": [
      "100%|██████████| 179/179 [00:08<00:00, 22.11it/s]\n"
     ]
    },
    {
     "name": "stdout",
     "output_type": "stream",
     "text": [
      "Epoch 326,Average_loss 0.224822, Average Accucracy 0.614161\n",
      "  Inputs Words: ['how', 'are', 'you']\n",
      "  Replied Words: fine fine <EOS>\n",
      "\n",
      "\n"
     ]
    },
    {
     "name": "stderr",
     "output_type": "stream",
     "text": [
      "100%|██████████| 179/179 [00:08<00:00, 21.41it/s]\n"
     ]
    },
    {
     "name": "stdout",
     "output_type": "stream",
     "text": [
      "Epoch 327,Average_loss 0.225697, Average Accucracy 0.611448\n",
      "  Inputs Words: ['how', 'are', 'you']\n",
      "  Replied Words: fine fine <EOS>\n",
      "\n",
      "\n"
     ]
    },
    {
     "name": "stderr",
     "output_type": "stream",
     "text": [
      "100%|██████████| 179/179 [00:08<00:00, 21.91it/s]\n"
     ]
    },
    {
     "name": "stdout",
     "output_type": "stream",
     "text": [
      "Epoch 328,Average_loss 0.225889, Average Accucracy 0.613012\n",
      "  Inputs Words: ['how', 'are', 'you']\n",
      "  Replied Words: fine fine <EOS>\n",
      "\n",
      "\n"
     ]
    },
    {
     "name": "stderr",
     "output_type": "stream",
     "text": [
      "100%|██████████| 179/179 [00:08<00:00, 20.94it/s]\n"
     ]
    },
    {
     "name": "stdout",
     "output_type": "stream",
     "text": [
      "Epoch 329,Average_loss 0.222383, Average Accucracy 0.615514\n",
      "  Inputs Words: ['how', 'are', 'you']\n",
      "  Replied Words: fine fine <EOS>\n",
      "\n",
      "\n"
     ]
    },
    {
     "name": "stderr",
     "output_type": "stream",
     "text": [
      "100%|██████████| 179/179 [00:08<00:00, 22.14it/s]\n"
     ]
    },
    {
     "name": "stdout",
     "output_type": "stream",
     "text": [
      "Epoch 330,Average_loss 0.222296, Average Accucracy 0.613565\n",
      "  Inputs Words: ['how', 'are', 'you']\n",
      "  Replied Words: fine fine <EOS>\n",
      "\n",
      "\n"
     ]
    },
    {
     "name": "stderr",
     "output_type": "stream",
     "text": [
      "100%|██████████| 179/179 [00:08<00:00, 21.56it/s]\n"
     ]
    },
    {
     "name": "stdout",
     "output_type": "stream",
     "text": [
      "Epoch 331,Average_loss 0.222927, Average Accucracy 0.614620\n",
      "  Inputs Words: ['how', 'are', 'you']\n",
      "  Replied Words: fine fine <EOS>\n",
      "\n",
      "\n"
     ]
    },
    {
     "name": "stderr",
     "output_type": "stream",
     "text": [
      "100%|██████████| 179/179 [00:08<00:00, 22.28it/s]\n"
     ]
    },
    {
     "name": "stdout",
     "output_type": "stream",
     "text": [
      "Epoch 332,Average_loss 0.220268, Average Accucracy 0.615122\n",
      "  Inputs Words: ['how', 'are', 'you']\n",
      "  Replied Words: fine fine <EOS>\n",
      "\n",
      "\n"
     ]
    },
    {
     "name": "stderr",
     "output_type": "stream",
     "text": [
      "100%|██████████| 179/179 [00:08<00:00, 21.42it/s]\n"
     ]
    },
    {
     "name": "stdout",
     "output_type": "stream",
     "text": [
      "Epoch 333,Average_loss 0.220634, Average Accucracy 0.613790\n",
      "  Inputs Words: ['how', 'are', 'you']\n",
      "  Replied Words: goodhow are <EOS>\n",
      "\n",
      "\n"
     ]
    },
    {
     "name": "stderr",
     "output_type": "stream",
     "text": [
      "100%|██████████| 179/179 [00:08<00:00, 21.62it/s]\n"
     ]
    },
    {
     "name": "stdout",
     "output_type": "stream",
     "text": [
      "Epoch 334,Average_loss 0.222272, Average Accucracy 0.616424\n",
      "  Inputs Words: ['how', 'are', 'you']\n",
      "  Replied Words: at <UNK> <EOS>\n",
      "\n",
      "\n"
     ]
    },
    {
     "name": "stderr",
     "output_type": "stream",
     "text": [
      "100%|██████████| 179/179 [00:08<00:00, 22.13it/s]\n"
     ]
    },
    {
     "name": "stdout",
     "output_type": "stream",
     "text": [
      "Epoch 335,Average_loss 0.223240, Average Accucracy 0.613274\n",
      "  Inputs Words: ['how', 'are', 'you']\n",
      "  Replied Words: fine fine <EOS>\n",
      "\n",
      "\n"
     ]
    },
    {
     "name": "stderr",
     "output_type": "stream",
     "text": [
      "100%|██████████| 179/179 [00:07<00:00, 22.44it/s]\n"
     ]
    },
    {
     "name": "stdout",
     "output_type": "stream",
     "text": [
      "Epoch 336,Average_loss 0.221015, Average Accucracy 0.613820\n",
      "  Inputs Words: ['how', 'are', 'you']\n",
      "  Replied Words: fine fine <EOS>\n",
      "\n",
      "\n"
     ]
    },
    {
     "name": "stderr",
     "output_type": "stream",
     "text": [
      "100%|██████████| 179/179 [00:07<00:00, 22.41it/s]\n"
     ]
    },
    {
     "name": "stdout",
     "output_type": "stream",
     "text": [
      "Epoch 337,Average_loss 0.219028, Average Accucracy 0.614954\n",
      "  Inputs Words: ['how', 'are', 'you']\n",
      "  Replied Words: at <UNK> <EOS>\n",
      "\n",
      "\n"
     ]
    },
    {
     "name": "stderr",
     "output_type": "stream",
     "text": [
      "100%|██████████| 179/179 [00:07<00:00, 22.48it/s]\n"
     ]
    },
    {
     "name": "stdout",
     "output_type": "stream",
     "text": [
      "Epoch 338,Average_loss 0.221823, Average Accucracy 0.613885\n",
      "  Inputs Words: ['how', 'are', 'you']\n",
      "  Replied Words: goodhow are you\n",
      "\n",
      "\n"
     ]
    },
    {
     "name": "stderr",
     "output_type": "stream",
     "text": [
      "100%|██████████| 179/179 [00:07<00:00, 22.44it/s]\n"
     ]
    },
    {
     "name": "stdout",
     "output_type": "stream",
     "text": [
      "Epoch 339,Average_loss 0.217831, Average Accucracy 0.615878\n",
      "  Inputs Words: ['how', 'are', 'you']\n",
      "  Replied Words: fine fine <EOS>\n",
      "\n",
      "\n"
     ]
    },
    {
     "name": "stderr",
     "output_type": "stream",
     "text": [
      "100%|██████████| 179/179 [00:08<00:00, 22.08it/s]\n"
     ]
    },
    {
     "name": "stdout",
     "output_type": "stream",
     "text": [
      "Epoch 340,Average_loss 0.220718, Average Accucracy 0.615798\n",
      "  Inputs Words: ['how', 'are', 'you']\n",
      "  Replied Words: fine fine <EOS>\n",
      "\n",
      "\n"
     ]
    },
    {
     "name": "stderr",
     "output_type": "stream",
     "text": [
      "100%|██████████| 179/179 [00:08<00:00, 21.81it/s]\n"
     ]
    },
    {
     "name": "stdout",
     "output_type": "stream",
     "text": [
      "Epoch 341,Average_loss 0.220348, Average Accucracy 0.615420\n",
      "  Inputs Words: ['how', 'are', 'you']\n",
      "  Replied Words: fine fine <EOS>\n",
      "\n",
      "\n"
     ]
    },
    {
     "name": "stderr",
     "output_type": "stream",
     "text": [
      "100%|██████████| 179/179 [00:08<00:00, 22.37it/s]\n"
     ]
    },
    {
     "name": "stdout",
     "output_type": "stream",
     "text": [
      "Epoch 342,Average_loss 0.220540, Average Accucracy 0.615209\n",
      "  Inputs Words: ['how', 'are', 'you']\n",
      "  Replied Words: fine fine <EOS>\n",
      "\n",
      "\n"
     ]
    },
    {
     "name": "stderr",
     "output_type": "stream",
     "text": [
      "100%|██████████| 179/179 [00:08<00:00, 23.05it/s]\n"
     ]
    },
    {
     "name": "stdout",
     "output_type": "stream",
     "text": [
      "Epoch 343,Average_loss 0.222278, Average Accucracy 0.614474\n",
      "  Inputs Words: ['how', 'are', 'you']\n",
      "  Replied Words: fine fine <EOS>\n",
      "\n",
      "\n"
     ]
    },
    {
     "name": "stderr",
     "output_type": "stream",
     "text": [
      "100%|██████████| 179/179 [00:08<00:00, 21.88it/s]\n"
     ]
    },
    {
     "name": "stdout",
     "output_type": "stream",
     "text": [
      "Epoch 344,Average_loss 0.219447, Average Accucracy 0.615689\n",
      "  Inputs Words: ['how', 'are', 'you']\n",
      "  Replied Words: fine fine <EOS>\n",
      "\n",
      "\n"
     ]
    },
    {
     "name": "stderr",
     "output_type": "stream",
     "text": [
      "100%|██████████| 179/179 [00:08<00:00, 21.64it/s]\n"
     ]
    },
    {
     "name": "stdout",
     "output_type": "stream",
     "text": [
      "Epoch 345,Average_loss 0.223568, Average Accucracy 0.615776\n",
      "  Inputs Words: ['how', 'are', 'you']\n",
      "  Replied Words: fine fine <EOS>\n",
      "\n",
      "\n"
     ]
    },
    {
     "name": "stderr",
     "output_type": "stream",
     "text": [
      "100%|██████████| 179/179 [00:08<00:00, 21.62it/s]\n"
     ]
    },
    {
     "name": "stdout",
     "output_type": "stream",
     "text": [
      "Epoch 346,Average_loss 0.222874, Average Accucracy 0.614089\n",
      "  Inputs Words: ['how', 'are', 'you']\n",
      "  Replied Words: very much <EOS>\n",
      "\n",
      "\n"
     ]
    },
    {
     "name": "stderr",
     "output_type": "stream",
     "text": [
      "100%|██████████| 179/179 [00:08<00:00, 21.97it/s]\n"
     ]
    },
    {
     "name": "stdout",
     "output_type": "stream",
     "text": [
      "Epoch 347,Average_loss 0.217811, Average Accucracy 0.615624\n",
      "  Inputs Words: ['how', 'are', 'you']\n",
      "  Replied Words: fine fine <EOS>\n",
      "\n",
      "\n"
     ]
    },
    {
     "name": "stderr",
     "output_type": "stream",
     "text": [
      "100%|██████████| 179/179 [00:08<00:00, 21.48it/s]\n"
     ]
    },
    {
     "name": "stdout",
     "output_type": "stream",
     "text": [
      "Epoch 348,Average_loss 0.219749, Average Accucracy 0.616489\n",
      "  Inputs Words: ['how', 'are', 'you']\n",
      "  Replied Words: fine fine <EOS>\n",
      "\n",
      "\n"
     ]
    },
    {
     "name": "stderr",
     "output_type": "stream",
     "text": [
      "100%|██████████| 179/179 [00:08<00:00, 21.94it/s]\n"
     ]
    },
    {
     "name": "stdout",
     "output_type": "stream",
     "text": [
      "Epoch 349,Average_loss 0.214280, Average Accucracy 0.618119\n",
      "  Inputs Words: ['how', 'are', 'you']\n",
      "  Replied Words: fine fine <EOS>\n",
      "\n",
      "\n"
     ]
    },
    {
     "name": "stderr",
     "output_type": "stream",
     "text": [
      "100%|██████████| 179/179 [00:08<00:00, 22.14it/s]\n"
     ]
    },
    {
     "name": "stdout",
     "output_type": "stream",
     "text": [
      "Epoch 350,Average_loss 0.214872, Average Accucracy 0.615936\n",
      "  Inputs Words: ['how', 'are', 'you']\n",
      "  Replied Words: at what <EOS>\n",
      "\n",
      "\n"
     ]
    },
    {
     "name": "stderr",
     "output_type": "stream",
     "text": [
      "100%|██████████| 179/179 [00:08<00:00, 22.22it/s]\n"
     ]
    },
    {
     "name": "stdout",
     "output_type": "stream",
     "text": [
      "Epoch 351,Average_loss 0.217073, Average Accucracy 0.615827\n",
      "  Inputs Words: ['how', 'are', 'you']\n",
      "  Replied Words: fine fine <EOS>\n",
      "\n",
      "\n"
     ]
    },
    {
     "name": "stderr",
     "output_type": "stream",
     "text": [
      "100%|██████████| 179/179 [00:08<00:00, 22.29it/s]\n"
     ]
    },
    {
     "name": "stdout",
     "output_type": "stream",
     "text": [
      "Epoch 352,Average_loss 0.216378, Average Accucracy 0.615500\n",
      "  Inputs Words: ['how', 'are', 'you']\n",
      "  Replied Words: fine fine <EOS>\n",
      "\n",
      "\n"
     ]
    },
    {
     "name": "stderr",
     "output_type": "stream",
     "text": [
      "100%|██████████| 179/179 [00:08<00:00, 22.24it/s]\n"
     ]
    },
    {
     "name": "stdout",
     "output_type": "stream",
     "text": [
      "Epoch 353,Average_loss 0.212802, Average Accucracy 0.616395\n",
      "  Inputs Words: ['how', 'are', 'you']\n",
      "  Replied Words: fine fine <EOS>\n",
      "\n",
      "\n"
     ]
    },
    {
     "name": "stderr",
     "output_type": "stream",
     "text": [
      "100%|██████████| 179/179 [00:08<00:00, 22.52it/s]\n"
     ]
    },
    {
     "name": "stdout",
     "output_type": "stream",
     "text": [
      "Epoch 354,Average_loss 0.218242, Average Accucracy 0.616235\n",
      "  Inputs Words: ['how', 'are', 'you']\n",
      "  Replied Words: fine fine <EOS>\n",
      "\n",
      "\n"
     ]
    },
    {
     "name": "stderr",
     "output_type": "stream",
     "text": [
      "100%|██████████| 179/179 [00:08<00:00, 21.70it/s]\n"
     ]
    },
    {
     "name": "stdout",
     "output_type": "stream",
     "text": [
      "Epoch 355,Average_loss 0.217566, Average Accucracy 0.616977\n",
      "  Inputs Words: ['how', 'are', 'you']\n",
      "  Replied Words: fine fine <EOS>\n",
      "\n",
      "\n"
     ]
    },
    {
     "name": "stderr",
     "output_type": "stream",
     "text": [
      "100%|██████████| 179/179 [00:08<00:00, 22.42it/s]\n"
     ]
    },
    {
     "name": "stdout",
     "output_type": "stream",
     "text": [
      "Epoch 356,Average_loss 0.213659, Average Accucracy 0.618279\n",
      "  Inputs Words: ['how', 'are', 'you']\n",
      "  Replied Words: fine fine <EOS>\n",
      "\n",
      "\n"
     ]
    },
    {
     "name": "stderr",
     "output_type": "stream",
     "text": [
      "100%|██████████| 179/179 [00:08<00:00, 22.20it/s]\n"
     ]
    },
    {
     "name": "stdout",
     "output_type": "stream",
     "text": [
      "Epoch 357,Average_loss 0.215971, Average Accucracy 0.615551\n",
      "  Inputs Words: ['how', 'are', 'you']\n",
      "  Replied Words: fine sam <EOS>\n",
      "\n",
      "\n"
     ]
    },
    {
     "name": "stderr",
     "output_type": "stream",
     "text": [
      "100%|██████████| 179/179 [00:08<00:00, 22.17it/s]\n"
     ]
    },
    {
     "name": "stdout",
     "output_type": "stream",
     "text": [
      "Epoch 358,Average_loss 0.215279, Average Accucracy 0.613878\n",
      "  Inputs Words: ['how', 'are', 'you']\n",
      "  Replied Words: fine fine <EOS>\n",
      "\n",
      "\n"
     ]
    },
    {
     "name": "stderr",
     "output_type": "stream",
     "text": [
      "100%|██████████| 179/179 [00:08<00:00, 22.15it/s]\n"
     ]
    },
    {
     "name": "stdout",
     "output_type": "stream",
     "text": [
      "Epoch 359,Average_loss 0.213560, Average Accucracy 0.618468\n",
      "  Inputs Words: ['how', 'are', 'you']\n",
      "  Replied Words: fine fine <EOS>\n",
      "\n",
      "\n"
     ]
    },
    {
     "name": "stderr",
     "output_type": "stream",
     "text": [
      "100%|██████████| 179/179 [00:08<00:00, 22.10it/s]\n"
     ]
    },
    {
     "name": "stdout",
     "output_type": "stream",
     "text": [
      "Epoch 360,Average_loss 0.218155, Average Accucracy 0.618242\n",
      "  Inputs Words: ['how', 'are', 'you']\n",
      "  Replied Words: <UNK> fineand <EOS>\n",
      "\n",
      "\n"
     ]
    },
    {
     "name": "stderr",
     "output_type": "stream",
     "text": [
      "100%|██████████| 179/179 [00:08<00:00, 22.15it/s]\n"
     ]
    },
    {
     "name": "stdout",
     "output_type": "stream",
     "text": [
      "Epoch 361,Average_loss 0.218426, Average Accucracy 0.616518\n",
      "  Inputs Words: ['how', 'are', 'you']\n",
      "  Replied Words: hello heart <EOS>\n",
      "\n",
      "\n"
     ]
    },
    {
     "name": "stderr",
     "output_type": "stream",
     "text": [
      "100%|██████████| 179/179 [00:08<00:00, 21.86it/s]\n"
     ]
    },
    {
     "name": "stdout",
     "output_type": "stream",
     "text": [
      "Epoch 362,Average_loss 0.219878, Average Accucracy 0.617420\n",
      "  Inputs Words: ['how', 'are', 'you']\n",
      "  Replied Words: fine fine <EOS>\n",
      "\n",
      "\n"
     ]
    },
    {
     "name": "stderr",
     "output_type": "stream",
     "text": [
      "100%|██████████| 179/179 [00:08<00:00, 22.26it/s]\n"
     ]
    },
    {
     "name": "stdout",
     "output_type": "stream",
     "text": [
      "Epoch 363,Average_loss 0.213325, Average Accucracy 0.617675\n",
      "  Inputs Words: ['how', 'are', 'you']\n",
      "  Replied Words: fine fine <EOS>\n",
      "\n",
      "\n"
     ]
    },
    {
     "name": "stderr",
     "output_type": "stream",
     "text": [
      "100%|██████████| 179/179 [00:08<00:00, 22.15it/s]\n"
     ]
    },
    {
     "name": "stdout",
     "output_type": "stream",
     "text": [
      "Epoch 364,Average_loss 0.212744, Average Accucracy 0.617849\n",
      "  Inputs Words: ['how', 'are', 'you']\n",
      "  Replied Words: another fine <EOS>\n",
      "\n",
      "\n"
     ]
    },
    {
     "name": "stderr",
     "output_type": "stream",
     "text": [
      "100%|██████████| 179/179 [00:08<00:00, 22.17it/s]\n"
     ]
    },
    {
     "name": "stdout",
     "output_type": "stream",
     "text": [
      "Epoch 365,Average_loss 0.211850, Average Accucracy 0.617449\n",
      "  Inputs Words: ['how', 'are', 'you']\n",
      "  Replied Words: nineteen here <EOS>\n",
      "\n",
      "\n"
     ]
    },
    {
     "name": "stderr",
     "output_type": "stream",
     "text": [
      "100%|██████████| 179/179 [00:08<00:00, 22.11it/s]\n"
     ]
    },
    {
     "name": "stdout",
     "output_type": "stream",
     "text": [
      "Epoch 366,Average_loss 0.211471, Average Accucracy 0.618337\n",
      "  Inputs Words: ['how', 'are', 'you']\n",
      "  Replied Words: at all <EOS>\n",
      "\n",
      "\n"
     ]
    },
    {
     "name": "stderr",
     "output_type": "stream",
     "text": [
      "100%|██████████| 179/179 [00:08<00:00, 22.07it/s]\n"
     ]
    },
    {
     "name": "stdout",
     "output_type": "stream",
     "text": [
      "Epoch 367,Average_loss 0.214895, Average Accucracy 0.615311\n",
      "  Inputs Words: ['how', 'are', 'you']\n",
      "  Replied Words: fine fine <EOS>\n",
      "\n",
      "\n"
     ]
    },
    {
     "name": "stderr",
     "output_type": "stream",
     "text": [
      "100%|██████████| 179/179 [00:08<00:00, 22.14it/s]\n"
     ]
    },
    {
     "name": "stdout",
     "output_type": "stream",
     "text": [
      "Epoch 368,Average_loss 0.215057, Average Accucracy 0.616104\n",
      "  Inputs Words: ['how', 'are', 'you']\n",
      "  Replied Words: fine fine <EOS>\n",
      "\n",
      "\n"
     ]
    },
    {
     "name": "stderr",
     "output_type": "stream",
     "text": [
      "100%|██████████| 179/179 [00:08<00:00, 21.85it/s]\n"
     ]
    },
    {
     "name": "stdout",
     "output_type": "stream",
     "text": [
      "Epoch 369,Average_loss 0.214405, Average Accucracy 0.615340\n",
      "  Inputs Words: ['how', 'are', 'you']\n",
      "  Replied Words: fine fine <EOS>\n",
      "\n",
      "\n"
     ]
    },
    {
     "name": "stderr",
     "output_type": "stream",
     "text": [
      "100%|██████████| 179/179 [00:08<00:00, 21.63it/s]\n"
     ]
    },
    {
     "name": "stdout",
     "output_type": "stream",
     "text": [
      "Epoch 370,Average_loss 0.211107, Average Accucracy 0.617435\n",
      "  Inputs Words: ['how', 'are', 'you']\n",
      "  Replied Words: fine fine <EOS>\n",
      "\n",
      "\n"
     ]
    },
    {
     "name": "stderr",
     "output_type": "stream",
     "text": [
      "100%|██████████| 179/179 [00:08<00:00, 21.96it/s]\n"
     ]
    },
    {
     "name": "stdout",
     "output_type": "stream",
     "text": [
      "Epoch 371,Average_loss 0.211900, Average Accucracy 0.616795\n",
      "  Inputs Words: ['how', 'are', 'you']\n",
      "  Replied Words: fine fine <EOS>\n",
      "\n",
      "\n"
     ]
    },
    {
     "name": "stderr",
     "output_type": "stream",
     "text": [
      "100%|██████████| 179/179 [00:08<00:00, 22.07it/s]\n"
     ]
    },
    {
     "name": "stdout",
     "output_type": "stream",
     "text": [
      "Epoch 372,Average_loss 0.211710, Average Accucracy 0.617886\n",
      "  Inputs Words: ['how', 'are', 'you']\n",
      "  Replied Words: <UNK> fine <EOS>\n",
      "\n",
      "\n"
     ]
    },
    {
     "name": "stderr",
     "output_type": "stream",
     "text": [
      "100%|██████████| 179/179 [00:08<00:00, 22.22it/s]\n"
     ]
    },
    {
     "name": "stdout",
     "output_type": "stream",
     "text": [
      "Epoch 373,Average_loss 0.208535, Average Accucracy 0.620926\n",
      "  Inputs Words: ['how', 'are', 'you']\n",
      "  Replied Words: another hundred <EOS>\n",
      "\n",
      "\n"
     ]
    },
    {
     "name": "stderr",
     "output_type": "stream",
     "text": [
      "100%|██████████| 179/179 [00:07<00:00, 22.48it/s]\n"
     ]
    },
    {
     "name": "stdout",
     "output_type": "stream",
     "text": [
      "Epoch 374,Average_loss 0.212997, Average Accucracy 0.616664\n",
      "  Inputs Words: ['how', 'are', 'you']\n",
      "  Replied Words: fine fine <EOS>\n",
      "\n",
      "\n"
     ]
    },
    {
     "name": "stderr",
     "output_type": "stream",
     "text": [
      "100%|██████████| 179/179 [00:08<00:00, 22.34it/s]\n"
     ]
    },
    {
     "name": "stdout",
     "output_type": "stream",
     "text": [
      "Epoch 375,Average_loss 0.215439, Average Accucracy 0.618781\n",
      "  Inputs Words: ['how', 'are', 'you']\n",
      "  Replied Words: fine fine <EOS>\n",
      "\n",
      "\n"
     ]
    },
    {
     "name": "stderr",
     "output_type": "stream",
     "text": [
      "100%|██████████| 179/179 [00:08<00:00, 22.16it/s]\n"
     ]
    },
    {
     "name": "stdout",
     "output_type": "stream",
     "text": [
      "Epoch 376,Average_loss 0.213166, Average Accucracy 0.616242\n",
      "  Inputs Words: ['how', 'are', 'you']\n",
      "  Replied Words: goodhow are <EOS>\n",
      "\n",
      "\n"
     ]
    },
    {
     "name": "stderr",
     "output_type": "stream",
     "text": [
      "100%|██████████| 179/179 [00:08<00:00, 21.98it/s]\n"
     ]
    },
    {
     "name": "stdout",
     "output_type": "stream",
     "text": [
      "Epoch 377,Average_loss 0.213354, Average Accucracy 0.616664\n",
      "  Inputs Words: ['how', 'are', 'you']\n",
      "  Replied Words: fine fine <EOS>\n",
      "\n",
      "\n"
     ]
    },
    {
     "name": "stderr",
     "output_type": "stream",
     "text": [
      "100%|██████████| 179/179 [00:07<00:00, 22.54it/s]\n"
     ]
    },
    {
     "name": "stdout",
     "output_type": "stream",
     "text": [
      "Epoch 378,Average_loss 0.210214, Average Accucracy 0.617522\n",
      "  Inputs Words: ['how', 'are', 'you']\n",
      "  Replied Words: fine fine <EOS>\n",
      "\n",
      "\n"
     ]
    },
    {
     "name": "stderr",
     "output_type": "stream",
     "text": [
      "100%|██████████| 179/179 [00:07<00:00, 22.55it/s]\n"
     ]
    },
    {
     "name": "stdout",
     "output_type": "stream",
     "text": [
      "Epoch 379,Average_loss 0.210338, Average Accucracy 0.618220\n",
      "  Inputs Words: ['how', 'are', 'you']\n",
      "  Replied Words: <UNK> fineand <EOS>\n",
      "\n",
      "\n"
     ]
    },
    {
     "name": "stderr",
     "output_type": "stream",
     "text": [
      "100%|██████████| 179/179 [00:07<00:00, 22.59it/s]\n"
     ]
    },
    {
     "name": "stdout",
     "output_type": "stream",
     "text": [
      "Epoch 380,Average_loss 0.208626, Average Accucracy 0.618541\n",
      "  Inputs Words: ['how', 'are', 'you']\n",
      "  Replied Words: all right <EOS>\n",
      "\n",
      "\n"
     ]
    },
    {
     "name": "stderr",
     "output_type": "stream",
     "text": [
      "100%|██████████| 179/179 [00:07<00:00, 22.41it/s]\n"
     ]
    },
    {
     "name": "stdout",
     "output_type": "stream",
     "text": [
      "Epoch 381,Average_loss 0.207647, Average Accucracy 0.619690\n",
      "  Inputs Words: ['how', 'are', 'you']\n",
      "  Replied Words: another <UNK> <EOS>\n",
      "\n",
      "\n"
     ]
    },
    {
     "name": "stderr",
     "output_type": "stream",
     "text": [
      "100%|██████████| 179/179 [00:07<00:00, 22.49it/s]\n"
     ]
    },
    {
     "name": "stdout",
     "output_type": "stream",
     "text": [
      "Epoch 382,Average_loss 0.210389, Average Accucracy 0.619232\n",
      "  Inputs Words: ['how', 'are', 'you']\n",
      "  Replied Words: fine fine <EOS>\n",
      "\n",
      "\n"
     ]
    },
    {
     "name": "stderr",
     "output_type": "stream",
     "text": [
      "100%|██████████| 179/179 [00:07<00:00, 22.53it/s]\n"
     ]
    },
    {
     "name": "stdout",
     "output_type": "stream",
     "text": [
      "Epoch 383,Average_loss 0.207190, Average Accucracy 0.618097\n",
      "  Inputs Words: ['how', 'are', 'you']\n",
      "  Replied Words: fine fine <EOS>\n",
      "\n",
      "\n"
     ]
    },
    {
     "name": "stderr",
     "output_type": "stream",
     "text": [
      "100%|██████████| 179/179 [00:08<00:00, 22.13it/s]\n"
     ]
    },
    {
     "name": "stdout",
     "output_type": "stream",
     "text": [
      "Epoch 384,Average_loss 0.210153, Average Accucracy 0.615427\n",
      "  Inputs Words: ['how', 'are', 'you']\n",
      "  Replied Words: fine fine <EOS>\n",
      "\n",
      "\n"
     ]
    },
    {
     "name": "stderr",
     "output_type": "stream",
     "text": [
      "100%|██████████| 179/179 [00:07<00:00, 22.68it/s]\n"
     ]
    },
    {
     "name": "stdout",
     "output_type": "stream",
     "text": [
      "Epoch 385,Average_loss 0.207075, Average Accucracy 0.618148\n",
      "  Inputs Words: ['how', 'are', 'you']\n",
      "  Replied Words: fine fine <EOS>\n",
      "\n",
      "\n"
     ]
    },
    {
     "name": "stderr",
     "output_type": "stream",
     "text": [
      "100%|██████████| 179/179 [00:07<00:00, 22.55it/s]\n"
     ]
    },
    {
     "name": "stdout",
     "output_type": "stream",
     "text": [
      "Epoch 386,Average_loss 0.210893, Average Accucracy 0.618737\n",
      "  Inputs Words: ['how', 'are', 'you']\n",
      "  Replied Words: excuse me <EOS>\n",
      "\n",
      "\n"
     ]
    },
    {
     "name": "stderr",
     "output_type": "stream",
     "text": [
      "100%|██████████| 179/179 [00:07<00:00, 22.51it/s]\n"
     ]
    },
    {
     "name": "stdout",
     "output_type": "stream",
     "text": [
      "Epoch 387,Average_loss 0.212978, Average Accucracy 0.615762\n",
      "  Inputs Words: ['how', 'are', 'you']\n",
      "  Replied Words: fine fine <EOS>\n",
      "\n",
      "\n"
     ]
    },
    {
     "name": "stderr",
     "output_type": "stream",
     "text": [
      "100%|██████████| 179/179 [00:07<00:00, 22.87it/s]\n"
     ]
    },
    {
     "name": "stdout",
     "output_type": "stream",
     "text": [
      "Epoch 388,Average_loss 0.213205, Average Accucracy 0.616249\n",
      "  Inputs Words: ['how', 'are', 'you']\n",
      "  Replied Words: hello hundred <EOS>\n",
      "\n",
      "\n"
     ]
    },
    {
     "name": "stderr",
     "output_type": "stream",
     "text": [
      "100%|██████████| 179/179 [00:07<00:00, 22.68it/s]\n"
     ]
    },
    {
     "name": "stdout",
     "output_type": "stream",
     "text": [
      "Epoch 389,Average_loss 0.208401, Average Accucracy 0.619661\n",
      "  Inputs Words: ['how', 'are', 'you']\n",
      "  Replied Words: fine fine <EOS>\n",
      "\n",
      "\n"
     ]
    },
    {
     "name": "stderr",
     "output_type": "stream",
     "text": [
      "100%|██████████| 179/179 [00:07<00:00, 22.69it/s]\n"
     ]
    },
    {
     "name": "stdout",
     "output_type": "stream",
     "text": [
      "Epoch 390,Average_loss 0.212303, Average Accucracy 0.617326\n",
      "  Inputs Words: ['how', 'are', 'you']\n",
      "  Replied Words: fine fine <EOS>\n",
      "\n",
      "\n"
     ]
    },
    {
     "name": "stderr",
     "output_type": "stream",
     "text": [
      "100%|██████████| 179/179 [00:08<00:00, 22.35it/s]\n"
     ]
    },
    {
     "name": "stdout",
     "output_type": "stream",
     "text": [
      "Epoch 391,Average_loss 0.205197, Average Accucracy 0.618853\n",
      "  Inputs Words: ['how', 'are', 'you']\n",
      "  Replied Words: fine fine <EOS>\n",
      "\n",
      "\n"
     ]
    },
    {
     "name": "stderr",
     "output_type": "stream",
     "text": [
      "100%|██████████| 179/179 [00:07<00:00, 22.55it/s]\n"
     ]
    },
    {
     "name": "stdout",
     "output_type": "stream",
     "text": [
      "Epoch 392,Average_loss 0.208011, Average Accucracy 0.620075\n",
      "  Inputs Words: ['how', 'are', 'you']\n",
      "  Replied Words: i cannot <EOS>\n",
      "\n",
      "\n"
     ]
    },
    {
     "name": "stderr",
     "output_type": "stream",
     "text": [
      "100%|██████████| 179/179 [00:07<00:00, 22.78it/s]\n"
     ]
    },
    {
     "name": "stdout",
     "output_type": "stream",
     "text": [
      "Epoch 393,Average_loss 0.205602, Average Accucracy 0.618206\n",
      "  Inputs Words: ['how', 'are', 'you']\n",
      "  Replied Words: fine fine <EOS>\n",
      "\n",
      "\n"
     ]
    },
    {
     "name": "stderr",
     "output_type": "stream",
     "text": [
      "100%|██████████| 179/179 [00:07<00:00, 22.56it/s]\n"
     ]
    },
    {
     "name": "stdout",
     "output_type": "stream",
     "text": [
      "Epoch 394,Average_loss 0.209333, Average Accucracy 0.618708\n",
      "  Inputs Words: ['how', 'are', 'you']\n",
      "  Replied Words: fine fine <EOS>\n",
      "\n",
      "\n"
     ]
    },
    {
     "name": "stderr",
     "output_type": "stream",
     "text": [
      "100%|██████████| 179/179 [00:07<00:00, 22.59it/s]\n"
     ]
    },
    {
     "name": "stdout",
     "output_type": "stream",
     "text": [
      "Epoch 395,Average_loss 0.209002, Average Accucracy 0.617748\n",
      "  Inputs Words: ['how', 'are', 'you']\n",
      "  Replied Words: pretty much <EOS>\n",
      "\n",
      "\n"
     ]
    },
    {
     "name": "stderr",
     "output_type": "stream",
     "text": [
      "100%|██████████| 179/179 [00:07<00:00, 22.66it/s]\n"
     ]
    },
    {
     "name": "stdout",
     "output_type": "stream",
     "text": [
      "Epoch 396,Average_loss 0.207962, Average Accucracy 0.620497\n",
      "  Inputs Words: ['how', 'are', 'you']\n",
      "  Replied Words: another fine <EOS>\n",
      "\n",
      "\n"
     ]
    },
    {
     "name": "stderr",
     "output_type": "stream",
     "text": [
      "100%|██████████| 179/179 [00:07<00:00, 22.63it/s]\n"
     ]
    },
    {
     "name": "stdout",
     "output_type": "stream",
     "text": [
      "Epoch 397,Average_loss 0.207518, Average Accucracy 0.620490\n",
      "  Inputs Words: ['how', 'are', 'you']\n",
      "  Replied Words: fine fine <EOS>\n",
      "\n",
      "\n"
     ]
    },
    {
     "name": "stderr",
     "output_type": "stream",
     "text": [
      "100%|██████████| 179/179 [00:08<00:00, 22.13it/s]\n"
     ]
    },
    {
     "name": "stdout",
     "output_type": "stream",
     "text": [
      "Epoch 398,Average_loss 0.204312, Average Accucracy 0.620075\n",
      "  Inputs Words: ['how', 'are', 'you']\n",
      "  Replied Words: at right <EOS>\n",
      "\n",
      "\n"
     ]
    },
    {
     "name": "stderr",
     "output_type": "stream",
     "text": [
      "100%|██████████| 179/179 [00:10<00:00, 16.51it/s]\n"
     ]
    },
    {
     "name": "stdout",
     "output_type": "stream",
     "text": [
      "Epoch 399,Average_loss 0.205342, Average Accucracy 0.620090\n",
      "  Inputs Words: ['how', 'are', 'you']\n",
      "  Replied Words: fine fine <EOS>\n",
      "\n",
      "\n"
     ]
    },
    {
     "name": "stderr",
     "output_type": "stream",
     "text": [
      "100%|██████████| 179/179 [00:08<00:00, 22.16it/s]\n"
     ]
    },
    {
     "name": "stdout",
     "output_type": "stream",
     "text": [
      "Epoch 400,Average_loss 0.203300, Average Accucracy 0.619944\n",
      "  Inputs Words: ['how', 'are', 'you']\n",
      "  Replied Words: <UNK> fineand <EOS>\n",
      "\n",
      "\n"
     ]
    },
    {
     "name": "stderr",
     "output_type": "stream",
     "text": [
      "100%|██████████| 179/179 [00:08<00:00, 22.14it/s]\n"
     ]
    },
    {
     "name": "stdout",
     "output_type": "stream",
     "text": [
      "Epoch 401,Average_loss 0.202548, Average Accucracy 0.621814\n",
      "  Inputs Words: ['how', 'are', 'you']\n",
      "  Replied Words: very well <EOS>\n",
      "\n",
      "\n"
     ]
    },
    {
     "name": "stderr",
     "output_type": "stream",
     "text": [
      "100%|██████████| 179/179 [00:08<00:00, 22.10it/s]\n"
     ]
    },
    {
     "name": "stdout",
     "output_type": "stream",
     "text": [
      "Epoch 402,Average_loss 0.202991, Average Accucracy 0.621130\n",
      "  Inputs Words: ['how', 'are', 'you']\n",
      "  Replied Words: fine fine <EOS>\n",
      "\n",
      "\n"
     ]
    },
    {
     "name": "stderr",
     "output_type": "stream",
     "text": [
      "100%|██████████| 179/179 [00:08<00:00, 22.15it/s]\n"
     ]
    },
    {
     "name": "stdout",
     "output_type": "stream",
     "text": [
      "Epoch 403,Average_loss 0.205160, Average Accucracy 0.618730\n",
      "  Inputs Words: ['how', 'are', 'you']\n",
      "  Replied Words: pretty much <EOS>\n",
      "\n",
      "\n"
     ]
    },
    {
     "name": "stderr",
     "output_type": "stream",
     "text": [
      "100%|██████████| 179/179 [00:08<00:00, 21.67it/s]\n"
     ]
    },
    {
     "name": "stdout",
     "output_type": "stream",
     "text": [
      "Epoch 404,Average_loss 0.209553, Average Accucracy 0.618359\n",
      "  Inputs Words: ['how', 'are', 'you']\n",
      "  Replied Words: fine fine <EOS>\n",
      "\n",
      "\n"
     ]
    },
    {
     "name": "stderr",
     "output_type": "stream",
     "text": [
      "100%|██████████| 179/179 [00:08<00:00, 22.02it/s]\n"
     ]
    },
    {
     "name": "stdout",
     "output_type": "stream",
     "text": [
      "Epoch 405,Average_loss 0.205078, Average Accucracy 0.619741\n",
      "  Inputs Words: ['how', 'are', 'you']\n",
      "  Replied Words: fine fine <EOS>\n",
      "\n",
      "\n"
     ]
    },
    {
     "name": "stderr",
     "output_type": "stream",
     "text": [
      "100%|██████████| 179/179 [00:08<00:00, 22.80it/s]\n"
     ]
    },
    {
     "name": "stdout",
     "output_type": "stream",
     "text": [
      "Epoch 406,Average_loss 0.205033, Average Accucracy 0.620999\n",
      "  Inputs Words: ['how', 'are', 'you']\n",
      "  Replied Words: fine fine <EOS>\n",
      "\n",
      "\n"
     ]
    },
    {
     "name": "stderr",
     "output_type": "stream",
     "text": [
      "100%|██████████| 179/179 [00:08<00:00, 22.10it/s]\n"
     ]
    },
    {
     "name": "stdout",
     "output_type": "stream",
     "text": [
      "Epoch 407,Average_loss 0.204351, Average Accucracy 0.619268\n",
      "  Inputs Words: ['how', 'are', 'you']\n",
      "  Replied Words: fine sam <EOS>\n",
      "\n",
      "\n"
     ]
    },
    {
     "name": "stderr",
     "output_type": "stream",
     "text": [
      "100%|██████████| 179/179 [00:08<00:00, 22.07it/s]\n"
     ]
    },
    {
     "name": "stdout",
     "output_type": "stream",
     "text": [
      "Epoch 408,Average_loss 0.202247, Average Accucracy 0.618446\n",
      "  Inputs Words: ['how', 'are', 'you']\n",
      "  Replied Words: fine fine <EOS>\n",
      "\n",
      "\n"
     ]
    },
    {
     "name": "stderr",
     "output_type": "stream",
     "text": [
      "100%|██████████| 179/179 [00:08<00:00, 22.23it/s]\n"
     ]
    },
    {
     "name": "stdout",
     "output_type": "stream",
     "text": [
      "Epoch 409,Average_loss 0.202297, Average Accucracy 0.620796\n",
      "  Inputs Words: ['how', 'are', 'you']\n",
      "  Replied Words: fine fine <EOS>\n",
      "\n",
      "\n"
     ]
    },
    {
     "name": "stderr",
     "output_type": "stream",
     "text": [
      "100%|██████████| 179/179 [00:08<00:00, 21.96it/s]\n"
     ]
    },
    {
     "name": "stdout",
     "output_type": "stream",
     "text": [
      "Epoch 410,Average_loss 0.203421, Average Accucracy 0.620737\n",
      "  Inputs Words: ['how', 'are', 'you']\n",
      "  Replied Words: fine fine <EOS>\n",
      "\n",
      "\n"
     ]
    },
    {
     "name": "stderr",
     "output_type": "stream",
     "text": [
      "100%|██████████| 179/179 [00:08<00:00, 21.91it/s]\n"
     ]
    },
    {
     "name": "stdout",
     "output_type": "stream",
     "text": [
      "Epoch 411,Average_loss 0.204049, Average Accucracy 0.620766\n",
      "  Inputs Words: ['how', 'are', 'you']\n",
      "  Replied Words: not coming <EOS>\n",
      "\n",
      "\n"
     ]
    },
    {
     "name": "stderr",
     "output_type": "stream",
     "text": [
      "100%|██████████| 179/179 [00:08<00:00, 21.75it/s]\n"
     ]
    },
    {
     "name": "stdout",
     "output_type": "stream",
     "text": [
      "Epoch 412,Average_loss 0.206709, Average Accucracy 0.619304\n",
      "  Inputs Words: ['how', 'are', 'you']\n",
      "  Replied Words: fine fine <EOS>\n",
      "\n",
      "\n"
     ]
    },
    {
     "name": "stderr",
     "output_type": "stream",
     "text": [
      "100%|██████████| 179/179 [00:08<00:00, 21.84it/s]\n"
     ]
    },
    {
     "name": "stdout",
     "output_type": "stream",
     "text": [
      "Epoch 413,Average_loss 0.204366, Average Accucracy 0.621130\n",
      "  Inputs Words: ['how', 'are', 'you']\n",
      "  Replied Words: fine fine <EOS>\n",
      "\n",
      "\n"
     ]
    },
    {
     "name": "stderr",
     "output_type": "stream",
     "text": [
      "100%|██████████| 179/179 [00:08<00:00, 22.23it/s]\n"
     ]
    },
    {
     "name": "stdout",
     "output_type": "stream",
     "text": [
      "Epoch 414,Average_loss 0.204200, Average Accucracy 0.620621\n",
      "  Inputs Words: ['how', 'are', 'you']\n",
      "  Replied Words: fine fine <EOS>\n",
      "\n",
      "\n"
     ]
    },
    {
     "name": "stderr",
     "output_type": "stream",
     "text": [
      "100%|██████████| 179/179 [00:08<00:00, 22.04it/s]\n"
     ]
    },
    {
     "name": "stdout",
     "output_type": "stream",
     "text": [
      "Epoch 415,Average_loss 0.202484, Average Accucracy 0.620235\n",
      "  Inputs Words: ['how', 'are', 'you']\n",
      "  Replied Words: fine fine <EOS>\n",
      "\n",
      "\n"
     ]
    },
    {
     "name": "stderr",
     "output_type": "stream",
     "text": [
      "100%|██████████| 179/179 [00:08<00:00, 22.04it/s]\n"
     ]
    },
    {
     "name": "stdout",
     "output_type": "stream",
     "text": [
      "Epoch 416,Average_loss 0.201305, Average Accucracy 0.619712\n",
      "  Inputs Words: ['how', 'are', 'you']\n",
      "  Replied Words: at what <EOS>\n",
      "\n",
      "\n"
     ]
    },
    {
     "name": "stderr",
     "output_type": "stream",
     "text": [
      "100%|██████████| 179/179 [00:08<00:00, 21.91it/s]\n"
     ]
    },
    {
     "name": "stdout",
     "output_type": "stream",
     "text": [
      "Epoch 417,Average_loss 0.203127, Average Accucracy 0.619748\n",
      "  Inputs Words: ['how', 'are', 'you']\n",
      "  Replied Words: fine fine <EOS>\n",
      "\n",
      "\n"
     ]
    },
    {
     "name": "stderr",
     "output_type": "stream",
     "text": [
      "100%|██████████| 179/179 [00:08<00:00, 21.75it/s]\n"
     ]
    },
    {
     "name": "stdout",
     "output_type": "stream",
     "text": [
      "Epoch 418,Average_loss 0.203966, Average Accucracy 0.619384\n",
      "  Inputs Words: ['how', 'are', 'you']\n",
      "  Replied Words: fine fine <EOS>\n",
      "\n",
      "\n"
     ]
    },
    {
     "name": "stderr",
     "output_type": "stream",
     "text": [
      "100%|██████████| 179/179 [00:08<00:00, 21.56it/s]\n"
     ]
    },
    {
     "name": "stdout",
     "output_type": "stream",
     "text": [
      "Epoch 419,Average_loss 0.203542, Average Accucracy 0.621705\n",
      "  Inputs Words: ['how', 'are', 'you']\n",
      "  Replied Words: another fine <EOS>\n",
      "\n",
      "\n"
     ]
    },
    {
     "name": "stderr",
     "output_type": "stream",
     "text": [
      "100%|██████████| 179/179 [00:08<00:00, 21.77it/s]\n"
     ]
    },
    {
     "name": "stdout",
     "output_type": "stream",
     "text": [
      "Epoch 420,Average_loss 0.203377, Average Accucracy 0.620803\n",
      "  Inputs Words: ['how', 'are', 'you']\n",
      "  Replied Words: fine fine <EOS>\n",
      "\n",
      "\n"
     ]
    },
    {
     "name": "stderr",
     "output_type": "stream",
     "text": [
      "100%|██████████| 179/179 [00:08<00:00, 22.47it/s]\n"
     ]
    },
    {
     "name": "stdout",
     "output_type": "stream",
     "text": [
      "Epoch 421,Average_loss 0.206497, Average Accucracy 0.620606\n",
      "  Inputs Words: ['how', 'are', 'you']\n",
      "  Replied Words: <UNK> coming <EOS>\n",
      "\n",
      "\n"
     ]
    },
    {
     "name": "stderr",
     "output_type": "stream",
     "text": [
      "100%|██████████| 179/179 [00:08<00:00, 22.06it/s]\n"
     ]
    },
    {
     "name": "stdout",
     "output_type": "stream",
     "text": [
      "Epoch 422,Average_loss 0.205082, Average Accucracy 0.621479\n",
      "  Inputs Words: ['how', 'are', 'you']\n",
      "  Replied Words: fine fine <EOS>\n",
      "\n",
      "\n"
     ]
    },
    {
     "name": "stderr",
     "output_type": "stream",
     "text": [
      "100%|██████████| 179/179 [00:08<00:00, 21.87it/s]\n"
     ]
    },
    {
     "name": "stdout",
     "output_type": "stream",
     "text": [
      "Epoch 423,Average_loss 0.202020, Average Accucracy 0.621792\n",
      "  Inputs Words: ['how', 'are', 'you']\n",
      "  Replied Words: fine fine <EOS>\n",
      "\n",
      "\n"
     ]
    },
    {
     "name": "stderr",
     "output_type": "stream",
     "text": [
      "100%|██████████| 179/179 [00:08<00:00, 21.96it/s]\n"
     ]
    },
    {
     "name": "stdout",
     "output_type": "stream",
     "text": [
      "Epoch 424,Average_loss 0.202412, Average Accucracy 0.621501\n",
      "  Inputs Words: ['how', 'are', 'you']\n",
      "  Replied Words: fine fine <EOS>\n",
      "\n",
      "\n"
     ]
    },
    {
     "name": "stderr",
     "output_type": "stream",
     "text": [
      "100%|██████████| 179/179 [00:08<00:00, 22.07it/s]\n"
     ]
    },
    {
     "name": "stdout",
     "output_type": "stream",
     "text": [
      "Epoch 425,Average_loss 0.199701, Average Accucracy 0.621778\n",
      "  Inputs Words: ['how', 'are', 'you']\n",
      "  Replied Words: fine fine <EOS>\n",
      "\n",
      "\n"
     ]
    },
    {
     "name": "stderr",
     "output_type": "stream",
     "text": [
      "100%|██████████| 179/179 [00:08<00:00, 21.78it/s]\n"
     ]
    },
    {
     "name": "stdout",
     "output_type": "stream",
     "text": [
      "Epoch 426,Average_loss 0.200575, Average Accucracy 0.621036\n",
      "  Inputs Words: ['how', 'are', 'you']\n",
      "  Replied Words: fine fine <EOS>\n",
      "\n",
      "\n"
     ]
    },
    {
     "name": "stderr",
     "output_type": "stream",
     "text": [
      "100%|██████████| 179/179 [00:08<00:00, 21.86it/s]\n"
     ]
    },
    {
     "name": "stdout",
     "output_type": "stream",
     "text": [
      "Epoch 427,Average_loss 0.198519, Average Accucracy 0.622687\n",
      "  Inputs Words: ['how', 'are', 'you']\n",
      "  Replied Words: fine fine <EOS>\n",
      "\n",
      "\n"
     ]
    },
    {
     "name": "stderr",
     "output_type": "stream",
     "text": [
      "100%|██████████| 179/179 [00:08<00:00, 21.85it/s]\n"
     ]
    },
    {
     "name": "stdout",
     "output_type": "stream",
     "text": [
      "Epoch 428,Average_loss 0.199544, Average Accucracy 0.621276\n",
      "  Inputs Words: ['how', 'are', 'you']\n",
      "  Replied Words: fine fine <EOS>\n",
      "\n",
      "\n"
     ]
    },
    {
     "name": "stderr",
     "output_type": "stream",
     "text": [
      "100%|██████████| 179/179 [00:08<00:00, 22.28it/s]\n"
     ]
    },
    {
     "name": "stdout",
     "output_type": "stream",
     "text": [
      "Epoch 429,Average_loss 0.201863, Average Accucracy 0.619690\n",
      "  Inputs Words: ['how', 'are', 'you']\n",
      "  Replied Words: fine fine <EOS>\n",
      "\n",
      "\n"
     ]
    },
    {
     "name": "stderr",
     "output_type": "stream",
     "text": [
      "100%|██████████| 179/179 [00:08<00:00, 21.97it/s]\n"
     ]
    },
    {
     "name": "stdout",
     "output_type": "stream",
     "text": [
      "Epoch 430,Average_loss 0.198988, Average Accucracy 0.621690\n",
      "  Inputs Words: ['how', 'are', 'you']\n",
      "  Replied Words: fine fine <EOS>\n",
      "\n",
      "\n"
     ]
    },
    {
     "name": "stderr",
     "output_type": "stream",
     "text": [
      "100%|██████████| 179/179 [00:08<00:00, 21.37it/s]\n"
     ]
    },
    {
     "name": "stdout",
     "output_type": "stream",
     "text": [
      "Epoch 431,Average_loss 0.200586, Average Accucracy 0.623494\n",
      "  Inputs Words: ['how', 'are', 'you']\n",
      "  Replied Words: fine fine <EOS>\n",
      "\n",
      "\n"
     ]
    },
    {
     "name": "stderr",
     "output_type": "stream",
     "text": [
      "100%|██████████| 179/179 [00:08<00:00, 22.13it/s]\n"
     ]
    },
    {
     "name": "stdout",
     "output_type": "stream",
     "text": [
      "Epoch 432,Average_loss 0.199955, Average Accucracy 0.621188\n",
      "  Inputs Words: ['how', 'are', 'you']\n",
      "  Replied Words: hi fine <EOS>\n",
      "\n",
      "\n"
     ]
    },
    {
     "name": "stderr",
     "output_type": "stream",
     "text": [
      "100%|██████████| 179/179 [00:08<00:00, 22.17it/s]\n"
     ]
    },
    {
     "name": "stdout",
     "output_type": "stream",
     "text": [
      "Epoch 433,Average_loss 0.199730, Average Accucracy 0.622912\n",
      "  Inputs Words: ['how', 'are', 'you']\n",
      "  Replied Words: another tape <EOS>\n",
      "\n",
      "\n"
     ]
    },
    {
     "name": "stderr",
     "output_type": "stream",
     "text": [
      "100%|██████████| 179/179 [00:08<00:00, 22.04it/s]\n"
     ]
    },
    {
     "name": "stdout",
     "output_type": "stream",
     "text": [
      "Epoch 434,Average_loss 0.199017, Average Accucracy 0.620526\n",
      "  Inputs Words: ['how', 'are', 'you']\n",
      "  Replied Words: fine fine <EOS>\n",
      "\n",
      "\n"
     ]
    },
    {
     "name": "stderr",
     "output_type": "stream",
     "text": [
      "100%|██████████| 179/179 [00:08<00:00, 22.17it/s]\n"
     ]
    },
    {
     "name": "stdout",
     "output_type": "stream",
     "text": [
      "Epoch 435,Average_loss 0.200687, Average Accucracy 0.620766\n",
      "  Inputs Words: ['how', 'are', 'you']\n",
      "  Replied Words: fine fine <EOS>\n",
      "\n",
      "\n"
     ]
    },
    {
     "name": "stderr",
     "output_type": "stream",
     "text": [
      "100%|██████████| 179/179 [00:08<00:00, 22.20it/s]\n"
     ]
    },
    {
     "name": "stdout",
     "output_type": "stream",
     "text": [
      "Epoch 436,Average_loss 0.200219, Average Accucracy 0.621778\n",
      "  Inputs Words: ['how', 'are', 'you']\n",
      "  Replied Words: fine fine <EOS>\n",
      "\n",
      "\n"
     ]
    },
    {
     "name": "stderr",
     "output_type": "stream",
     "text": [
      "100%|██████████| 179/179 [00:08<00:00, 22.21it/s]\n"
     ]
    },
    {
     "name": "stdout",
     "output_type": "stream",
     "text": [
      "Epoch 437,Average_loss 0.199710, Average Accucracy 0.621988\n",
      "  Inputs Words: ['how', 'are', 'you']\n",
      "  Replied Words: fine fine <EOS>\n",
      "\n",
      "\n"
     ]
    },
    {
     "name": "stderr",
     "output_type": "stream",
     "text": [
      "100%|██████████| 179/179 [00:08<00:00, 22.04it/s]\n"
     ]
    },
    {
     "name": "stdout",
     "output_type": "stream",
     "text": [
      "Epoch 438,Average_loss 0.198677, Average Accucracy 0.620374\n",
      "  Inputs Words: ['how', 'are', 'you']\n",
      "  Replied Words: fine fine <EOS>\n",
      "\n",
      "\n"
     ]
    },
    {
     "name": "stderr",
     "output_type": "stream",
     "text": [
      "100%|██████████| 179/179 [00:08<00:00, 22.17it/s]\n"
     ]
    },
    {
     "name": "stdout",
     "output_type": "stream",
     "text": [
      "Epoch 439,Average_loss 0.200019, Average Accucracy 0.623051\n",
      "  Inputs Words: ['how', 'are', 'you']\n",
      "  Replied Words: fine fine <EOS>\n",
      "\n",
      "\n"
     ]
    },
    {
     "name": "stderr",
     "output_type": "stream",
     "text": [
      "100%|██████████| 179/179 [00:08<00:00, 21.82it/s]\n"
     ]
    },
    {
     "name": "stdout",
     "output_type": "stream",
     "text": [
      "Epoch 440,Average_loss 0.198566, Average Accucracy 0.621617\n",
      "  Inputs Words: ['how', 'are', 'you']\n",
      "  Replied Words: fine fine <EOS>\n",
      "\n",
      "\n"
     ]
    },
    {
     "name": "stderr",
     "output_type": "stream",
     "text": [
      "100%|██████████| 179/179 [00:08<00:00, 22.05it/s]\n"
     ]
    },
    {
     "name": "stdout",
     "output_type": "stream",
     "text": [
      "Epoch 441,Average_loss 0.198232, Average Accucracy 0.622592\n",
      "  Inputs Words: ['how', 'are', 'you']\n",
      "  Replied Words: fine fine <EOS>\n",
      "\n",
      "\n"
     ]
    },
    {
     "name": "stderr",
     "output_type": "stream",
     "text": [
      "100%|██████████| 179/179 [00:08<00:00, 21.97it/s]\n"
     ]
    },
    {
     "name": "stdout",
     "output_type": "stream",
     "text": [
      "Epoch 442,Average_loss 0.198362, Average Accucracy 0.623931\n",
      "  Inputs Words: ['how', 'are', 'you']\n",
      "  Replied Words: fine fine <EOS>\n",
      "\n",
      "\n"
     ]
    },
    {
     "name": "stderr",
     "output_type": "stream",
     "text": [
      "100%|██████████| 179/179 [00:08<00:00, 22.03it/s]\n"
     ]
    },
    {
     "name": "stdout",
     "output_type": "stream",
     "text": [
      "Epoch 443,Average_loss 0.199376, Average Accucracy 0.623000\n",
      "  Inputs Words: ['how', 'are', 'you']\n",
      "  Replied Words: doing fine <EOS>\n",
      "\n",
      "\n"
     ]
    },
    {
     "name": "stderr",
     "output_type": "stream",
     "text": [
      "100%|██████████| 179/179 [00:08<00:00, 22.17it/s]\n"
     ]
    },
    {
     "name": "stdout",
     "output_type": "stream",
     "text": [
      "Epoch 444,Average_loss 0.195255, Average Accucracy 0.623058\n",
      "  Inputs Words: ['how', 'are', 'you']\n",
      "  Replied Words: fine fine <EOS>\n",
      "\n",
      "\n"
     ]
    },
    {
     "name": "stderr",
     "output_type": "stream",
     "text": [
      "100%|██████████| 179/179 [00:08<00:00, 22.16it/s]\n"
     ]
    },
    {
     "name": "stdout",
     "output_type": "stream",
     "text": [
      "Epoch 445,Average_loss 0.196539, Average Accucracy 0.621938\n",
      "  Inputs Words: ['how', 'are', 'you']\n",
      "  Replied Words: at what <EOS>\n",
      "\n",
      "\n"
     ]
    },
    {
     "name": "stderr",
     "output_type": "stream",
     "text": [
      "100%|██████████| 179/179 [00:08<00:00, 22.00it/s]\n"
     ]
    },
    {
     "name": "stdout",
     "output_type": "stream",
     "text": [
      "Epoch 446,Average_loss 0.196595, Average Accucracy 0.623662\n",
      "  Inputs Words: ['how', 'are', 'you']\n",
      "  Replied Words: doing fine <EOS>\n",
      "\n",
      "\n"
     ]
    },
    {
     "name": "stderr",
     "output_type": "stream",
     "text": [
      "100%|██████████| 179/179 [00:08<00:00, 21.99it/s]\n"
     ]
    },
    {
     "name": "stdout",
     "output_type": "stream",
     "text": [
      "Epoch 447,Average_loss 0.197211, Average Accucracy 0.623327\n",
      "  Inputs Words: ['how', 'are', 'you']\n",
      "  Replied Words: fine fine <EOS>\n",
      "\n",
      "\n"
     ]
    },
    {
     "name": "stderr",
     "output_type": "stream",
     "text": [
      "100%|██████████| 179/179 [00:08<00:00, 22.25it/s]\n"
     ]
    },
    {
     "name": "stdout",
     "output_type": "stream",
     "text": [
      "Epoch 448,Average_loss 0.196241, Average Accucracy 0.622432\n",
      "  Inputs Words: ['how', 'are', 'you']\n",
      "  Replied Words: fine fine <EOS>\n",
      "\n",
      "\n"
     ]
    },
    {
     "name": "stderr",
     "output_type": "stream",
     "text": [
      "100%|██████████| 179/179 [00:08<00:00, 22.38it/s]\n"
     ]
    },
    {
     "name": "stdout",
     "output_type": "stream",
     "text": [
      "Epoch 449,Average_loss 0.195062, Average Accucracy 0.622723\n",
      "  Inputs Words: ['how', 'are', 'you']\n",
      "  Replied Words: fine fine <EOS>\n",
      "\n",
      "\n"
     ]
    },
    {
     "name": "stderr",
     "output_type": "stream",
     "text": [
      "100%|██████████| 179/179 [00:08<00:00, 22.17it/s]\n"
     ]
    },
    {
     "name": "stdout",
     "output_type": "stream",
     "text": [
      "Epoch 450,Average_loss 0.196235, Average Accucracy 0.625175\n",
      "  Inputs Words: ['how', 'are', 'you']\n",
      "  Replied Words: fine fine <EOS>\n",
      "\n",
      "\n"
     ]
    },
    {
     "name": "stderr",
     "output_type": "stream",
     "text": [
      "100%|██████████| 179/179 [00:08<00:00, 21.88it/s]\n"
     ]
    },
    {
     "name": "stdout",
     "output_type": "stream",
     "text": [
      "Epoch 451,Average_loss 0.195056, Average Accucracy 0.622119\n",
      "  Inputs Words: ['how', 'are', 'you']\n",
      "  Replied Words: fine fine <EOS>\n",
      "\n",
      "\n"
     ]
    },
    {
     "name": "stderr",
     "output_type": "stream",
     "text": [
      "100%|██████████| 179/179 [00:08<00:00, 22.01it/s]\n"
     ]
    },
    {
     "name": "stdout",
     "output_type": "stream",
     "text": [
      "Epoch 452,Average_loss 0.199474, Average Accucracy 0.623072\n",
      "  Inputs Words: ['how', 'are', 'you']\n",
      "  Replied Words: ah fine <EOS>\n",
      "\n",
      "\n"
     ]
    },
    {
     "name": "stderr",
     "output_type": "stream",
     "text": [
      "100%|██████████| 179/179 [00:08<00:00, 22.00it/s]\n"
     ]
    },
    {
     "name": "stdout",
     "output_type": "stream",
     "text": [
      "Epoch 453,Average_loss 0.196807, Average Accucracy 0.623101\n",
      "  Inputs Words: ['how', 'are', 'you']\n",
      "  Replied Words: fine fine <EOS>\n",
      "\n",
      "\n"
     ]
    },
    {
     "name": "stderr",
     "output_type": "stream",
     "text": [
      "100%|██████████| 179/179 [00:08<00:00, 21.97it/s]\n"
     ]
    },
    {
     "name": "stdout",
     "output_type": "stream",
     "text": [
      "Epoch 454,Average_loss 0.195463, Average Accucracy 0.623596\n",
      "  Inputs Words: ['how', 'are', 'you']\n",
      "  Replied Words: fine fine <EOS>\n",
      "\n",
      "\n"
     ]
    },
    {
     "name": "stderr",
     "output_type": "stream",
     "text": [
      "100%|██████████| 179/179 [00:08<00:00, 22.17it/s]\n"
     ]
    },
    {
     "name": "stdout",
     "output_type": "stream",
     "text": [
      "Epoch 455,Average_loss 0.195371, Average Accucracy 0.623247\n",
      "  Inputs Words: ['how', 'are', 'you']\n",
      "  Replied Words: fine fine <EOS>\n",
      "\n",
      "\n"
     ]
    },
    {
     "name": "stderr",
     "output_type": "stream",
     "text": [
      "100%|██████████| 179/179 [00:08<00:00, 22.42it/s]\n"
     ]
    },
    {
     "name": "stdout",
     "output_type": "stream",
     "text": [
      "Epoch 456,Average_loss 0.194727, Average Accucracy 0.622738\n",
      "  Inputs Words: ['how', 'are', 'you']\n",
      "  Replied Words: fine fine <EOS>\n",
      "\n",
      "\n"
     ]
    },
    {
     "name": "stderr",
     "output_type": "stream",
     "text": [
      "100%|██████████| 179/179 [00:08<00:00, 22.11it/s]\n"
     ]
    },
    {
     "name": "stdout",
     "output_type": "stream",
     "text": [
      "Epoch 457,Average_loss 0.196291, Average Accucracy 0.623647\n",
      "  Inputs Words: ['how', 'are', 'you']\n",
      "  Replied Words: fine fine <EOS>\n",
      "\n",
      "\n"
     ]
    },
    {
     "name": "stderr",
     "output_type": "stream",
     "text": [
      "100%|██████████| 179/179 [00:08<00:00, 22.38it/s]\n"
     ]
    },
    {
     "name": "stdout",
     "output_type": "stream",
     "text": [
      "Epoch 458,Average_loss 0.198155, Average Accucracy 0.621479\n",
      "  Inputs Words: ['how', 'are', 'you']\n",
      "  Replied Words: fine fine <EOS>\n",
      "\n",
      "\n"
     ]
    },
    {
     "name": "stderr",
     "output_type": "stream",
     "text": [
      "100%|██████████| 179/179 [00:08<00:00, 22.00it/s]\n"
     ]
    },
    {
     "name": "stdout",
     "output_type": "stream",
     "text": [
      "Epoch 459,Average_loss 0.196442, Average Accucracy 0.622330\n",
      "  Inputs Words: ['how', 'are', 'you']\n",
      "  Replied Words: fine fine <EOS>\n",
      "\n",
      "\n"
     ]
    },
    {
     "name": "stderr",
     "output_type": "stream",
     "text": [
      "100%|██████████| 179/179 [00:08<00:00, 21.89it/s]\n"
     ]
    },
    {
     "name": "stdout",
     "output_type": "stream",
     "text": [
      "Epoch 460,Average_loss 0.196425, Average Accucracy 0.623051\n",
      "  Inputs Words: ['how', 'are', 'you']\n",
      "  Replied Words: fine fine <EOS>\n",
      "\n",
      "\n"
     ]
    },
    {
     "name": "stderr",
     "output_type": "stream",
     "text": [
      "100%|██████████| 179/179 [00:08<00:00, 22.03it/s]\n"
     ]
    },
    {
     "name": "stdout",
     "output_type": "stream",
     "text": [
      "Epoch 461,Average_loss 0.196614, Average Accucracy 0.623327\n",
      "  Inputs Words: ['how', 'are', 'you']\n",
      "  Replied Words: <UNK> fine <EOS>\n",
      "\n",
      "\n"
     ]
    },
    {
     "name": "stderr",
     "output_type": "stream",
     "text": [
      "100%|██████████| 179/179 [00:08<00:00, 21.98it/s]\n"
     ]
    },
    {
     "name": "stdout",
     "output_type": "stream",
     "text": [
      "Epoch 462,Average_loss 0.196320, Average Accucracy 0.622985\n",
      "  Inputs Words: ['how', 'are', 'you']\n",
      "  Replied Words: fine fine <EOS>\n",
      "\n",
      "\n"
     ]
    },
    {
     "name": "stderr",
     "output_type": "stream",
     "text": [
      "100%|██████████| 179/179 [00:08<00:00, 22.05it/s]\n"
     ]
    },
    {
     "name": "stdout",
     "output_type": "stream",
     "text": [
      "Epoch 463,Average_loss 0.194848, Average Accucracy 0.623196\n",
      "  Inputs Words: ['how', 'are', 'you']\n",
      "  Replied Words: fine fine <EOS>\n",
      "\n",
      "\n"
     ]
    },
    {
     "name": "stderr",
     "output_type": "stream",
     "text": [
      "100%|██████████| 179/179 [00:08<00:00, 22.03it/s]\n"
     ]
    },
    {
     "name": "stdout",
     "output_type": "stream",
     "text": [
      "Epoch 464,Average_loss 0.193338, Average Accucracy 0.622927\n",
      "  Inputs Words: ['how', 'are', 'you']\n",
      "  Replied Words: fine fine <EOS>\n",
      "\n",
      "\n"
     ]
    },
    {
     "name": "stderr",
     "output_type": "stream",
     "text": [
      "100%|██████████| 179/179 [00:08<00:00, 22.08it/s]\n"
     ]
    },
    {
     "name": "stdout",
     "output_type": "stream",
     "text": [
      "Epoch 465,Average_loss 0.195444, Average Accucracy 0.624156\n",
      "  Inputs Words: ['how', 'are', 'you']\n",
      "  Replied Words: fine fine <EOS>\n",
      "\n",
      "\n"
     ]
    },
    {
     "name": "stderr",
     "output_type": "stream",
     "text": [
      "100%|██████████| 179/179 [00:08<00:00, 22.09it/s]\n"
     ]
    },
    {
     "name": "stdout",
     "output_type": "stream",
     "text": [
      "Epoch 466,Average_loss 0.196530, Average Accucracy 0.622883\n",
      "  Inputs Words: ['how', 'are', 'you']\n",
      "  Replied Words: fine fine <EOS>\n",
      "\n",
      "\n"
     ]
    },
    {
     "name": "stderr",
     "output_type": "stream",
     "text": [
      "100%|██████████| 179/179 [00:08<00:00, 22.22it/s]\n"
     ]
    },
    {
     "name": "stdout",
     "output_type": "stream",
     "text": [
      "Epoch 467,Average_loss 0.198447, Average Accucracy 0.623451\n",
      "  Inputs Words: ['how', 'are', 'you']\n",
      "  Replied Words: fine fine <EOS>\n",
      "\n",
      "\n"
     ]
    },
    {
     "name": "stderr",
     "output_type": "stream",
     "text": [
      "100%|██████████| 179/179 [00:08<00:00, 21.94it/s]\n"
     ]
    },
    {
     "name": "stdout",
     "output_type": "stream",
     "text": [
      "Epoch 468,Average_loss 0.193689, Average Accucracy 0.624338\n",
      "  Inputs Words: ['how', 'are', 'you']\n",
      "  Replied Words: hi fine <EOS>\n",
      "\n",
      "\n"
     ]
    },
    {
     "name": "stderr",
     "output_type": "stream",
     "text": [
      "100%|██████████| 179/179 [00:08<00:00, 22.02it/s]\n"
     ]
    },
    {
     "name": "stdout",
     "output_type": "stream",
     "text": [
      "Epoch 469,Average_loss 0.191827, Average Accucracy 0.625771\n",
      "  Inputs Words: ['how', 'are', 'you']\n",
      "  Replied Words: fine fine <EOS>\n",
      "\n",
      "\n"
     ]
    },
    {
     "name": "stderr",
     "output_type": "stream",
     "text": [
      "100%|██████████| 179/179 [00:08<00:00, 21.97it/s]\n"
     ]
    },
    {
     "name": "stdout",
     "output_type": "stream",
     "text": [
      "Epoch 470,Average_loss 0.192062, Average Accucracy 0.625036\n",
      "  Inputs Words: ['how', 'are', 'you']\n",
      "  Replied Words: fine fine <EOS>\n",
      "\n",
      "\n"
     ]
    },
    {
     "name": "stderr",
     "output_type": "stream",
     "text": [
      "100%|██████████| 179/179 [00:08<00:00, 21.69it/s]\n"
     ]
    },
    {
     "name": "stdout",
     "output_type": "stream",
     "text": [
      "Epoch 471,Average_loss 0.193613, Average Accucracy 0.625022\n",
      "  Inputs Words: ['how', 'are', 'you']\n",
      "  Replied Words: fine fine <EOS>\n",
      "\n",
      "\n"
     ]
    },
    {
     "name": "stderr",
     "output_type": "stream",
     "text": [
      "100%|██████████| 179/179 [00:08<00:00, 22.16it/s]\n"
     ]
    },
    {
     "name": "stdout",
     "output_type": "stream",
     "text": [
      "Epoch 472,Average_loss 0.193009, Average Accucracy 0.623225\n",
      "  Inputs Words: ['how', 'are', 'you']\n",
      "  Replied Words: fine fine <EOS>\n",
      "\n",
      "\n"
     ]
    },
    {
     "name": "stderr",
     "output_type": "stream",
     "text": [
      "100%|██████████| 179/179 [00:08<00:00, 21.97it/s]\n"
     ]
    },
    {
     "name": "stdout",
     "output_type": "stream",
     "text": [
      "Epoch 473,Average_loss 0.195068, Average Accucracy 0.622636\n",
      "  Inputs Words: ['how', 'are', 'you']\n",
      "  Replied Words: fine fine <EOS>\n",
      "\n",
      "\n"
     ]
    },
    {
     "name": "stderr",
     "output_type": "stream",
     "text": [
      "100%|██████████| 179/179 [00:08<00:00, 22.09it/s]\n"
     ]
    },
    {
     "name": "stdout",
     "output_type": "stream",
     "text": [
      "Epoch 474,Average_loss 0.192264, Average Accucracy 0.622869\n",
      "  Inputs Words: ['how', 'are', 'you']\n",
      "  Replied Words: hello <UNK> <EOS>\n",
      "\n",
      "\n"
     ]
    },
    {
     "name": "stderr",
     "output_type": "stream",
     "text": [
      "100%|██████████| 179/179 [00:08<00:00, 22.28it/s]\n"
     ]
    },
    {
     "name": "stdout",
     "output_type": "stream",
     "text": [
      "Epoch 475,Average_loss 0.192012, Average Accucracy 0.622803\n",
      "  Inputs Words: ['how', 'are', 'you']\n",
      "  Replied Words: fine fine <EOS>\n",
      "\n",
      "\n"
     ]
    },
    {
     "name": "stderr",
     "output_type": "stream",
     "text": [
      "100%|██████████| 179/179 [00:08<00:00, 21.87it/s]\n"
     ]
    },
    {
     "name": "stdout",
     "output_type": "stream",
     "text": [
      "Epoch 476,Average_loss 0.190410, Average Accucracy 0.622345\n",
      "  Inputs Words: ['how', 'are', 'you']\n",
      "  Replied Words: another fine <EOS>\n",
      "\n",
      "\n"
     ]
    },
    {
     "name": "stderr",
     "output_type": "stream",
     "text": [
      "100%|██████████| 179/179 [00:08<00:00, 22.31it/s]\n"
     ]
    },
    {
     "name": "stdout",
     "output_type": "stream",
     "text": [
      "Epoch 477,Average_loss 0.191152, Average Accucracy 0.623414\n",
      "  Inputs Words: ['how', 'are', 'you']\n",
      "  Replied Words: fine fine <EOS>\n",
      "\n",
      "\n"
     ]
    },
    {
     "name": "stderr",
     "output_type": "stream",
     "text": [
      "100%|██████████| 179/179 [00:08<00:00, 21.32it/s]\n"
     ]
    },
    {
     "name": "stdout",
     "output_type": "stream",
     "text": [
      "Epoch 478,Average_loss 0.193620, Average Accucracy 0.625378\n",
      "  Inputs Words: ['how', 'are', 'you']\n",
      "  Replied Words: fine fine <EOS>\n",
      "\n",
      "\n"
     ]
    },
    {
     "name": "stderr",
     "output_type": "stream",
     "text": [
      "100%|██████████| 179/179 [00:08<00:00, 22.09it/s]\n"
     ]
    },
    {
     "name": "stdout",
     "output_type": "stream",
     "text": [
      "Epoch 479,Average_loss 0.189101, Average Accucracy 0.622439\n",
      "  Inputs Words: ['how', 'are', 'you']\n",
      "  Replied Words: hi fine <EOS>\n",
      "\n",
      "\n"
     ]
    },
    {
     "name": "stderr",
     "output_type": "stream",
     "text": [
      "100%|██████████| 179/179 [00:08<00:00, 22.09it/s]\n"
     ]
    },
    {
     "name": "stdout",
     "output_type": "stream",
     "text": [
      "Epoch 480,Average_loss 0.192149, Average Accucracy 0.623785\n",
      "  Inputs Words: ['how', 'are', 'you']\n",
      "  Replied Words: fine fine <EOS>\n",
      "\n",
      "\n"
     ]
    },
    {
     "name": "stderr",
     "output_type": "stream",
     "text": [
      "100%|██████████| 179/179 [00:08<00:00, 22.17it/s]\n"
     ]
    },
    {
     "name": "stdout",
     "output_type": "stream",
     "text": [
      "Epoch 481,Average_loss 0.190254, Average Accucracy 0.624309\n",
      "  Inputs Words: ['how', 'are', 'you']\n",
      "  Replied Words: fine fine <EOS>\n",
      "\n",
      "\n"
     ]
    },
    {
     "name": "stderr",
     "output_type": "stream",
     "text": [
      "100%|██████████| 179/179 [00:08<00:00, 22.20it/s]\n"
     ]
    },
    {
     "name": "stdout",
     "output_type": "stream",
     "text": [
      "Epoch 482,Average_loss 0.189152, Average Accucracy 0.624585\n",
      "  Inputs Words: ['how', 'are', 'you']\n",
      "  Replied Words: fine fine <EOS>\n",
      "\n",
      "\n"
     ]
    },
    {
     "name": "stderr",
     "output_type": "stream",
     "text": [
      "100%|██████████| 179/179 [00:08<00:00, 22.32it/s]\n"
     ]
    },
    {
     "name": "stdout",
     "output_type": "stream",
     "text": [
      "Epoch 483,Average_loss 0.192385, Average Accucracy 0.624694\n",
      "  Inputs Words: ['how', 'are', 'you']\n",
      "  Replied Words: fine fine <EOS>\n",
      "\n",
      "\n"
     ]
    },
    {
     "name": "stderr",
     "output_type": "stream",
     "text": [
      "100%|██████████| 179/179 [00:08<00:00, 21.58it/s]\n"
     ]
    },
    {
     "name": "stdout",
     "output_type": "stream",
     "text": [
      "Epoch 484,Average_loss 0.195063, Average Accucracy 0.622090\n",
      "  Inputs Words: ['how', 'are', 'you']\n",
      "  Replied Words: fine fine <EOS>\n",
      "\n",
      "\n"
     ]
    },
    {
     "name": "stderr",
     "output_type": "stream",
     "text": [
      "100%|██████████| 179/179 [00:08<00:00, 22.20it/s]\n"
     ]
    },
    {
     "name": "stdout",
     "output_type": "stream",
     "text": [
      "Epoch 485,Average_loss 0.192861, Average Accucracy 0.622840\n",
      "  Inputs Words: ['how', 'are', 'you']\n",
      "  Replied Words: fine fine <EOS>\n",
      "\n",
      "\n"
     ]
    },
    {
     "name": "stderr",
     "output_type": "stream",
     "text": [
      "100%|██████████| 179/179 [00:08<00:00, 22.22it/s]\n"
     ]
    },
    {
     "name": "stdout",
     "output_type": "stream",
     "text": [
      "Epoch 486,Average_loss 0.191995, Average Accucracy 0.623618\n",
      "  Inputs Words: ['how', 'are', 'you']\n",
      "  Replied Words: fine fine <EOS>\n",
      "\n",
      "\n"
     ]
    },
    {
     "name": "stderr",
     "output_type": "stream",
     "text": [
      "100%|██████████| 179/179 [00:08<00:00, 22.00it/s]\n"
     ]
    },
    {
     "name": "stdout",
     "output_type": "stream",
     "text": [
      "Epoch 487,Average_loss 0.190027, Average Accucracy 0.623472\n",
      "  Inputs Words: ['how', 'are', 'you']\n",
      "  Replied Words: fine more <EOS>\n",
      "\n",
      "\n"
     ]
    },
    {
     "name": "stderr",
     "output_type": "stream",
     "text": [
      "100%|██████████| 179/179 [00:08<00:00, 21.69it/s]\n"
     ]
    },
    {
     "name": "stdout",
     "output_type": "stream",
     "text": [
      "Epoch 488,Average_loss 0.189534, Average Accucracy 0.625378\n",
      "  Inputs Words: ['how', 'are', 'you']\n",
      "  Replied Words: excuse me <EOS>\n",
      "\n",
      "\n"
     ]
    },
    {
     "name": "stderr",
     "output_type": "stream",
     "text": [
      "100%|██████████| 179/179 [00:08<00:00, 22.21it/s]\n"
     ]
    },
    {
     "name": "stdout",
     "output_type": "stream",
     "text": [
      "Epoch 489,Average_loss 0.187096, Average Accucracy 0.624105\n",
      "  Inputs Words: ['how', 'are', 'you']\n",
      "  Replied Words: fine fine <EOS>\n",
      "\n",
      "\n"
     ]
    },
    {
     "name": "stderr",
     "output_type": "stream",
     "text": [
      "100%|██████████| 179/179 [00:08<00:00, 22.07it/s]\n"
     ]
    },
    {
     "name": "stdout",
     "output_type": "stream",
     "text": [
      "Epoch 490,Average_loss 0.193064, Average Accucracy 0.623851\n",
      "  Inputs Words: ['how', 'are', 'you']\n",
      "  Replied Words: fine fine <EOS>\n",
      "\n",
      "\n"
     ]
    },
    {
     "name": "stderr",
     "output_type": "stream",
     "text": [
      "100%|██████████| 179/179 [00:08<00:00, 22.20it/s]\n"
     ]
    },
    {
     "name": "stdout",
     "output_type": "stream",
     "text": [
      "Epoch 491,Average_loss 0.191730, Average Accucracy 0.623276\n",
      "  Inputs Words: ['how', 'are', 'you']\n",
      "  Replied Words: fine fine <EOS>\n",
      "\n",
      "\n"
     ]
    },
    {
     "name": "stderr",
     "output_type": "stream",
     "text": [
      "100%|██████████| 179/179 [00:08<00:00, 22.07it/s]\n"
     ]
    },
    {
     "name": "stdout",
     "output_type": "stream",
     "text": [
      "Epoch 492,Average_loss 0.192665, Average Accucracy 0.623865\n",
      "  Inputs Words: ['how', 'are', 'you']\n",
      "  Replied Words: fine fine <EOS>\n",
      "\n",
      "\n"
     ]
    },
    {
     "name": "stderr",
     "output_type": "stream",
     "text": [
      "100%|██████████| 179/179 [00:08<00:00, 21.91it/s]\n"
     ]
    },
    {
     "name": "stdout",
     "output_type": "stream",
     "text": [
      "Epoch 493,Average_loss 0.189942, Average Accucracy 0.624644\n",
      "  Inputs Words: ['how', 'are', 'you']\n",
      "  Replied Words: fine fine <EOS>\n",
      "\n",
      "\n"
     ]
    },
    {
     "name": "stderr",
     "output_type": "stream",
     "text": [
      "100%|██████████| 179/179 [00:08<00:00, 21.82it/s]\n"
     ]
    },
    {
     "name": "stdout",
     "output_type": "stream",
     "text": [
      "Epoch 494,Average_loss 0.188825, Average Accucracy 0.623072\n",
      "  Inputs Words: ['how', 'are', 'you']\n",
      "  Replied Words: fine fine <EOS>\n",
      "\n",
      "\n"
     ]
    },
    {
     "name": "stderr",
     "output_type": "stream",
     "text": [
      "100%|██████████| 179/179 [00:08<00:00, 22.01it/s]\n"
     ]
    },
    {
     "name": "stdout",
     "output_type": "stream",
     "text": [
      "Epoch 495,Average_loss 0.186330, Average Accucracy 0.625546\n",
      "  Inputs Words: ['how', 'are', 'you']\n",
      "  Replied Words: fine fine <EOS>\n",
      "\n",
      "\n"
     ]
    },
    {
     "name": "stderr",
     "output_type": "stream",
     "text": [
      "100%|██████████| 179/179 [00:08<00:00, 22.06it/s]\n"
     ]
    },
    {
     "name": "stdout",
     "output_type": "stream",
     "text": [
      "Epoch 496,Average_loss 0.189700, Average Accucracy 0.625800\n",
      "  Inputs Words: ['how', 'are', 'you']\n",
      "  Replied Words: goodhow are <EOS>\n",
      "\n",
      "\n"
     ]
    },
    {
     "name": "stderr",
     "output_type": "stream",
     "text": [
      "100%|██████████| 179/179 [00:08<00:00, 22.07it/s]\n"
     ]
    },
    {
     "name": "stdout",
     "output_type": "stream",
     "text": [
      "Epoch 497,Average_loss 0.190205, Average Accucracy 0.622083\n",
      "  Inputs Words: ['how', 'are', 'you']\n",
      "  Replied Words: fine fine <EOS>\n",
      "\n",
      "\n"
     ]
    },
    {
     "name": "stderr",
     "output_type": "stream",
     "text": [
      "100%|██████████| 179/179 [00:08<00:00, 22.09it/s]\n"
     ]
    },
    {
     "name": "stdout",
     "output_type": "stream",
     "text": [
      "Epoch 498,Average_loss 0.190295, Average Accucracy 0.624484\n",
      "  Inputs Words: ['how', 'are', 'you']\n",
      "  Replied Words: fine fine <EOS>\n",
      "\n",
      "\n"
     ]
    },
    {
     "name": "stderr",
     "output_type": "stream",
     "text": [
      "100%|██████████| 179/179 [00:08<00:00, 22.01it/s]\n"
     ]
    },
    {
     "name": "stdout",
     "output_type": "stream",
     "text": [
      "Epoch 499,Average_loss 0.187665, Average Accucracy 0.624374\n",
      "  Inputs Words: ['how', 'are', 'you']\n",
      "  Replied Words: fine fine <EOS>\n",
      "\n",
      "\n"
     ]
    },
    {
     "name": "stderr",
     "output_type": "stream",
     "text": [
      "100%|██████████| 179/179 [00:08<00:00, 22.05it/s]\n"
     ]
    },
    {
     "name": "stdout",
     "output_type": "stream",
     "text": [
      "Epoch 500,Average_loss 0.187716, Average Accucracy 0.626149\n",
      "  Inputs Words: ['how', 'are', 'you']\n",
      "  Replied Words: fine fine <EOS>\n",
      "\n",
      "\n"
     ]
    }
   ],
   "source": [
    "save_path = '/ML Projects/Global IA/Seq2Seq-Chatbot/Notebook/model_weights/model_weights'\n",
    "acc_plt = []\n",
    "loss_plt = []\n",
    "\n",
    "with tf.Session() as sess:\n",
    "    sess.run(tf.global_variables_initializer())\n",
    "    for epoch in range(epochs):\n",
    "        #_, summaries_str = sess.run([train_op, summaries_op])\n",
    "        #fw.add_summary(summaries_str, global_step=i)\n",
    "        total_accuracy = 0.0\n",
    "        total_loss = 0.0\n",
    "        for bs in tqdm(range(0,round_no  ,batch_size)):\n",
    "          index = min(bs+batch_size, round_no )\n",
    "          #print(bs,index)\n",
    "      \n",
    "          #padding done seperately for each batch in training and testing data\n",
    "          batch_x,len_x = pad_sentence(train_data[bs:index],pad_int)\n",
    "          batch_y,len_y = pad_sentence(test_data[bs:index],pad_int)\n",
    "          batch_x = np.array(batch_x)\n",
    "          batch_y = np.array(batch_y)\n",
    "        \n",
    "          pred,loss_f,opt = sess.run([inference_logits,cost,train_op], \n",
    "                                      feed_dict={input_data:batch_x,\n",
    "                                                target_data:batch_y,\n",
    "                                                input_data_len:len_x,\n",
    "                                                target_data_len:len_y,\n",
    "                                                lr_rate:learning_rate,\n",
    "                                                keep_prob:0.75})\n",
    "\n",
    "          train_acc = get_accuracy(batch_y, pred)\n",
    "          total_loss += loss_f \n",
    "          total_accuracy+=train_acc\n",
    "    \n",
    "        total_accuracy /= (round_no // batch_size)\n",
    "    \n",
    "        total_loss /=  (round_no//batch_size)\n",
    "        acc_plt.append(total_accuracy)\n",
    "        loss_plt.append(total_loss)\n",
    "        prediction_logits = sess.run(inference_logits, {input_data: [question_sentence]*batch_size,\n",
    "                                         input_data_len: [len(question_sentence)]*batch_size,\n",
    "                                         target_data_len: [len(question_sentence)]*batch_size,              \n",
    "                                         keep_prob: 0.75,\n",
    "                                         })[0]\n",
    "        print('Epoch %d,Average_loss %f, Average Accucracy %f'%(epoch+1,total_loss,total_accuracy))\n",
    "        print('  Inputs Words: {}'.format([index_to_vocabs[i] for i in question_sentence]))\n",
    "        print('  Replied Words: {}'.format(\" \".join([index_to_vocabs[i] for i in prediction_logits])))\n",
    "        print('\\n')\n",
    "        saver = tf.train.Saver() \n",
    "        saver.save(sess, save_path)\n",
    "    "
   ]
  },
  {
   "cell_type": "code",
   "execution_count": 43,
   "metadata": {
    "colab": {
     "base_uri": "https://localhost:8080/",
     "height": 295
    },
    "colab_type": "code",
    "id": "WkzXCp_swsP9",
    "outputId": "1ba662bb-8c48-4349-bb68-2635ccb58412"
   },
   "outputs": [
    {
     "data": {
      "image/png": "[encoded data removed]",
      "text/plain": [
       "<Figure size 432x288 with 1 Axes>"
      ]
     },
     "metadata": {
      "tags": []
     },
     "output_type": "display_data"
    }
   ],
   "source": [
    "plt.plot(range(epochs),acc_plt)\n",
    "plt.title(\"Change in Accuracy\")\n",
    "plt.xlabel('Epoch')\n",
    "plt.ylabel('Accuracy')\n",
    "plt.show()"
   ]
  },
  {
   "cell_type": "code",
   "execution_count": 44,
   "metadata": {
    "colab": {
     "base_uri": "https://localhost:8080/",
     "height": 295
    },
    "colab_type": "code",
    "id": "HcbTo1j0y9my",
    "outputId": "de08d92a-2dfe-4c31-fcaf-f186572108c7"
   },
   "outputs": [
    {
     "data": {
      "image/png": "[encoded data removed]",
      "text/plain": [
       "<Figure size 432x288 with 1 Axes>"
      ]
     },
     "metadata": {
      "tags": []
     },
     "output_type": "display_data"
    }
   ],
   "source": [
    "plt.plot(range(epochs),loss_plt)\n",
    "plt.title(\"Change in loss\")\n",
    "plt.xlabel('Epoch')\n",
    "plt.ylabel('Lost')\n",
    "plt.show()"
   ]
  },
  {
   "cell_type": "code",
   "execution_count": 0,
   "metadata": {
    "colab": {},
    "colab_type": "code",
    "id": "VwUlywN4Ajzl"
   },
   "outputs": [],
   "source": [
    "import pickle"
   ]
  },
  {
   "cell_type": "code",
   "execution_count": 0,
   "metadata": {
    "colab": {},
    "colab_type": "code",
    "id": "39MSfl6AAlTS"
   },
   "outputs": [],
   "source": [
    "pickle.dump(acc_plt,open('accuracy.p','wb'))"
   ]
  },
  {
   "cell_type": "code",
   "execution_count": 0,
   "metadata": {
    "colab": {},
    "colab_type": "code",
    "id": "XuRLcdV-BJQF"
   },
   "outputs": [],
   "source": [
    "pickle.dump(loss_plt,open('loss.p','wb'))"
   ]
  },
  {
   "cell_type": "markdown",
   "metadata": {
    "colab_type": "text",
    "id": "9AAND2Fk0SIr"
   },
   "source": []
  },
  {
   "cell_type": "code",
   "execution_count": 58,
   "metadata": {
    "colab": {
     "base_uri": "https://localhost:8080/",
     "height": 85
    },
    "colab_type": "code",
    "id": "Z9tjyWtGtorR",
    "outputId": "43d99274-29ef-4842-a837-ccac6f6bdc80"
   },
   "outputs": [
    {
     "name": "stdout",
     "output_type": "stream",
     "text": [
      "6283\n",
      "6284\n",
      "6285\n",
      "6286\n"
     ]
    }
   ],
   "source": [
    "garbage = []\n",
    "for code in codes:\n",
    "  print(vocabs_to_index[code])\n",
    "  garbage.append(vocabs_to_index[code])"
   ]
  },
  {
   "cell_type": "code",
   "execution_count": 0,
   "metadata": {
    "colab": {},
    "colab_type": "code",
    "id": "5kv4x-p94Rvk"
   },
   "outputs": [],
   "source": [
    "def print_data(i,batch_x,index_to_vocabs):\n",
    "  data = []\n",
    "  for n in batch_x[i]:\n",
    "    if n==garbage[1]:\n",
    "      break\n",
    "    else:\n",
    "      if n not in [6283,6285,6286]:\n",
    "        data.append(index_to_vocabs[n])\n",
    "  return data"
   ]
  },
  {
   "cell_type": "code",
   "execution_count": 0,
   "metadata": {
    "colab": {},
    "colab_type": "code",
    "id": "bC1ih2B396Bm"
   },
   "outputs": [],
   "source": [
    "ques = []\n",
    "real_answer = []\n",
    "pred_answer = []\n",
    "for i in range(len(val_batch_x)):\n",
    "  ques.append(print_data(i,batch_x,index_to_vocabs))\n",
    "  real_answer.append(print_data(i,batch_y,index_to_vocabs))\n",
    "  pred_answer.append(print_data(i,pred,index_to_vocabs))"
   ]
  },
  {
   "cell_type": "code",
   "execution_count": 111,
   "metadata": {
    "colab": {
     "base_uri": "https://localhost:8080/",
     "height": 10897
    },
    "colab_type": "code",
    "id": "QvUS1zq3_zqL",
    "outputId": "2c12f491-01cd-4486-b0af-00993da6780d",
    "scrolled": true
   },
   "outputs": [
    {
     "name": "stdout",
     "output_type": "stream",
     "text": [
      "row 1\n",
      "QUESTION: something wrong with buttons\n",
      "REAL ANSWER: buttons are\n",
      "PREDICTED ANSWER: buttons are \n",
      "\n",
      "row 2\n",
      "QUESTION: i am going this morning\n",
      "REAL ANSWER: but stoltzfus said\n",
      "PREDICTED ANSWER: but stoltzfus said \n",
      "\n",
      "row 3\n",
      "QUESTION: but stoltzfus said\n",
      "REAL ANSWER: i know what he said\n",
      "PREDICTED ANSWER: i know what he said \n",
      "\n",
      "row 4\n",
      "QUESTION: the bullets\n",
      "REAL ANSWER: oh the bullets\n",
      "PREDICTED ANSWER: oh the bullets \n",
      "\n",
      "row 5\n",
      "QUESTION: when will you be going\n",
      "REAL ANSWER: not long a few days\n",
      "PREDICTED ANSWER: not long a few days \n",
      "\n",
      "row 6\n",
      "QUESTION: i know\n",
      "REAL ANSWER: i was being foolish\n",
      "PREDICTED ANSWER: she works with she \n",
      "\n",
      "row 7\n",
      "QUESTION: where is my pants\n",
      "REAL ANSWER: here whenever you want them\n",
      "PREDICTED ANSWER: here whenever you want them \n",
      "\n",
      "row 8\n",
      "QUESTION: say again\n",
      "REAL ANSWER: make that\n",
      "PREDICTED ANSWER: you know \n",
      "\n",
      "row 9\n",
      "QUESTION: did you find him\n",
      "REAL ANSWER: not yet\n",
      "PREDICTED ANSWER: not yet \n",
      "\n",
      "row 10\n",
      "QUESTION: everything okay\n",
      "REAL ANSWER: yes thank you very much\n",
      "PREDICTED ANSWER: yeah dad it is great \n",
      "\n",
      "row 11\n",
      "QUESTION: yes thank you very much\n",
      "REAL ANSWER: john said you are amish\n",
      "PREDICTED ANSWER: john said you are amish \n",
      "\n",
      "row 12\n",
      "QUESTION: good morning\n",
      "REAL ANSWER: you did not have to\n",
      "PREDICTED ANSWER: good morning lieutenant sorry \n",
      "\n",
      "row 13\n",
      "QUESTION: who was that man\n",
      "REAL ANSWER: his name is john book\n",
      "PREDICTED ANSWER: his name is john book \n",
      "\n",
      "row 14\n",
      "QUESTION: i am not a child\n",
      "REAL ANSWER: you are acting like one\n",
      "PREDICTED ANSWER: you are acting like one \n",
      "\n",
      "row 15\n",
      "QUESTION: no rachel\n",
      "REAL ANSWER: i have to help him\n",
      "PREDICTED ANSWER: i have to help him \n",
      "\n",
      "row 16\n",
      "QUESTION: he will live\n",
      "REAL ANSWER: you might have killed him\n",
      "PREDICTED ANSWER: you might have killed him \n",
      "\n",
      "row 17\n",
      "QUESTION: get back in there\n",
      "REAL ANSWER: my son is out there\n",
      "PREDICTED ANSWER: my son is out there \n",
      "\n",
      "row 18\n",
      "QUESTION: aunt em\n",
      "REAL ANSWER: fiftyseven fiftyeight\n",
      "PREDICTED ANSWER: fiftyseven fiftyeight \n",
      "\n",
      "row 19\n",
      "QUESTION: are busy\n",
      "REAL ANSWER: oh all right\n",
      "PREDICTED ANSWER: oh all right \n",
      "\n",
      "row 20\n",
      "QUESTION: to see\n",
      "REAL ANSWER: if she\n",
      "PREDICTED ANSWER: if she \n",
      "\n",
      "row 21\n",
      "QUESTION: if she\n",
      "REAL ANSWER: if she\n",
      "PREDICTED ANSWER: if she \n",
      "\n",
      "row 22\n",
      "QUESTION: if she\n",
      "REAL ANSWER: is\n",
      "PREDICTED ANSWER: if she \n",
      "\n",
      "row 23\n",
      "QUESTION: oz has spoken\n",
      "REAL ANSWER: who are you\n",
      "PREDICTED ANSWER: who are you \n",
      "\n",
      "row 24\n",
      "QUESTION: yes\n",
      "REAL ANSWER: i do not believe you\n",
      "PREDICTED ANSWER: i do not believe you \n",
      "\n",
      "row 25\n",
      "QUESTION: run toto run\n",
      "REAL ANSWER: catch him you fool\n",
      "PREDICTED ANSWER: catch him you fool \n",
      "\n",
      "row 26\n",
      "QUESTION: toto too\n",
      "REAL ANSWER: toto too\n",
      "PREDICTED ANSWER: toto too \n",
      "\n",
      "row 27\n",
      "QUESTION: toto too\n",
      "REAL ANSWER: oh now\n",
      "PREDICTED ANSWER: oh now \n",
      "\n",
      "row 28\n",
      "QUESTION: oh now\n",
      "REAL ANSWER: whenever you wish\n",
      "PREDICTED ANSWER: whenever you wish \n",
      "\n",
      "row 29\n",
      "QUESTION: are you ready now\n",
      "REAL ANSWER: goodbye toto\n",
      "PREDICTED ANSWER: goodbye toto \n",
      "\n",
      "row 30\n",
      "QUESTION: aw come come come\n",
      "REAL ANSWER: no they will not honestly\n",
      "PREDICTED ANSWER: no they will not honestly \n",
      "\n",
      "row 31\n",
      "QUESTION: that is our farm\n",
      "REAL ANSWER: oh yes\n",
      "PREDICTED ANSWER: oh yes \n",
      "\n",
      "row 32\n",
      "QUESTION: her face is\n",
      "REAL ANSWER: yesthat is aunt em\n",
      "PREDICTED ANSWER: yesthat is aunt em \n",
      "\n",
      "row 33\n",
      "QUESTION: yesthat is aunt em\n",
      "REAL ANSWER: her her name is emily\n",
      "PREDICTED ANSWER: her her her emily \n",
      "\n",
      "row 34\n",
      "QUESTION: oil can\n",
      "REAL ANSWER: did you say something\n",
      "PREDICTED ANSWER: did you say something \n",
      "\n",
      "row 35\n",
      "QUESTION: did you say something\n",
      "REAL ANSWER: oil can\n",
      "PREDICTED ANSWER: oil can \n",
      "\n",
      "row 36\n",
      "QUESTION: oh i will get it\n",
      "REAL ANSWER: oh oh\n",
      "PREDICTED ANSWER: oh oh \n",
      "\n",
      "row 37\n",
      "QUESTION: only oh\n",
      "REAL ANSWER: ohoh tin man oh\n",
      "PREDICTED ANSWER: ohoh tin man oh \n",
      "\n",
      "row 38\n",
      "QUESTION: oh my\n",
      "REAL ANSWER: lions and tigers and bears\n",
      "PREDICTED ANSWER: lions and tigers and bears \n",
      "\n",
      "row 39\n",
      "QUESTION: lions and tigers and bears\n",
      "REAL ANSWER: oh my\n",
      "PREDICTED ANSWER: oh my \n",
      "\n",
      "row 40\n",
      "QUESTION: oh my\n",
      "REAL ANSWER: lions and tigers and bears\n",
      "PREDICTED ANSWER: lions and tigers and bears \n",
      "\n",
      "row 41\n",
      "QUESTION: lions and tigers and bears\n",
      "REAL ANSWER: oh my\n",
      "PREDICTED ANSWER: oh my \n",
      "\n",
      "row 42\n",
      "QUESTION: oh my\n",
      "REAL ANSWER: lions and tigers and bears\n",
      "PREDICTED ANSWER: lions and tigers and bears \n",
      "\n",
      "row 43\n",
      "QUESTION: lions and tigers and bears\n",
      "REAL ANSWER: oh my\n",
      "PREDICTED ANSWER: oh my \n",
      "\n",
      "row 44\n",
      "QUESTION: oh my\n",
      "REAL ANSWER: lions and tigers and bears\n",
      "PREDICTED ANSWER: lions and tigers and bears \n",
      "\n",
      "row 45\n",
      "QUESTION: lions and tigers and bears\n",
      "REAL ANSWER: oh my\n",
      "PREDICTED ANSWER: oh my \n",
      "\n",
      "row 46\n",
      "QUESTION: a home\n",
      "REAL ANSWER: the nerve\n",
      "PREDICTED ANSWER: the nerve \n",
      "\n",
      "row 47\n",
      "QUESTION: i would sooner wait outside\n",
      "REAL ANSWER: but whywhy\n",
      "PREDICTED ANSWER: but whywhy \n",
      "\n",
      "row 48\n",
      "QUESTION: but whywhy\n",
      "REAL ANSWER: because i am still scared\n",
      "PREDICTED ANSWER: because i am still scared \n",
      "\n",
      "row 49\n",
      "QUESTION: because i am still scared\n",
      "REAL ANSWER: oh come on\n",
      "PREDICTED ANSWER: oh come on \n",
      "\n",
      "row 50\n",
      "QUESTION: oh oh come on\n",
      "REAL ANSWER: huhwhat would he say\n",
      "PREDICTED ANSWER: huhwhat would he say \n",
      "\n",
      "row 51\n",
      "QUESTION: oh oh toto\n",
      "REAL ANSWER: did they\n",
      "PREDICTED ANSWER: did they \n",
      "\n",
      "row 52\n",
      "QUESTION: to oz\n",
      "REAL ANSWER: to oz\n",
      "PREDICTED ANSWER: to oz \n",
      "\n",
      "row 53\n",
      "QUESTION: he said his mouth\n",
      "REAL ANSWER: here here\n",
      "PREDICTED ANSWER: here here \n",
      "\n",
      "row 54\n",
      "QUESTION: here here\n",
      "REAL ANSWER: the other side\n",
      "PREDICTED ANSWER: the other side \n",
      "\n",
      "row 55\n",
      "QUESTION: the other side\n",
      "REAL ANSWER: yes there\n",
      "PREDICTED ANSWER: yes there \n",
      "\n",
      "row 56\n",
      "QUESTION: the ruby slippers\n",
      "REAL ANSWER: the slippers yesthe slippers\n",
      "PREDICTED ANSWER: the slippers yesthe slippers \n",
      "\n",
      "row 57\n",
      "QUESTION: dorothy next\n",
      "REAL ANSWER: yes dorothy ah\n",
      "PREDICTED ANSWER: no dorothy 'em \n",
      "\n",
      "row 58\n",
      "QUESTION: who at\n",
      "REAL ANSWER: i do not know\n",
      "PREDICTED ANSWER: i do not know \n",
      "\n",
      "row 59\n",
      "QUESTION: what happened\n",
      "REAL ANSWER: somebody pulled my tail\n",
      "PREDICTED ANSWER: i do not know \n",
      "\n",
      "row 60\n",
      "QUESTION: somebody pulled my tail\n",
      "REAL ANSWER: oh you did it yourself\n",
      "PREDICTED ANSWER: oh you did it yourself \n",
      "\n",
      "row 61\n",
      "QUESTION: oh you did it yourself\n",
      "REAL ANSWER: i oh\n",
      "PREDICTED ANSWER: i remember \n",
      "\n",
      "row 62\n",
      "QUESTION: i oh\n",
      "REAL ANSWER: here come on\n",
      "PREDICTED ANSWER: here come on \n",
      "\n",
      "row 63\n",
      "QUESTION: here come on\n",
      "REAL ANSWER: what was that\n",
      "PREDICTED ANSWER: what was that \n",
      "\n",
      "row 64\n",
      "QUESTION: yeah me\n",
      "REAL ANSWER: yes you\n",
      "PREDICTED ANSWER: yes you \n",
      "\n",
      "row 65\n",
      "QUESTION: it is a whatzis\n",
      "REAL ANSWER: it is a whatzis\n",
      "PREDICTED ANSWER: it is a whatzis \n",
      "\n",
      "row 66\n",
      "QUESTION: nonow wait a minute\n",
      "REAL ANSWER: you do not neither\n",
      "PREDICTED ANSWER: you do not neither \n",
      "\n",
      "row 67\n",
      "QUESTION: mr gale\n",
      "REAL ANSWER: howdy miss\n",
      "PREDICTED ANSWER: howdy miss \n",
      "\n",
      "row 68\n",
      "QUESTION: about dorothy\n",
      "REAL ANSWER: what has dorothy done\n",
      "PREDICTED ANSWER: john what was a \n",
      "\n",
      "row 69\n",
      "QUESTION: you mean she bit you\n",
      "REAL ANSWER: no her dog\n",
      "PREDICTED ANSWER: no her dog \n",
      "\n",
      "row 70\n",
      "QUESTION: tin man\n",
      "REAL ANSWER: ohhhh it is me\n",
      "PREDICTED ANSWER: ohhhh it is me \n",
      "\n",
      "row 71\n",
      "QUESTION: no sir\n",
      "REAL ANSWER: no sir\n",
      "PREDICTED ANSWER: the diner \n",
      "\n",
      "row 72\n",
      "QUESTION: that is right\n",
      "REAL ANSWER: we do\n",
      "PREDICTED ANSWER: beat it \n",
      "\n",
      "row 73\n",
      "QUESTION: we do\n",
      "REAL ANSWER: to oz\n",
      "PREDICTED ANSWER: to oz \n",
      "\n",
      "row 74\n",
      "QUESTION: to oz\n",
      "REAL ANSWER: to oz\n",
      "PREDICTED ANSWER: to oz \n",
      "\n",
      "row 75\n",
      "QUESTION: come on come on\n",
      "REAL ANSWER: hurry hurry\n",
      "PREDICTED ANSWER: hurry up \n",
      "\n",
      "row 76\n",
      "QUESTION: ha ha ha\n",
      "REAL ANSWER: ho ho ho\n",
      "PREDICTED ANSWER: ho ho ho \n",
      "\n",
      "row 77\n",
      "QUESTION: oh look out\n",
      "REAL ANSWER: you know something\n",
      "PREDICTED ANSWER: you know something \n",
      "\n",
      "row 78\n",
      "QUESTION: it is a whozis\n",
      "REAL ANSWER: it is a whozis\n",
      "PREDICTED ANSWER: it is a whozis \n",
      "\n",
      "row 79\n",
      "QUESTION: help help help help help\n",
      "REAL ANSWER: ohwell what happened to you\n",
      "PREDICTED ANSWER: ohwell what happened to you \n",
      "\n",
      "row 80\n",
      "QUESTION: now now do not\n",
      "REAL ANSWER: oh dear dear\n",
      "PREDICTED ANSWER: oh dear dear \n",
      "\n",
      "row 81\n",
      "QUESTION: oh dear dear\n",
      "REAL ANSWER: we will get you together\n",
      "PREDICTED ANSWER: we will get you together \n",
      "\n",
      "row 82\n",
      "QUESTION: no you do not\n",
      "REAL ANSWER: oh no\n",
      "PREDICTED ANSWER: oh no \n",
      "\n",
      "row 83\n",
      "QUESTION: oh upstairs quickly\n",
      "REAL ANSWER: go on\n",
      "PREDICTED ANSWER: go on \n",
      "\n",
      "row 84\n",
      "QUESTION: hey what about dorothy\n",
      "REAL ANSWER: yes how about dorothy\n",
      "PREDICTED ANSWER: yes how about dorothy \n",
      "\n",
      "row 85\n",
      "QUESTION: what about us\n",
      "REAL ANSWER: well i\n",
      "PREDICTED ANSWER: well i \n",
      "\n",
      "row 86\n",
      "QUESTION: you new\n",
      "REAL ANSWER: yes miss\n",
      "PREDICTED ANSWER: yes miss \n",
      "\n",
      "row 87\n",
      "QUESTION: what happened to\n",
      "REAL ANSWER: make it headache\n",
      "PREDICTED ANSWER: make it headache \n",
      "\n",
      "row 88\n",
      "QUESTION: whos she\n",
      "REAL ANSWER: elektra king\n",
      "PREDICTED ANSWER: elektra king \n",
      "\n",
      "row 89\n",
      "QUESTION: the king pipeline\n",
      "REAL ANSWER: elektra would control it all\n",
      "PREDICTED ANSWER: elektra would control it all \n",
      "\n",
      "row 90\n",
      "QUESTION: but what if\n",
      "REAL ANSWER: count to be there\n",
      "PREDICTED ANSWER: count to be there \n",
      "\n",
      "row 91\n",
      "QUESTION: got to get out\n",
      "REAL ANSWER: we cant\n",
      "PREDICTED ANSWER: we cant \n",
      "\n",
      "row 92\n",
      "QUESTION: its just a scratch\n",
      "REAL ANSWER: really be\n",
      "PREDICTED ANSWER: really be \n",
      "\n",
      "row 93\n",
      "QUESTION: not exactly my line\n",
      "REAL ANSWER: quite the opposite in fact\n",
      "PREDICTED ANSWER: quite the opposite in fact \n",
      "\n",
      "row 94\n",
      "QUESTION: the inside man\n",
      "REAL ANSWER: is inside woman\n",
      "PREDICTED ANSWER: is inside woman \n",
      "\n",
      "row 95\n",
      "QUESTION: he was my father\n",
      "REAL ANSWER: im sorry\n",
      "PREDICTED ANSWER: im sorry \n",
      "\n",
      "row 96\n",
      "QUESTION: oh my buried alive\n",
      "REAL ANSWER: were alright\n",
      "PREDICTED ANSWER: were young \n",
      "\n",
      "row 97\n",
      "QUESTION: i cant stay here\n",
      "REAL ANSWER: youre not going to\n",
      "PREDICTED ANSWER: youre not going to \n",
      "\n",
      "row 98\n",
      "QUESTION: noit will cave in\n",
      "REAL ANSWER: its the only way out\n",
      "PREDICTED ANSWER: its the only way out \n",
      "\n",
      "row 99\n",
      "QUESTION: i cant stay\n",
      "REAL ANSWER: i know\n",
      "PREDICTED ANSWER: i know \n",
      "\n",
      "row 100\n",
      "QUESTION: what is it\n",
      "REAL ANSWER: you should rest\n",
      "PREDICTED ANSWER: it is perry \n",
      "\n",
      "row 101\n",
      "QUESTION: i have to go\n",
      "REAL ANSWER: then take me with you\n",
      "PREDICTED ANSWER: frightened you do \n",
      "\n",
      "row 102\n",
      "QUESTION: then take me with you\n",
      "REAL ANSWER: no youll be safe here\n",
      "PREDICTED ANSWER: no youll be safe here \n",
      "\n",
      "row 103\n",
      "QUESTION: vodka martini\n",
      "REAL ANSWER: two not\n",
      "PREDICTED ANSWER: two not \n",
      "\n",
      "row 104\n",
      "QUESTION: wheres m\n",
      "REAL ANSWER: soon shell be everywhere\n",
      "PREDICTED ANSWER: soon shell be everywhere \n",
      "\n",
      "row 105\n",
      "QUESTION: one last screw\n",
      "REAL ANSWER: oh james\n",
      "PREDICTED ANSWER: oh james \n",
      "\n",
      "row 106\n",
      "QUESTION: \n",
      "REAL ANSWER: what brings you here\n",
      "PREDICTED ANSWER: i am on my way \n",
      "\n",
      "row 107\n",
      "QUESTION: nowwhere were we\n",
      "REAL ANSWER: a rope\n",
      "PREDICTED ANSWER: a rope \n",
      "\n",
      "row 108\n",
      "QUESTION: wheres the sub going\n",
      "REAL ANSWER: me out\n",
      "PREDICTED ANSWER: me out \n",
      "\n",
      "row 109\n",
      "QUESTION: the tower\n",
      "REAL ANSWER: how appropriate\n",
      "PREDICTED ANSWER: how appropriate \n",
      "\n",
      "row 110\n",
      "QUESTION: ill send someone out\n",
      "REAL ANSWER: you come\n",
      "PREDICTED ANSWER: you come \n",
      "\n",
      "row 111\n",
      "QUESTION: someone will come\n",
      "REAL ANSWER: is dead\n",
      "PREDICTED ANSWER: is dead \n",
      "\n",
      "row 112\n",
      "QUESTION: he was lover\n",
      "REAL ANSWER: what do you think\n",
      "PREDICTED ANSWER: what do you think \n",
      "\n",
      "row 113\n",
      "QUESTION: any word from him\n",
      "REAL ANSWER: still no contact yet\n",
      "PREDICTED ANSWER: still no contact yet \n",
      "\n",
      "row 114\n",
      "QUESTION: hi jon\n",
      "REAL ANSWER: hello\n",
      "PREDICTED ANSWER: hello \n",
      "\n",
      "row 115\n",
      "QUESTION: what are you doing\n",
      "REAL ANSWER: do not understand\n",
      "PREDICTED ANSWER: do not understand \n",
      "\n",
      "row 116\n",
      "QUESTION: mm hmm\n",
      "REAL ANSWER: i could stay and go\n",
      "PREDICTED ANSWER: i could stay and go \n",
      "\n",
      "row 117\n",
      "QUESTION: what am i\n",
      "REAL ANSWER: cured yes\n",
      "PREDICTED ANSWER: cured yes \n",
      "\n",
      "row 118\n",
      "QUESTION: its very flowing backwards\n",
      "REAL ANSWER: jon what\n",
      "PREDICTED ANSWER: jon what \n",
      "\n",
      "row 119\n",
      "QUESTION: jon what\n",
      "REAL ANSWER: the south flowing backwards\n",
      "PREDICTED ANSWER: the south flowing backwards \n",
      "\n",
      "row 120\n",
      "QUESTION: jon where are we\n",
      "REAL ANSWER: complex\n",
      "PREDICTED ANSWER: complex \n",
      "\n",
      "row 121\n",
      "QUESTION: and what if youre wrong\n",
      "REAL ANSWER: im not\n",
      "PREDICTED ANSWER: im not \n",
      "\n",
      "row 122\n",
      "QUESTION: im not\n",
      "REAL ANSWER: what if youre wrong\n",
      "PREDICTED ANSWER: what if youre wrong \n",
      "\n",
      "row 123\n",
      "QUESTION: damn straight\n",
      "REAL ANSWER: damn were\n",
      "PREDICTED ANSWER: damn were \n",
      "\n",
      "row 124\n",
      "QUESTION: his what\n",
      "REAL ANSWER: his whatever\n",
      "PREDICTED ANSWER: his whatever \n",
      "\n",
      "row 125\n",
      "QUESTION: his whatever\n",
      "REAL ANSWER: i am not his\n",
      "PREDICTED ANSWER: i am not his \n",
      "\n",
      "row 126\n",
      "QUESTION: what are you up to\n",
      "REAL ANSWER: do not around\n",
      "PREDICTED ANSWER: do not around \n",
      "\n",
      "row 127\n",
      "QUESTION: they are following us\n",
      "REAL ANSWER: all accomplished\n",
      "PREDICTED ANSWER: all accomplished \n",
      "\n",
      "row 128\n",
      "QUESTION: those year is this\n",
      "REAL ANSWER: everything's changed\n",
      "PREDICTED ANSWER: everything's changed \n",
      "\n"
     ]
    }
   ],
   "source": [
    "for i in range(len(val_batch_x)):\n",
    "    print('row %d'%(i+1))\n",
    "    print('QUESTION:',' '.join(ques[i]))\n",
    "    print('REAL ANSWER:',' '.join(real_answer[i]))\n",
    "    print('PREDICTED ANSWER:',' '.join(pred_answer[i]),'\\n')"
   ]
  },
  {
   "cell_type": "code",
   "execution_count": null,
   "metadata": {
    "colab": {
     "base_uri": "https://localhost:8080/",
     "height": 153
    },
    "colab_type": "code",
    "id": "30qfB77zEMx8",
    "outputId": "457a6348-e21c-4d52-efe6-74143ec48e59"
   },
   "outputs": [],
   "source": [
    "question_sentence_2 = 'what are you doing?'\n",
    "question_sentence_2 = sentence_to_seq(question_sentence_2, vocabs_to_index)\n",
    "loaded_graph = tf.Graph()\n",
    "with tf.Session(graph=loaded_graph) as sess:\n",
    "    # Load saved model\n",
    "    loader = tf.train.import_meta_graph(save_path + '.meta')\n",
    "    loader.restore(sess, save_path)\n",
    "\n",
    "    input_data = loaded_graph.get_tensor_by_name('input:0')\n",
    "    logits = loaded_graph.get_tensor_by_name('predictions:0')\n",
    "    input_data_len = loaded_graph.get_tensor_by_name('input_len:0')\n",
    "    target_data_len = loaded_graph.get_tensor_by_name('target_len:0')\n",
    "    keep_prob = loaded_graph.get_tensor_by_name('keep_prob:0')\n",
    "\n",
    "    prediction_logits = sess.run(logits, {input_data: [question_sentence_2]*batch_size,\n",
    "                                         input_data_len: [len(question_sentence_2)]*batch_size,\n",
    "                                         target_data_len : [5]*batch_size,\n",
    "                                         keep_prob: 1.0})[0]\n",
    "\n",
    "print('Input')\n",
    "print('  Word Ids:      {}'.format([i for i in question_sentence_2]))\n",
    "print('  Question: {}'.format([index_to_vocabs[i] for i in question_sentence_2]))\n",
    "\n",
    "print('\\nPrediction')\n",
    "print('  Word Ids:      {}'.format([i for i in prediction_logits]))\n",
    "print('  Answer: {}'.format(\" \".join([index_to_vocabs[i] for i in prediction_logits])))"
   ]
  }
 ],
 "metadata": {
  "accelerator": "GPU",
  "colab": {
   "collapsed_sections": [],
   "name": "new_chatbot_checkling.ipynb",
   "provenance": [],
   "version": "0.3.2"
  },
  "kernelspec": {
   "display_name": "Python 3",
   "language": "python",
   "name": "python3"
  },
  "language_info": {
   "codemirror_mode": {
    "name": "ipython",
    "version": 3
   },
   "file_extension": ".py",
   "mimetype": "text/x-python",
   "name": "python",
   "nbconvert_exporter": "python",
   "pygments_lexer": "ipython3",
   "version": "3.6.5"
  }
 },
 "nbformat": 4,
 "nbformat_minor": 1
}
